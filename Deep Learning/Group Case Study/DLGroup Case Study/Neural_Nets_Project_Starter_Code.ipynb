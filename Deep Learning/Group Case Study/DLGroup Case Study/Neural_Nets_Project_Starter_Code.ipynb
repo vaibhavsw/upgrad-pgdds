{
 "cells": [
  {
   "cell_type": "markdown",
   "metadata": {},
   "source": [
    "# Gesture Recognition\n",
    "In this group project, you are going to build a 3D Conv model that will be able to predict the 5 gestures correctly. Please import the following libraries to get started."
   ]
  },
  {
   "cell_type": "code",
   "execution_count": 1,
   "metadata": {},
   "outputs": [
    {
     "name": "stderr",
     "output_type": "stream",
     "text": [
      "Using TensorFlow backend.\n"
     ]
    },
    {
     "name": "stdout",
     "output_type": "stream",
     "text": [
      "Imported\n"
     ]
    }
   ],
   "source": [
    "import numpy as np\n",
    "import os\n",
    "from scipy.misc import imread, imresize\n",
    "import datetime\n",
    "import os\n",
    "import abc\n",
    "\n",
    "from keras.models import Sequential, Model\n",
    "from keras.layers import Dense, GRU, Flatten, TimeDistributed, Dropout, BatchNormalization, Activation\n",
    "from keras.layers.convolutional import Conv3D, Conv2D, MaxPooling3D, MaxPooling2D\n",
    "from keras.callbacks import ModelCheckpoint, ReduceLROnPlateau, EarlyStopping\n",
    "from keras import optimizers\n",
    "\n",
    "import cv2\n",
    "import matplotlib.pyplot as plt\n",
    "% matplotlib inline\n",
    "\n",
    "print('Imported')"
   ]
  },
  {
   "cell_type": "markdown",
   "metadata": {},
   "source": [
    "We set the random seed so that the results don't vary drastically."
   ]
  },
  {
   "cell_type": "code",
   "execution_count": 2,
   "metadata": {},
   "outputs": [],
   "source": [
    "np.random.seed(30)\n",
    "import random as rn\n",
    "rn.seed(30)\n",
    "from keras import backend as K\n",
    "import tensorflow as tf\n",
    "tf.set_random_seed(30)"
   ]
  },
  {
   "cell_type": "code",
   "execution_count": 3,
   "metadata": {},
   "outputs": [],
   "source": [
    "def plot(history):\n",
    "    fig, axes = plt.subplots(nrows=1, ncols=2, figsize=(15,4))\n",
    "    axes[0].plot(history.history['loss'])   \n",
    "    axes[0].plot(history.history['val_loss'])\n",
    "    axes[0].legend(['loss','val_loss'])\n",
    "\n",
    "    axes[1].plot(history.history['categorical_accuracy'])   \n",
    "    axes[1].plot(history.history['val_categorical_accuracy'])\n",
    "    axes[1].legend(['categorical_accuracy','val_categorical_accuracy'])"
   ]
  },
  {
   "cell_type": "markdown",
   "metadata": {},
   "source": [
    "In this block, you read the folder names for training and validation. You also set the `batch_size` here. Note that you set the batch size in such a way that you are able to use the GPU in full capacity. You keep increasing the batch size until the machine throws an error."
   ]
  },
  {
   "cell_type": "code",
   "execution_count": 4,
   "metadata": {},
   "outputs": [],
   "source": [
    "# train_doc = np.random.permutation(open('/notebooks/storage/Final_data/Collated_training/train.csv').readlines())\n",
    "# val_doc = np.random.permutation(open('/notebooks/storage/Final_data/Collated_training/val.csv').readlines())\n",
    "\n",
    "train_doc = np.random.permutation(open('/mnt/disks/user/project/PROJECT/Project_data/train.csv').readlines())\n",
    "val_doc = np.random.permutation(open('/mnt/disks/user/project/PROJECT/Project_data/val.csv').readlines())"
   ]
  },
  {
   "cell_type": "markdown",
   "metadata": {},
   "source": [
    "## Generator\n",
    "This is one of the most important part of the code. The overall structure of the generator has been given. In the generator, you are going to preprocess the images as you have images of 2 different dimensions as well as create a batch of video frames. You have to experiment with `img_idx`, `y`,`z` and normalization such that you get high accuracy."
   ]
  },
  {
   "cell_type": "code",
   "execution_count": 5,
   "metadata": {},
   "outputs": [],
   "source": [
    "class ModelGenerator():\n",
    "    \n",
    "    def __init__(self, num_images_to_use=18, image_height=100, image_width=100, batch=15):\n",
    "        self.num_images_to_use = num_images_to_use\n",
    "        self.height = image_height \n",
    "        self.width = image_width\n",
    "        self.batch = batch\n",
    "        \n",
    "#         self.train_path = '/notebooks/storage/Final_data/Collated_training/train'\n",
    "#         self.val_path = '/notebooks/storage/Final_data/Collated_training/val'\n",
    "        \n",
    "        self.train_path = '/mnt/disks/user/project/PROJECT/Project_data/train'\n",
    "        self.val_path = '/mnt/disks/user/project/PROJECT/Project_data/val'\n",
    "\n",
    "    def __resize_image__(self, image):\n",
    "        \"\"\" Function is used to resize the images \"\"\"\n",
    "\n",
    "        if image.shape[1] == 160:\n",
    "            image = imresize(image[:,20:140,:],(self.height, self.width)).astype(np.float32)\n",
    "        else:\n",
    "            image = imresize(image,(self.height, self.width)).astype(np.float32)\n",
    "\n",
    "        return image\n",
    "    \n",
    "    def generate(self):\n",
    "        \n",
    "        batch_size = self.batch\n",
    "        \n",
    "        train_generator = self.__generator__(self.train_path, train_doc, batch_size)\n",
    "        val_generator = self.__generator__(self.val_path, val_doc, batch_size)\n",
    "        \n",
    "        return train_generator, val_generator\n",
    "        \n",
    "    \n",
    "    def __generator__(self, source_path, folder_list, batch_size):\n",
    "        print( 'Source path = ', source_path, '; batch size =', batch_size)\n",
    "        img_idx = [0,1,2,4,6,8,10,12,14,16,18,20,22,24,26,27,28,29]\n",
    "        x = num_images_to_use\n",
    "        y = self.height\n",
    "        z = self.width\n",
    "        batch_size = self.batch\n",
    "        while True:\n",
    "            t = np.random.permutation(folder_list)\n",
    "            num_batches = int(len(t)/batch_size)\n",
    "            for batch in range(num_batches): # we iterate over the number of batches\n",
    "                batch_data = np.zeros((batch_size,x,y,z,3)) # x is the number of images you use for each video, (y,z) is the final size of the input images and 3 is the number of channels RGB\n",
    "                batch_labels = np.zeros((batch_size,5)) # batch_labels is the one hot representation of the output\n",
    "                for folder in range(batch_size): # iterate over the batch_size\n",
    "                    imgs = os.listdir(source_path+'/'+ t[folder + (batch*batch_size)].split(';')[0]) # read all the images in the folder\n",
    "                    for idx,item in enumerate(img_idx): #  Iterate iver the frames/images of a folder to read them in\n",
    "                        image = imread(source_path+'/'+ t[folder + (batch*batch_size)].strip().split(';')[0]+'/'+imgs[item]).astype(np.float32)\n",
    "\n",
    "                        #crop the images and resize them. Note that the images are of 2 different shape \n",
    "                        #and the conv3D will throw error if the inputs in a batch have different shapes\n",
    "\n",
    "                        image = self.__resize_image__(image)\n",
    "\n",
    "                        batch_data[folder,idx,:,:,0] = image[:,:,0] - 104\n",
    "                        batch_data[folder,idx,:,:,1] = image[:,:,1] - 117\n",
    "                        batch_data[folder,idx,:,:,2] = image[:,:,2] - 123\n",
    "\n",
    "                    batch_labels[folder, int(t[folder + (batch*batch_size)].strip().split(';')[2])] = 1\n",
    "                yield batch_data, batch_labels #you yield the batch_data and the batch_labels, remember what does yield do\n",
    "\n",
    "\n",
    "            # write the code for the remaining data points which are left after full batches\n",
    "            remaining_squences = (len(t) % batch_size)\n",
    "\n",
    "            if remaining_squences != 0:\n",
    "                batch_data = np.zeros((batch_size,x,y,z,3)) # x is the number of images you use for each video, (y,z) is the final size of the input images and 3 is the number of channels RGB\n",
    "                batch_labels = np.zeros((batch_size,5)) # batch_labels is the one hot representation of the output\n",
    "\n",
    "                for folder in range(remaining_squences):\n",
    "                    imgs = os.listdir(source_path+'/'+ t[folder + (num_batches*batch_size)].split(';')[0])\n",
    "                    for idx,item in enumerate(img_idx):\n",
    "                        image = imread(source_path+'/'+ t[folder + (num_batches*batch_size)].strip().split(';')[0]+'/'+imgs[item]).astype(np.float32)\n",
    "\n",
    "                        #crop the images and resize them. Note that the images are of 2 different shape \n",
    "                        #and the conv3D will throw error if the inputs in a batch have different shapes\n",
    "                        image = self.__resize_image__(image)\n",
    "\n",
    "                        batch_data[folder,idx,:,:,0] = image[:,:,0] - 104\n",
    "                        batch_data[folder,idx,:,:,1] = image[:,:,1] - 117\n",
    "                        batch_data[folder,idx,:,:,2] = image[:,:,2] - 123\n",
    "\n",
    "                yield batch_data, batch_labels\n"
   ]
  },
  {
   "cell_type": "markdown",
   "metadata": {},
   "source": [
    "Note here that a video is represented above in the generator as (number of images, height, width, number of channels). Take this into consideration while creating the model architecture."
   ]
  },
  {
   "cell_type": "code",
   "execution_count": 6,
   "metadata": {},
   "outputs": [],
   "source": [
    "class ModelTrainer():\n",
    "    \n",
    "    def __init__(self, name, model_generator, model, optimizer, batch=15, epochs=25):\n",
    "        self.name = name\n",
    "        self.mg = model_generator\n",
    "        self.optimizer = optimizer\n",
    "        self.train_model = model\n",
    "        self.cbcks = None\n",
    "        self.batch = batch\n",
    "        \n",
    "        self.num_train_sequences = len(train_doc)\n",
    "        print('# training sequences =', self.num_train_sequences)\n",
    "        self.num_val_sequences = len(val_doc)\n",
    "        print('# validation sequences =', self.num_val_sequences)\n",
    "        self.num_epochs = epochs\n",
    "        print('# epochs =', self.num_epochs)\n",
    "        \n",
    "    \n",
    "    def __get_checkpoint__(self):\n",
    "        \n",
    "        curr_dt_time = datetime.datetime.now()\n",
    "        model_name = 'model_init_' + self.name + '_' + str(curr_dt_time).replace(' ','').replace(':','_') + '/'\n",
    "    \n",
    "        if not os.path.exists(model_name):\n",
    "            os.mkdir(model_name)\n",
    "\n",
    "        filepath = model_name + 'model-{epoch:05d}-{loss:.5f}-{categorical_accuracy:.5f}-{val_loss:.5f}-{val_categorical_accuracy:.5f}.h5'\n",
    "\n",
    "        return ModelCheckpoint(filepath, monitor='val_loss', verbose=1, save_best_only=False, save_weights_only=False, mode='auto', period=1)\n",
    "    \n",
    "    def __get_early_stop__(self):\n",
    "        es = EarlyStopping(monitor='val_categorical_accuracy', mode='max', patience=3, verbose=1)\n",
    "        \n",
    "        return es\n",
    "        \n",
    "    def set_callbacks(self, callbacks):\n",
    "        self.cbcks = callbacks\n",
    "        \n",
    "    def __get_callbacks__(self):\n",
    "        chkpt = self.__get_checkpoint__()\n",
    "        es = self.__get_early_stop__()\n",
    "        \n",
    "        if self.cbcks is None:\n",
    "            return [chkpt, es]\n",
    "        else:\n",
    "            self.cbcks.append(chkpt)\n",
    "            self.cbcks.append(es)\n",
    "            \n",
    "            return self.cbcks\n",
    "        \n",
    "        \n",
    "    def compile_model(self):\n",
    "        self.train_model.compile(optimizer=self.optimizer, loss='categorical_crossentropy', metrics=['categorical_accuracy'])\n",
    "        print(self.train_model.summary())\n",
    "        \n",
    "    def train(self):\n",
    "        \n",
    "        if (self.num_train_sequences%self.batch) == 0:\n",
    "            steps_per_epoch = int(self.num_train_sequences/self.batch)\n",
    "        else:\n",
    "            steps_per_epoch = (self.num_train_sequences//self.batch) + 1\n",
    "\n",
    "        if (self.num_val_sequences%self.batch) == 0:\n",
    "            validation_steps = int(self.num_val_sequences/self.batch)\n",
    "        else:\n",
    "            validation_steps = (self.num_val_sequences//self.batch) + 1\n",
    "        \n",
    "        train_generator, val_generator = self.mg.generate()\n",
    "        \n",
    "        callbacks = self.__get_callbacks__()\n",
    "        \n",
    "        return self.train_model.fit_generator(train_generator, steps_per_epoch=steps_per_epoch, epochs=self.num_epochs, verbose=1, \n",
    "                    callbacks=callbacks, validation_data=val_generator, \n",
    "                    validation_steps=validation_steps, class_weight=None, workers=1, initial_epoch=0)\n",
    "    \n",
    "    "
   ]
  },
  {
   "cell_type": "markdown",
   "metadata": {},
   "source": [
    "## Model\n",
    "Here you make the model using different functionalities that Keras provides. Remember to use `Conv3D` and `MaxPooling3D` and not `Conv2D` and `Maxpooling2D` for a 3D convolution model. You would want to use `TimeDistributed` while building a Conv2D + RNN model. Also remember that the last layer is the softmax. Design the network in such a way that the model is able to give good accuracy on the least number of parameters so that it can fit in the memory of the webcam.\n",
    "\n",
    "### First sample model"
   ]
  },
  {
   "cell_type": "code",
   "execution_count": 7,
   "metadata": {},
   "outputs": [],
   "source": [
    "\n",
    "# write your model here\n",
    "# Creting Conv3D\n",
    "\n",
    "num_images_to_use=20 \n",
    "image_height=100\n",
    "image_width=100\n",
    "\n",
    "model = Sequential([\n",
    "    Conv3D(16, (3,3,3), padding='same', input_shape=(num_images_to_use, image_height, image_width, 3)),\n",
    "    Activation('relu'),\n",
    "    BatchNormalization(),\n",
    "    MaxPooling3D(pool_size=(2,2,2)),\n",
    "    \n",
    "    Conv3D(32, (2,2,2), padding='same'),\n",
    "    Activation('relu'),\n",
    "    BatchNormalization(),\n",
    "    MaxPooling3D(pool_size=(2,2,2), strides=(2,2,2)),\n",
    "    \n",
    "    Conv3D(64, (2,2,2), padding='same'),\n",
    "    Activation('relu'),\n",
    "    BatchNormalization(),\n",
    "    MaxPooling3D(pool_size=(2,2,2), strides=(2,2,2)),\n",
    "           \n",
    "    Conv3D(128, (3,3,3), strides=(1,1,1), padding='same'),\n",
    "    Activation('relu'),\n",
    "    BatchNormalization(),\n",
    "    MaxPooling3D(pool_size=(2,2,2), strides=(2,2,2)),\n",
    "           \n",
    "           \n",
    "    Flatten(),\n",
    "    Dense(128, activation='relu'),\n",
    "    BatchNormalization(),\n",
    "    Dropout(0.5),\n",
    "    \n",
    "    \n",
    "    Dense(64, activation='relu'),\n",
    "    BatchNormalization(),\n",
    "    Dropout(0.25),\n",
    "    \n",
    "    Dense(5, activation='softmax')\n",
    "])"
   ]
  },
  {
   "cell_type": "markdown",
   "metadata": {},
   "source": [
    "Now that you have written the model, the next step is to `compile` the model. When you print the `summary` of the model, you'll see the total number of parameters you have to train."
   ]
  },
  {
   "cell_type": "code",
   "execution_count": 8,
   "metadata": {
    "scrolled": false
   },
   "outputs": [
    {
     "name": "stdout",
     "output_type": "stream",
     "text": [
      "# training sequences = 663\n",
      "# validation sequences = 100\n",
      "# epochs = 25\n",
      "_________________________________________________________________\n",
      "Layer (type)                 Output Shape              Param #   \n",
      "=================================================================\n",
      "conv3d_1 (Conv3D)            (None, 20, 100, 100, 16)  1312      \n",
      "_________________________________________________________________\n",
      "activation_1 (Activation)    (None, 20, 100, 100, 16)  0         \n",
      "_________________________________________________________________\n",
      "batch_normalization_1 (Batch (None, 20, 100, 100, 16)  64        \n",
      "_________________________________________________________________\n",
      "max_pooling3d_1 (MaxPooling3 (None, 10, 50, 50, 16)    0         \n",
      "_________________________________________________________________\n",
      "conv3d_2 (Conv3D)            (None, 10, 50, 50, 32)    4128      \n",
      "_________________________________________________________________\n",
      "activation_2 (Activation)    (None, 10, 50, 50, 32)    0         \n",
      "_________________________________________________________________\n",
      "batch_normalization_2 (Batch (None, 10, 50, 50, 32)    128       \n",
      "_________________________________________________________________\n",
      "max_pooling3d_2 (MaxPooling3 (None, 5, 25, 25, 32)     0         \n",
      "_________________________________________________________________\n",
      "conv3d_3 (Conv3D)            (None, 5, 25, 25, 64)     16448     \n",
      "_________________________________________________________________\n",
      "activation_3 (Activation)    (None, 5, 25, 25, 64)     0         \n",
      "_________________________________________________________________\n",
      "batch_normalization_3 (Batch (None, 5, 25, 25, 64)     256       \n",
      "_________________________________________________________________\n",
      "max_pooling3d_3 (MaxPooling3 (None, 2, 12, 12, 64)     0         \n",
      "_________________________________________________________________\n",
      "conv3d_4 (Conv3D)            (None, 2, 12, 12, 128)    221312    \n",
      "_________________________________________________________________\n",
      "activation_4 (Activation)    (None, 2, 12, 12, 128)    0         \n",
      "_________________________________________________________________\n",
      "batch_normalization_4 (Batch (None, 2, 12, 12, 128)    512       \n",
      "_________________________________________________________________\n",
      "max_pooling3d_4 (MaxPooling3 (None, 1, 6, 6, 128)      0         \n",
      "_________________________________________________________________\n",
      "flatten_1 (Flatten)          (None, 4608)              0         \n",
      "_________________________________________________________________\n",
      "dense_1 (Dense)              (None, 128)               589952    \n",
      "_________________________________________________________________\n",
      "batch_normalization_5 (Batch (None, 128)               512       \n",
      "_________________________________________________________________\n",
      "dropout_1 (Dropout)          (None, 128)               0         \n",
      "_________________________________________________________________\n",
      "dense_2 (Dense)              (None, 64)                8256      \n",
      "_________________________________________________________________\n",
      "batch_normalization_6 (Batch (None, 64)                256       \n",
      "_________________________________________________________________\n",
      "dropout_2 (Dropout)          (None, 64)                0         \n",
      "_________________________________________________________________\n",
      "dense_3 (Dense)              (None, 5)                 325       \n",
      "=================================================================\n",
      "Total params: 843,461\n",
      "Trainable params: 842,597\n",
      "Non-trainable params: 864\n",
      "_________________________________________________________________\n",
      "None\n"
     ]
    }
   ],
   "source": [
    "optimiser = optimizers.Adam(lr=0.001)\n",
    "\n",
    "mg = ModelGenerator(num_images_to_use=16, image_height=100, image_width=100)\n",
    "mt = ModelTrainer('conv3d_1', mg, model, optimiser)\n",
    "mt.compile_model()"
   ]
  },
  {
   "cell_type": "code",
   "execution_count": 9,
   "metadata": {},
   "outputs": [
    {
     "name": "stderr",
     "output_type": "stream",
     "text": [
      "/mnt/disks/user/anaconda3/lib/python3.6/site-packages/keras/callbacks.py:999: UserWarning: `epsilon` argument is deprecated and will be removed, use `min_delta` instead.\n",
      "  warnings.warn('`epsilon` argument is deprecated and '\n"
     ]
    }
   ],
   "source": [
    "LR = ReduceLROnPlateau(monitor='val_loss', factor=0.5, patience=2, verbose=1, mode='min', epsilon=0.0001, cooldown=0, min_lr=0.00001)"
   ]
  },
  {
   "cell_type": "code",
   "execution_count": 19,
   "metadata": {
    "scrolled": false
   },
   "outputs": [
    {
     "name": "stdout",
     "output_type": "stream",
     "text": [
      "Source path =  Source path =  /mnt/disks/user/project/PROJECT/Project_data/train ; batch size = 15\n",
      "/mnt/disks/user/project/PROJECT/Project_data/val ; batch size =Epoch 1/25 15\n",
      "\n"
     ]
    },
    {
     "name": "stderr",
     "output_type": "stream",
     "text": [
      "/mnt/disks/user/anaconda3/lib/python3.6/site-packages/ipykernel_launcher.py:51: DeprecationWarning: `imread` is deprecated!\n",
      "`imread` is deprecated in SciPy 1.0.0, and will be removed in 1.2.0.\n",
      "Use ``imageio.imread`` instead.\n",
      "/mnt/disks/user/anaconda3/lib/python3.6/site-packages/ipykernel_launcher.py:19: DeprecationWarning: `imresize` is deprecated!\n",
      "`imresize` is deprecated in SciPy 1.0.0, and will be removed in 1.2.0.\n",
      "Use ``skimage.transform.resize`` instead.\n",
      "/mnt/disks/user/anaconda3/lib/python3.6/site-packages/ipykernel_launcher.py:21: DeprecationWarning: `imresize` is deprecated!\n",
      "`imresize` is deprecated in SciPy 1.0.0, and will be removed in 1.2.0.\n",
      "Use ``skimage.transform.resize`` instead.\n",
      "/mnt/disks/user/anaconda3/lib/python3.6/site-packages/ipykernel_launcher.py:76: DeprecationWarning: `imread` is deprecated!\n",
      "`imread` is deprecated in SciPy 1.0.0, and will be removed in 1.2.0.\n",
      "Use ``imageio.imread`` instead.\n"
     ]
    },
    {
     "name": "stdout",
     "output_type": "stream",
     "text": [
      "45/45 [==============================] - 139s 3s/step - loss: 1.6996 - categorical_accuracy: 0.3659 - val_loss: 1.3951 - val_categorical_accuracy: 0.3619\n",
      "\n",
      "Epoch 00001: saving model to model_init_conv3d_1_2021-02-0511_12_06.948919/model-00001-1.69956-0.36593-1.39514-0.36190.h5\n",
      "Epoch 2/25\n",
      "45/45 [==============================] - 54s 1s/step - loss: 1.1695 - categorical_accuracy: 0.5289 - val_loss: 1.0626 - val_categorical_accuracy: 0.4286\n",
      "\n",
      "Epoch 00002: saving model to model_init_conv3d_1_2021-02-0511_12_06.948919/model-00002-1.16946-0.52889-1.06261-0.42857.h5\n",
      "Epoch 3/25\n",
      "45/45 [==============================] - 43s 960ms/step - loss: 0.9809 - categorical_accuracy: 0.6044 - val_loss: 0.8831 - val_categorical_accuracy: 0.5143\n",
      "\n",
      "Epoch 00003: saving model to model_init_conv3d_1_2021-02-0511_12_06.948919/model-00003-0.98092-0.60444-0.88311-0.51429.h5\n",
      "Epoch 4/25\n",
      "45/45 [==============================] - 43s 960ms/step - loss: 0.8462 - categorical_accuracy: 0.6267 - val_loss: 1.2019 - val_categorical_accuracy: 0.4952\n",
      "\n",
      "Epoch 00004: saving model to model_init_conv3d_1_2021-02-0511_12_06.948919/model-00004-0.84620-0.62667-1.20191-0.49524.h5\n",
      "Epoch 5/25\n",
      "45/45 [==============================] - 44s 968ms/step - loss: 0.7614 - categorical_accuracy: 0.7141 - val_loss: 0.9493 - val_categorical_accuracy: 0.5429\n",
      "\n",
      "Epoch 00005: saving model to model_init_conv3d_1_2021-02-0511_12_06.948919/model-00005-0.76139-0.71407-0.94928-0.54286.h5\n",
      "Epoch 6/25\n",
      "45/45 [==============================] - 43s 959ms/step - loss: 0.8796 - categorical_accuracy: 0.6415 - val_loss: 0.8658 - val_categorical_accuracy: 0.4952\n",
      "\n",
      "Epoch 00006: saving model to model_init_conv3d_1_2021-02-0511_12_06.948919/model-00006-0.87960-0.64148-0.86581-0.49524.h5\n",
      "Epoch 7/25\n",
      "45/45 [==============================] - 44s 976ms/step - loss: 0.7577 - categorical_accuracy: 0.6889 - val_loss: 0.8383 - val_categorical_accuracy: 0.5238\n",
      "\n",
      "Epoch 00007: saving model to model_init_conv3d_1_2021-02-0511_12_06.948919/model-00007-0.75774-0.68889-0.83835-0.52381.h5\n",
      "Epoch 8/25\n",
      "45/45 [==============================] - 45s 989ms/step - loss: 0.6549 - categorical_accuracy: 0.7156 - val_loss: 0.9780 - val_categorical_accuracy: 0.5143\n",
      "\n",
      "Epoch 00008: saving model to model_init_conv3d_1_2021-02-0511_12_06.948919/model-00008-0.65490-0.71556-0.97805-0.51429.h5\n",
      "Epoch 00008: early stopping\n"
     ]
    }
   ],
   "source": [
    "model1_history = mt.train()"
   ]
  },
  {
   "cell_type": "code",
   "execution_count": 20,
   "metadata": {},
   "outputs": [
    {
     "data": {
      "image/png": "[encoded data removed]",
      "text/plain": [
       "<Figure size 1080x288 with 2 Axes>"
      ]
     },
     "metadata": {},
     "output_type": "display_data"
    }
   ],
   "source": [
    "plot(model1_history)"
   ]
  },
  {
   "cell_type": "markdown",
   "metadata": {},
   "source": [
    "### Playing with the resolution of image\n",
    "\n",
    "Keeping all other parameters same and changing the resolution of the image used and the number of images used"
   ]
  },
  {
   "cell_type": "code",
   "execution_count": 21,
   "metadata": {},
   "outputs": [],
   "source": [
    "num_images_to_use = 18\n",
    "image_height = 160\n",
    "image_width = 160\n",
    "\n",
    "model2 = Sequential([\n",
    "    Conv3D(16, (3,3,3), padding='same', input_shape=(num_images_to_use, image_height, image_width, 3)),\n",
    "    Activation('relu'),\n",
    "    BatchNormalization(),\n",
    "    MaxPooling3D(pool_size=(2,2,2)),\n",
    "    \n",
    "    Conv3D(32, (2,2,2), padding='same'),\n",
    "    Activation('relu'),\n",
    "    BatchNormalization(),\n",
    "    MaxPooling3D(pool_size=(2,2,2), strides=(2,2,2)),\n",
    "    \n",
    "    Conv3D(64, (2,2,2), padding='same'),\n",
    "    Activation('relu'),\n",
    "    BatchNormalization(),\n",
    "    MaxPooling3D(pool_size=(2,2,2), strides=(2,2,2)),\n",
    "           \n",
    "    Conv3D(128, (3,3,3), strides=(1,1,1), padding='same'),\n",
    "    Activation('relu'),\n",
    "    BatchNormalization(),\n",
    "    MaxPooling3D(pool_size=(2,2,2), strides=(2,2,2)),\n",
    "           \n",
    "           \n",
    "    Flatten(),\n",
    "    Dense(64, activation='relu'),\n",
    "    BatchNormalization(),\n",
    "    Dropout(0.5),\n",
    "    \n",
    "    \n",
    "    Dense(64, activation='relu'),\n",
    "    BatchNormalization(),\n",
    "    Dropout(0.25),\n",
    "    \n",
    "    Dense(5, activation='softmax')\n",
    "])"
   ]
  },
  {
   "cell_type": "code",
   "execution_count": 22,
   "metadata": {},
   "outputs": [
    {
     "name": "stdout",
     "output_type": "stream",
     "text": [
      "# training sequences = 663\n",
      "# validation sequences = 100\n",
      "# epochs = 25\n",
      "_________________________________________________________________\n",
      "Layer (type)                 Output Shape              Param #   \n",
      "=================================================================\n",
      "conv3d_9 (Conv3D)            (None, 18, 160, 160, 16)  1312      \n",
      "_________________________________________________________________\n",
      "activation_9 (Activation)    (None, 18, 160, 160, 16)  0         \n",
      "_________________________________________________________________\n",
      "batch_normalization_13 (Batc (None, 18, 160, 160, 16)  64        \n",
      "_________________________________________________________________\n",
      "max_pooling3d_9 (MaxPooling3 (None, 9, 80, 80, 16)     0         \n",
      "_________________________________________________________________\n",
      "conv3d_10 (Conv3D)           (None, 9, 80, 80, 32)     4128      \n",
      "_________________________________________________________________\n",
      "activation_10 (Activation)   (None, 9, 80, 80, 32)     0         \n",
      "_________________________________________________________________\n",
      "batch_normalization_14 (Batc (None, 9, 80, 80, 32)     128       \n",
      "_________________________________________________________________\n",
      "max_pooling3d_10 (MaxPooling (None, 4, 40, 40, 32)     0         \n",
      "_________________________________________________________________\n",
      "conv3d_11 (Conv3D)           (None, 4, 40, 40, 64)     16448     \n",
      "_________________________________________________________________\n",
      "activation_11 (Activation)   (None, 4, 40, 40, 64)     0         \n",
      "_________________________________________________________________\n",
      "batch_normalization_15 (Batc (None, 4, 40, 40, 64)     256       \n",
      "_________________________________________________________________\n",
      "max_pooling3d_11 (MaxPooling (None, 2, 20, 20, 64)     0         \n",
      "_________________________________________________________________\n",
      "conv3d_12 (Conv3D)           (None, 2, 20, 20, 128)    221312    \n",
      "_________________________________________________________________\n",
      "activation_12 (Activation)   (None, 2, 20, 20, 128)    0         \n",
      "_________________________________________________________________\n",
      "batch_normalization_16 (Batc (None, 2, 20, 20, 128)    512       \n",
      "_________________________________________________________________\n",
      "max_pooling3d_12 (MaxPooling (None, 1, 10, 10, 128)    0         \n",
      "_________________________________________________________________\n",
      "flatten_3 (Flatten)          (None, 12800)             0         \n",
      "_________________________________________________________________\n",
      "dense_7 (Dense)              (None, 64)                819264    \n",
      "_________________________________________________________________\n",
      "batch_normalization_17 (Batc (None, 64)                256       \n",
      "_________________________________________________________________\n",
      "dropout_5 (Dropout)          (None, 64)                0         \n",
      "_________________________________________________________________\n",
      "dense_8 (Dense)              (None, 64)                4160      \n",
      "_________________________________________________________________\n",
      "batch_normalization_18 (Batc (None, 64)                256       \n",
      "_________________________________________________________________\n",
      "dropout_6 (Dropout)          (None, 64)                0         \n",
      "_________________________________________________________________\n",
      "dense_9 (Dense)              (None, 5)                 325       \n",
      "=================================================================\n",
      "Total params: 1,068,421\n",
      "Trainable params: 1,067,685\n",
      "Non-trainable params: 736\n",
      "_________________________________________________________________\n",
      "None\n"
     ]
    }
   ],
   "source": [
    "optimiser = optimizers.Adam(lr=0.001)\n",
    "\n",
    "mg = ModelGenerator(num_images_to_use=num_images_to_use, image_height=image_height, image_width=image_width)\n",
    "mt = ModelTrainer('conv3d_2', mg, model2, optimiser)\n",
    "mt.compile_model()"
   ]
  },
  {
   "cell_type": "code",
   "execution_count": 23,
   "metadata": {
    "scrolled": false
   },
   "outputs": [
    {
     "name": "stdout",
     "output_type": "stream",
     "text": [
      "Source path =  /mnt/disks/user/project/PROJECT/Project_data/val ; batch size = 15\n",
      "Source path =  /mnt/disks/user/project/PROJECT/Project_data/train ; batch size = 15\n",
      "Epoch 1/25\n"
     ]
    },
    {
     "name": "stderr",
     "output_type": "stream",
     "text": [
      "/mnt/disks/user/anaconda3/lib/python3.6/site-packages/ipykernel_launcher.py:51: DeprecationWarning: `imread` is deprecated!\n",
      "`imread` is deprecated in SciPy 1.0.0, and will be removed in 1.2.0.\n",
      "Use ``imageio.imread`` instead.\n",
      "/mnt/disks/user/anaconda3/lib/python3.6/site-packages/ipykernel_launcher.py:19: DeprecationWarning: `imresize` is deprecated!\n",
      "`imresize` is deprecated in SciPy 1.0.0, and will be removed in 1.2.0.\n",
      "Use ``skimage.transform.resize`` instead.\n",
      "/mnt/disks/user/anaconda3/lib/python3.6/site-packages/ipykernel_launcher.py:21: DeprecationWarning: `imresize` is deprecated!\n",
      "`imresize` is deprecated in SciPy 1.0.0, and will be removed in 1.2.0.\n",
      "Use ``skimage.transform.resize`` instead.\n"
     ]
    },
    {
     "name": "stdout",
     "output_type": "stream",
     "text": [
      " 6/45 [===>..........................] - ETA: 1:08 - loss: 2.3585 - categorical_accuracy: 0.2111"
     ]
    },
    {
     "name": "stderr",
     "output_type": "stream",
     "text": [
      "/mnt/disks/user/anaconda3/lib/python3.6/site-packages/ipykernel_launcher.py:76: DeprecationWarning: `imread` is deprecated!\n",
      "`imread` is deprecated in SciPy 1.0.0, and will be removed in 1.2.0.\n",
      "Use ``imageio.imread`` instead.\n"
     ]
    },
    {
     "name": "stdout",
     "output_type": "stream",
     "text": [
      "45/45 [==============================] - 60s 1s/step - loss: 1.6083 - categorical_accuracy: 0.3941 - val_loss: 1.1370 - val_categorical_accuracy: 0.4095\n",
      "\n",
      "Epoch 00001: saving model to model_init_conv3d_2_2021-02-0511_21_35.967371/model-00001-1.60831-0.39407-1.13698-0.40952.h5\n",
      "Epoch 2/25\n",
      "45/45 [==============================] - 53s 1s/step - loss: 1.1936 - categorical_accuracy: 0.4874 - val_loss: 0.7797 - val_categorical_accuracy: 0.5714\n",
      "\n",
      "Epoch 00002: saving model to model_init_conv3d_2_2021-02-0511_21_35.967371/model-00002-1.19363-0.48741-0.77974-0.57143.h5\n",
      "Epoch 3/25\n",
      "45/45 [==============================] - 55s 1s/step - loss: 1.0507 - categorical_accuracy: 0.5393 - val_loss: 0.8747 - val_categorical_accuracy: 0.4952\n",
      "\n",
      "Epoch 00003: saving model to model_init_conv3d_2_2021-02-0511_21_35.967371/model-00003-1.05073-0.53926-0.87474-0.49524.h5\n",
      "Epoch 4/25\n",
      "45/45 [==============================] - 55s 1s/step - loss: 0.9108 - categorical_accuracy: 0.6222 - val_loss: 0.7555 - val_categorical_accuracy: 0.6381\n",
      "\n",
      "Epoch 00004: saving model to model_init_conv3d_2_2021-02-0511_21_35.967371/model-00004-0.91083-0.62222-0.75546-0.63810.h5\n",
      "Epoch 5/25\n",
      "45/45 [==============================] - 54s 1s/step - loss: 0.8603 - categorical_accuracy: 0.6548 - val_loss: 1.1754 - val_categorical_accuracy: 0.4476\n",
      "\n",
      "Epoch 00005: saving model to model_init_conv3d_2_2021-02-0511_21_35.967371/model-00005-0.86032-0.65481-1.17537-0.44762.h5\n",
      "Epoch 6/25\n",
      "45/45 [==============================] - 53s 1s/step - loss: 0.7777 - categorical_accuracy: 0.6800 - val_loss: 0.6758 - val_categorical_accuracy: 0.5810\n",
      "\n",
      "Epoch 00006: saving model to model_init_conv3d_2_2021-02-0511_21_35.967371/model-00006-0.77769-0.68000-0.67581-0.58095.h5\n",
      "Epoch 7/25\n",
      "45/45 [==============================] - 55s 1s/step - loss: 0.6751 - categorical_accuracy: 0.7185 - val_loss: 0.8980 - val_categorical_accuracy: 0.5810\n",
      "\n",
      "Epoch 00007: saving model to model_init_conv3d_2_2021-02-0511_21_35.967371/model-00007-0.67511-0.71852-0.89803-0.58095.h5\n",
      "Epoch 00007: early stopping\n"
     ]
    }
   ],
   "source": [
    "model2_history = mt.train()"
   ]
  },
  {
   "cell_type": "code",
   "execution_count": 24,
   "metadata": {},
   "outputs": [
    {
     "data": {
      "image/png": "[encoded data removed]",
      "text/plain": [
       "<Figure size 1080x288 with 2 Axes>"
      ]
     },
     "metadata": {},
     "output_type": "display_data"
    }
   ],
   "source": [
    "plot(model2_history)"
   ]
  },
  {
   "cell_type": "markdown",
   "metadata": {},
   "source": [
    "### Changing filter size to = (3,3,3) and increasing the dense neuron size to 256"
   ]
  },
  {
   "cell_type": "code",
   "execution_count": 25,
   "metadata": {},
   "outputs": [],
   "source": [
    "num_images_to_use = 20\n",
    "image_height = 160\n",
    "image_width = 160\n",
    "\n",
    "model3 = Sequential([\n",
    "    Conv3D(16, (3,3,3), padding='same', input_shape=(num_images_to_use, image_height, image_width, 3)),\n",
    "    Activation('relu'),\n",
    "    BatchNormalization(),\n",
    "    MaxPooling3D(pool_size=(2,2,2)),\n",
    "    \n",
    "    Conv3D(32, (3,3,3), padding='same'),\n",
    "    Activation('relu'),\n",
    "    BatchNormalization(),\n",
    "    MaxPooling3D(pool_size=(2,2,2)),\n",
    "    \n",
    "#     Dropout(0.25),\n",
    "    \n",
    "    Conv3D(64, (3,3,3), padding='same'),\n",
    "    Activation('relu'),\n",
    "    BatchNormalization(),\n",
    "    MaxPooling3D(pool_size=(2,2,2)),\n",
    "           \n",
    "    Conv3D(128, (3,3,3), padding='same'),\n",
    "    Activation('relu'),\n",
    "    BatchNormalization(),\n",
    "    MaxPooling3D(pool_size=(2,2,2)),\n",
    "    \n",
    "    \n",
    "#     Conv3D(128, (3,3,3), padding='same'),\n",
    "#     Activation('relu'),\n",
    "#     BatchNormalization(),\n",
    "#     MaxPooling3D(pool_size=(2,2,2)),\n",
    "           \n",
    "    Flatten(),\n",
    "    Dense(64, activation='relu'),\n",
    "    BatchNormalization(),\n",
    "#     Dropout(0.25),\n",
    "    \n",
    "    \n",
    "    Dense(64, activation='relu'),\n",
    "    BatchNormalization(),\n",
    "    Dropout(0.25),\n",
    "    \n",
    "    Dense(5, activation='softmax')\n",
    "])"
   ]
  },
  {
   "cell_type": "code",
   "execution_count": 26,
   "metadata": {},
   "outputs": [
    {
     "name": "stdout",
     "output_type": "stream",
     "text": [
      "# training sequences = 663\n",
      "# validation sequences = 100\n",
      "# epochs = 20\n",
      "_________________________________________________________________\n",
      "Layer (type)                 Output Shape              Param #   \n",
      "=================================================================\n",
      "conv3d_13 (Conv3D)           (None, 20, 160, 160, 16)  1312      \n",
      "_________________________________________________________________\n",
      "activation_13 (Activation)   (None, 20, 160, 160, 16)  0         \n",
      "_________________________________________________________________\n",
      "batch_normalization_19 (Batc (None, 20, 160, 160, 16)  64        \n",
      "_________________________________________________________________\n",
      "max_pooling3d_13 (MaxPooling (None, 10, 80, 80, 16)    0         \n",
      "_________________________________________________________________\n",
      "conv3d_14 (Conv3D)           (None, 10, 80, 80, 32)    13856     \n",
      "_________________________________________________________________\n",
      "activation_14 (Activation)   (None, 10, 80, 80, 32)    0         \n",
      "_________________________________________________________________\n",
      "batch_normalization_20 (Batc (None, 10, 80, 80, 32)    128       \n",
      "_________________________________________________________________\n",
      "max_pooling3d_14 (MaxPooling (None, 5, 40, 40, 32)     0         \n",
      "_________________________________________________________________\n",
      "conv3d_15 (Conv3D)           (None, 5, 40, 40, 64)     55360     \n",
      "_________________________________________________________________\n",
      "activation_15 (Activation)   (None, 5, 40, 40, 64)     0         \n",
      "_________________________________________________________________\n",
      "batch_normalization_21 (Batc (None, 5, 40, 40, 64)     256       \n",
      "_________________________________________________________________\n",
      "max_pooling3d_15 (MaxPooling (None, 2, 20, 20, 64)     0         \n",
      "_________________________________________________________________\n",
      "conv3d_16 (Conv3D)           (None, 2, 20, 20, 128)    221312    \n",
      "_________________________________________________________________\n",
      "activation_16 (Activation)   (None, 2, 20, 20, 128)    0         \n",
      "_________________________________________________________________\n",
      "batch_normalization_22 (Batc (None, 2, 20, 20, 128)    512       \n",
      "_________________________________________________________________\n",
      "max_pooling3d_16 (MaxPooling (None, 1, 10, 10, 128)    0         \n",
      "_________________________________________________________________\n",
      "flatten_4 (Flatten)          (None, 12800)             0         \n",
      "_________________________________________________________________\n",
      "dense_10 (Dense)             (None, 64)                819264    \n",
      "_________________________________________________________________\n",
      "batch_normalization_23 (Batc (None, 64)                256       \n",
      "_________________________________________________________________\n",
      "dense_11 (Dense)             (None, 64)                4160      \n",
      "_________________________________________________________________\n",
      "batch_normalization_24 (Batc (None, 64)                256       \n",
      "_________________________________________________________________\n",
      "dropout_7 (Dropout)          (None, 64)                0         \n",
      "_________________________________________________________________\n",
      "dense_12 (Dense)             (None, 5)                 325       \n",
      "=================================================================\n",
      "Total params: 1,117,061\n",
      "Trainable params: 1,116,325\n",
      "Non-trainable params: 736\n",
      "_________________________________________________________________\n",
      "None\n"
     ]
    }
   ],
   "source": [
    "batch=20\n",
    "epoch=20\n",
    "\n",
    "optimiser = optimizers.SGD(lr=0.001)\n",
    "\n",
    "mg = ModelGenerator(num_images_to_use=num_images_to_use, image_height=image_height, image_width=image_width, batch=batch)\n",
    "mt = ModelTrainer('conv3d_3', mg, model3, optimiser, batch=batch, epochs=epoch)\n",
    "mt.compile_model()"
   ]
  },
  {
   "cell_type": "code",
   "execution_count": 27,
   "metadata": {
    "scrolled": false
   },
   "outputs": [
    {
     "name": "stdout",
     "output_type": "stream",
     "text": [
      "Source path =  /mnt/disks/user/project/PROJECT/Project_data/val ; batch size = 20\n",
      "Source path =  Epoch 1/20\n",
      "/mnt/disks/user/project/PROJECT/Project_data/train ; batch size = 20\n"
     ]
    },
    {
     "name": "stderr",
     "output_type": "stream",
     "text": [
      "/mnt/disks/user/anaconda3/lib/python3.6/site-packages/ipykernel_launcher.py:51: DeprecationWarning: `imread` is deprecated!\n",
      "`imread` is deprecated in SciPy 1.0.0, and will be removed in 1.2.0.\n",
      "Use ``imageio.imread`` instead.\n",
      "/mnt/disks/user/anaconda3/lib/python3.6/site-packages/ipykernel_launcher.py:19: DeprecationWarning: `imresize` is deprecated!\n",
      "`imresize` is deprecated in SciPy 1.0.0, and will be removed in 1.2.0.\n",
      "Use ``skimage.transform.resize`` instead.\n",
      "/mnt/disks/user/anaconda3/lib/python3.6/site-packages/ipykernel_launcher.py:21: DeprecationWarning: `imresize` is deprecated!\n",
      "`imresize` is deprecated in SciPy 1.0.0, and will be removed in 1.2.0.\n",
      "Use ``skimage.transform.resize`` instead.\n"
     ]
    },
    {
     "name": "stdout",
     "output_type": "stream",
     "text": [
      "32/34 [===========================>..] - ETA: 3s - loss: 1.8236 - categorical_accuracy: 0.3375"
     ]
    },
    {
     "name": "stderr",
     "output_type": "stream",
     "text": [
      "/mnt/disks/user/anaconda3/lib/python3.6/site-packages/ipykernel_launcher.py:76: DeprecationWarning: `imread` is deprecated!\n",
      "`imread` is deprecated in SciPy 1.0.0, and will be removed in 1.2.0.\n",
      "Use ``imageio.imread`` instead.\n"
     ]
    },
    {
     "name": "stdout",
     "output_type": "stream",
     "text": [
      "34/34 [==============================] - 63s 2s/step - loss: 1.7591 - categorical_accuracy: 0.3353 - val_loss: 1.5155 - val_categorical_accuracy: 0.4000\n",
      "\n",
      "Epoch 00001: saving model to model_init_conv3d_3_2021-02-0512_03_13.203415/model-00001-1.75913-0.33529-1.51548-0.40000.h5\n",
      "Epoch 2/20\n",
      "34/34 [==============================] - 53s 2s/step - loss: 1.1495 - categorical_accuracy: 0.5338 - val_loss: 1.4753 - val_categorical_accuracy: 0.4300\n",
      "\n",
      "Epoch 00002: saving model to model_init_conv3d_3_2021-02-0512_03_13.203415/model-00002-1.14947-0.53382-1.47532-0.43000.h5\n",
      "Epoch 3/20\n",
      "34/34 [==============================] - 55s 2s/step - loss: 0.8148 - categorical_accuracy: 0.6588 - val_loss: 1.4419 - val_categorical_accuracy: 0.4900\n",
      "\n",
      "Epoch 00003: saving model to model_init_conv3d_3_2021-02-0512_03_13.203415/model-00003-0.81481-0.65882-1.44187-0.49000.h5\n",
      "Epoch 4/20\n",
      "34/34 [==============================] - 55s 2s/step - loss: 0.6600 - categorical_accuracy: 0.7206 - val_loss: 1.1070 - val_categorical_accuracy: 0.5100\n",
      "\n",
      "Epoch 00004: saving model to model_init_conv3d_3_2021-02-0512_03_13.203415/model-00004-0.65998-0.72059-1.10701-0.51000.h5\n",
      "Epoch 5/20\n",
      "34/34 [==============================] - 56s 2s/step - loss: 0.5380 - categorical_accuracy: 0.7706 - val_loss: 0.9918 - val_categorical_accuracy: 0.6100\n",
      "\n",
      "Epoch 00005: saving model to model_init_conv3d_3_2021-02-0512_03_13.203415/model-00005-0.53805-0.77059-0.99185-0.61000.h5\n",
      "Epoch 6/20\n",
      "34/34 [==============================] - 55s 2s/step - loss: 0.4091 - categorical_accuracy: 0.8456 - val_loss: 1.0716 - val_categorical_accuracy: 0.5600\n",
      "\n",
      "Epoch 00006: saving model to model_init_conv3d_3_2021-02-0512_03_13.203415/model-00006-0.40912-0.84559-1.07160-0.56000.h5\n",
      "Epoch 7/20\n",
      "34/34 [==============================] - 54s 2s/step - loss: 0.3532 - categorical_accuracy: 0.8897 - val_loss: 1.0035 - val_categorical_accuracy: 0.6200\n",
      "\n",
      "Epoch 00007: saving model to model_init_conv3d_3_2021-02-0512_03_13.203415/model-00007-0.35317-0.88971-1.00355-0.62000.h5\n",
      "Epoch 8/20\n",
      "34/34 [==============================] - 55s 2s/step - loss: 0.2965 - categorical_accuracy: 0.8897 - val_loss: 0.9765 - val_categorical_accuracy: 0.6000\n",
      "\n",
      "Epoch 00008: saving model to model_init_conv3d_3_2021-02-0512_03_13.203415/model-00008-0.29648-0.88971-0.97646-0.60000.h5\n",
      "Epoch 9/20\n",
      "34/34 [==============================] - 55s 2s/step - loss: 0.2757 - categorical_accuracy: 0.9029 - val_loss: 1.0609 - val_categorical_accuracy: 0.6000\n",
      "\n",
      "Epoch 00009: saving model to model_init_conv3d_3_2021-02-0512_03_13.203415/model-00009-0.27572-0.90294-1.06092-0.60000.h5\n",
      "Epoch 10/20\n",
      "34/34 [==============================] - 54s 2s/step - loss: 0.2414 - categorical_accuracy: 0.9294 - val_loss: 0.9828 - val_categorical_accuracy: 0.6600\n",
      "\n",
      "Epoch 00010: saving model to model_init_conv3d_3_2021-02-0512_03_13.203415/model-00010-0.24144-0.92941-0.98281-0.66000.h5\n",
      "Epoch 11/20\n",
      "34/34 [==============================] - 54s 2s/step - loss: 0.2069 - categorical_accuracy: 0.9279 - val_loss: 0.9228 - val_categorical_accuracy: 0.6600\n",
      "\n",
      "Epoch 00012: saving model to model_init_conv3d_3_2021-02-0512_03_13.203415/model-00012-0.20694-0.92794-0.92284-0.66000.h5\n",
      "Epoch 13/20\n",
      "34/34 [==============================] - 55s 2s/step - loss: 0.1723 - categorical_accuracy: 0.9441 - val_loss: 0.9297 - val_categorical_accuracy: 0.6600\n",
      "\n",
      "Epoch 00013: saving model to model_init_conv3d_3_2021-02-0512_03_13.203415/model-00013-0.17234-0.94412-0.92970-0.66000.h5\n",
      "Epoch 14/20\n",
      "34/34 [==============================] - 55s 2s/step - loss: 0.1538 - categorical_accuracy: 0.9456 - val_loss: 0.8947 - val_categorical_accuracy: 0.6800\n",
      "\n",
      "Epoch 00014: saving model to model_init_conv3d_3_2021-02-0512_03_13.203415/model-00014-0.15383-0.94559-0.89468-0.68000.h5\n",
      "Epoch 15/20\n",
      "34/34 [==============================] - 55s 2s/step - loss: 0.1438 - categorical_accuracy: 0.9574 - val_loss: 0.9470 - val_categorical_accuracy: 0.6700\n",
      "\n",
      "Epoch 00015: saving model to model_init_conv3d_3_2021-02-0512_03_13.203415/model-00015-0.14383-0.95735-0.94704-0.67000.h5\n",
      "Epoch 16/20\n",
      "34/34 [==============================] - 56s 2s/step - loss: 0.1562 - categorical_accuracy: 0.9456 - val_loss: 0.9676 - val_categorical_accuracy: 0.6500\n",
      "\n",
      "Epoch 00016: saving model to model_init_conv3d_3_2021-02-0512_03_13.203415/model-00016-0.15619-0.94559-0.96761-0.65000.h5\n",
      "Epoch 17/20\n",
      "34/34 [==============================] - 56s 2s/step - loss: 0.1180 - categorical_accuracy: 0.9603 - val_loss: 0.9458 - val_categorical_accuracy: 0.6700\n",
      "\n",
      "Epoch 00017: saving model to model_init_conv3d_3_2021-02-0512_03_13.203415/model-00017-0.11798-0.96029-0.94578-0.67000.h5\n",
      "Epoch 00017: early stopping\n"
     ]
    }
   ],
   "source": [
    "model3_history = mt.train()"
   ]
  },
  {
   "cell_type": "code",
   "execution_count": 29,
   "metadata": {},
   "outputs": [
    {
     "data": {
      "image/png": "[encoded data removed]",
      "text/plain": [
       "<Figure size 1080x288 with 2 Axes>"
      ]
     },
     "metadata": {},
     "output_type": "display_data"
    }
   ],
   "source": [
    "plot(model3_history)"
   ]
  },
  {
   "cell_type": "markdown",
   "metadata": {},
   "source": [
    "### Increasing the dropout rate"
   ]
  },
  {
   "cell_type": "code",
   "execution_count": 12,
   "metadata": {},
   "outputs": [],
   "source": [
    "\n",
    "# write your model here\n",
    "# Creting Conv3D\n",
    "\n",
    "num_images_to_use=18\n",
    "image_height=160\n",
    "image_width=160\n",
    "\n",
    "model4 = Sequential([\n",
    "    Conv3D(16, (2,2,2), padding='same', input_shape=(num_images_to_use, image_height, image_width, 3)),\n",
    "    Activation('relu'),\n",
    "    BatchNormalization(),\n",
    "    MaxPooling3D(pool_size=(2,2,2)),\n",
    "    \n",
    "    Conv3D(32, (2,2,2), padding='same'),\n",
    "    Activation('relu'),\n",
    "    BatchNormalization(),\n",
    "    MaxPooling3D(pool_size=(2,2,2), strides=(2,2,2)),\n",
    "    \n",
    "    Conv3D(64, (2,2,2), padding='same'),\n",
    "    Activation('relu'),\n",
    "    BatchNormalization(),\n",
    "    MaxPooling3D(pool_size=(2,2,2), strides=(2,2,2)),\n",
    "           \n",
    "    Conv3D(128, (2,2,2), strides=(1,1,1), padding='same'),\n",
    "    Activation('relu'),\n",
    "    BatchNormalization(),\n",
    "    MaxPooling3D(pool_size=(2,2,2), strides=(2,2,2)),\n",
    "           \n",
    "           \n",
    "    Flatten(),\n",
    "    Dense(256, activation='relu'),\n",
    "    BatchNormalization(),\n",
    "    Dropout(0.30),\n",
    "    \n",
    "    \n",
    "    Dense(256, activation='relu'),\n",
    "    BatchNormalization(),\n",
    "    Dropout(0.30),\n",
    "    \n",
    "    Dense(5, activation='softmax')\n",
    "])"
   ]
  },
  {
   "cell_type": "code",
   "execution_count": 13,
   "metadata": {},
   "outputs": [
    {
     "name": "stdout",
     "output_type": "stream",
     "text": [
      "# training sequences = 663\n",
      "# validation sequences = 100\n",
      "# epochs = 20\n",
      "_________________________________________________________________\n",
      "Layer (type)                 Output Shape              Param #   \n",
      "=================================================================\n",
      "conv3d_5 (Conv3D)            (None, 18, 160, 160, 16)  400       \n",
      "_________________________________________________________________\n",
      "activation_5 (Activation)    (None, 18, 160, 160, 16)  0         \n",
      "_________________________________________________________________\n",
      "batch_normalization_7 (Batch (None, 18, 160, 160, 16)  64        \n",
      "_________________________________________________________________\n",
      "max_pooling3d_5 (MaxPooling3 (None, 9, 80, 80, 16)     0         \n",
      "_________________________________________________________________\n",
      "conv3d_6 (Conv3D)            (None, 9, 80, 80, 32)     4128      \n",
      "_________________________________________________________________\n",
      "activation_6 (Activation)    (None, 9, 80, 80, 32)     0         \n",
      "_________________________________________________________________\n",
      "batch_normalization_8 (Batch (None, 9, 80, 80, 32)     128       \n",
      "_________________________________________________________________\n",
      "max_pooling3d_6 (MaxPooling3 (None, 4, 40, 40, 32)     0         \n",
      "_________________________________________________________________\n",
      "conv3d_7 (Conv3D)            (None, 4, 40, 40, 64)     16448     \n",
      "_________________________________________________________________\n",
      "activation_7 (Activation)    (None, 4, 40, 40, 64)     0         \n",
      "_________________________________________________________________\n",
      "batch_normalization_9 (Batch (None, 4, 40, 40, 64)     256       \n",
      "_________________________________________________________________\n",
      "max_pooling3d_7 (MaxPooling3 (None, 2, 20, 20, 64)     0         \n",
      "_________________________________________________________________\n",
      "conv3d_8 (Conv3D)            (None, 2, 20, 20, 128)    65664     \n",
      "_________________________________________________________________\n",
      "activation_8 (Activation)    (None, 2, 20, 20, 128)    0         \n",
      "_________________________________________________________________\n",
      "batch_normalization_10 (Batc (None, 2, 20, 20, 128)    512       \n",
      "_________________________________________________________________\n",
      "max_pooling3d_8 (MaxPooling3 (None, 1, 10, 10, 128)    0         \n",
      "_________________________________________________________________\n",
      "flatten_2 (Flatten)          (None, 12800)             0         \n",
      "_________________________________________________________________\n",
      "dense_4 (Dense)              (None, 256)               3277056   \n",
      "_________________________________________________________________\n",
      "batch_normalization_11 (Batc (None, 256)               1024      \n",
      "_________________________________________________________________\n",
      "dropout_3 (Dropout)          (None, 256)               0         \n",
      "_________________________________________________________________\n",
      "dense_5 (Dense)              (None, 256)               65792     \n",
      "_________________________________________________________________\n",
      "batch_normalization_12 (Batc (None, 256)               1024      \n",
      "_________________________________________________________________\n",
      "dropout_4 (Dropout)          (None, 256)               0         \n",
      "_________________________________________________________________\n",
      "dense_6 (Dense)              (None, 5)                 1285      \n",
      "=================================================================\n",
      "Total params: 3,433,781\n",
      "Trainable params: 3,432,277\n",
      "Non-trainable params: 1,504\n",
      "_________________________________________________________________\n",
      "None\n"
     ]
    }
   ],
   "source": [
    "batch=20\n",
    "epoch=20\n",
    "\n",
    "optimiser = optimizers.SGD(lr=0.001)\n",
    "\n",
    "mg = ModelGenerator(num_images_to_use=num_images_to_use, image_height=image_height, image_width=image_width, batch=batch)\n",
    "mt = ModelTrainer('conv3d_4', mg, model4, optimiser, batch=batch, epochs=epoch)\n",
    "mt.compile_model()"
   ]
  },
  {
   "cell_type": "code",
   "execution_count": 14,
   "metadata": {
    "scrolled": false
   },
   "outputs": [
    {
     "name": "stdout",
     "output_type": "stream",
     "text": [
      "Source path =  /mnt/disks/user/project/PROJECT/Project_data/val ; batch size = 20\n",
      "Source path =  /mnt/disks/user/project/PROJECT/Project_data/train ; batch size = 20\n",
      "Epoch 1/20\n"
     ]
    },
    {
     "name": "stderr",
     "output_type": "stream",
     "text": [
      "/mnt/disks/user/anaconda3/lib/python3.6/site-packages/ipykernel_launcher.py:51: DeprecationWarning: `imread` is deprecated!\n",
      "`imread` is deprecated in SciPy 1.0.0, and will be removed in 1.2.0.\n",
      "Use ``imageio.imread`` instead.\n",
      "/mnt/disks/user/anaconda3/lib/python3.6/site-packages/ipykernel_launcher.py:19: DeprecationWarning: `imresize` is deprecated!\n",
      "`imresize` is deprecated in SciPy 1.0.0, and will be removed in 1.2.0.\n",
      "Use ``skimage.transform.resize`` instead.\n",
      "/mnt/disks/user/anaconda3/lib/python3.6/site-packages/ipykernel_launcher.py:21: DeprecationWarning: `imresize` is deprecated!\n",
      "`imresize` is deprecated in SciPy 1.0.0, and will be removed in 1.2.0.\n",
      "Use ``skimage.transform.resize`` instead.\n"
     ]
    },
    {
     "name": "stdout",
     "output_type": "stream",
     "text": [
      "32/34 [===========================>..] - ETA: 3s - loss: 2.0526 - categorical_accuracy: 0.3000"
     ]
    },
    {
     "name": "stderr",
     "output_type": "stream",
     "text": [
      "/mnt/disks/user/anaconda3/lib/python3.6/site-packages/ipykernel_launcher.py:76: DeprecationWarning: `imread` is deprecated!\n",
      "`imread` is deprecated in SciPy 1.0.0, and will be removed in 1.2.0.\n",
      "Use ``imageio.imread`` instead.\n"
     ]
    },
    {
     "name": "stdout",
     "output_type": "stream",
     "text": [
      "34/34 [==============================] - 58s 2s/step - loss: 1.9993 - categorical_accuracy: 0.2941 - val_loss: 1.5481 - val_categorical_accuracy: 0.3900\n",
      "\n",
      "Epoch 00001: saving model to model_init_conv3d_4_2021-02-0705_28_29.208978/model-00001-1.99930-0.29412-1.54809-0.39000.h5\n",
      "Epoch 2/20\n",
      "34/34 [==============================] - 52s 2s/step - loss: 1.3518 - categorical_accuracy: 0.4706 - val_loss: 1.1872 - val_categorical_accuracy: 0.5300\n",
      "\n",
      "Epoch 00002: saving model to model_init_conv3d_4_2021-02-0705_28_29.208978/model-00002-1.35175-0.47059-1.18722-0.53000.h5\n",
      "Epoch 3/20\n",
      "34/34 [==============================] - 52s 2s/step - loss: 1.1110 - categorical_accuracy: 0.5647 - val_loss: 1.1753 - val_categorical_accuracy: 0.6000\n",
      "\n",
      "Epoch 00003: saving model to model_init_conv3d_4_2021-02-0705_28_29.208978/model-00003-1.11104-0.56471-1.17531-0.60000.h5\n",
      "Epoch 4/20\n",
      "34/34 [==============================] - 52s 2s/step - loss: 1.0239 - categorical_accuracy: 0.5588 - val_loss: 1.0172 - val_categorical_accuracy: 0.6100\n",
      "\n",
      "Epoch 00004: saving model to model_init_conv3d_4_2021-02-0705_28_29.208978/model-00004-1.02392-0.55882-1.01716-0.61000.h5\n",
      "Epoch 5/20\n",
      "34/34 [==============================] - 52s 2s/step - loss: 0.8289 - categorical_accuracy: 0.6809 - val_loss: 1.0805 - val_categorical_accuracy: 0.5700\n",
      "\n",
      "Epoch 00005: saving model to model_init_conv3d_4_2021-02-0705_28_29.208978/model-00005-0.82892-0.68088-1.08051-0.57000.h5\n",
      "Epoch 6/20\n",
      "34/34 [==============================] - 52s 2s/step - loss: 0.7469 - categorical_accuracy: 0.6868 - val_loss: 0.8629 - val_categorical_accuracy: 0.6200\n",
      "\n",
      "Epoch 00006: saving model to model_init_conv3d_4_2021-02-0705_28_29.208978/model-00006-0.74688-0.68676-0.86293-0.62000.h5\n",
      "Epoch 7/20\n",
      "34/34 [==============================] - 52s 2s/step - loss: 0.6117 - categorical_accuracy: 0.7441 - val_loss: 0.9431 - val_categorical_accuracy: 0.6300\n",
      "\n",
      "Epoch 00007: saving model to model_init_conv3d_4_2021-02-0705_28_29.208978/model-00007-0.61174-0.74412-0.94307-0.63000.h5\n",
      "Epoch 8/20\n",
      "34/34 [==============================] - 52s 2s/step - loss: 0.5637 - categorical_accuracy: 0.7632 - val_loss: 0.8602 - val_categorical_accuracy: 0.6700\n",
      "\n",
      "Epoch 00008: saving model to model_init_conv3d_4_2021-02-0705_28_29.208978/model-00008-0.56369-0.76324-0.86015-0.67000.h5\n",
      "Epoch 9/20\n",
      "34/34 [==============================] - 53s 2s/step - loss: 0.4721 - categorical_accuracy: 0.8103 - val_loss: 0.9180 - val_categorical_accuracy: 0.6800\n",
      "\n",
      "Epoch 00009: saving model to model_init_conv3d_4_2021-02-0705_28_29.208978/model-00009-0.47212-0.81029-0.91796-0.68000.h5\n",
      "Epoch 10/20\n",
      "34/34 [==============================] - 52s 2s/step - loss: 0.4628 - categorical_accuracy: 0.8074 - val_loss: 0.8340 - val_categorical_accuracy: 0.6500\n",
      "\n",
      "Epoch 00010: saving model to model_init_conv3d_4_2021-02-0705_28_29.208978/model-00010-0.46279-0.80735-0.83399-0.65000.h5\n",
      "Epoch 11/20\n",
      "34/34 [==============================] - 52s 2s/step - loss: 0.3664 - categorical_accuracy: 0.8412 - val_loss: 0.8127 - val_categorical_accuracy: 0.7200\n",
      "\n",
      "Epoch 00011: saving model to model_init_conv3d_4_2021-02-0705_28_29.208978/model-00011-0.36643-0.84118-0.81267-0.72000.h5\n",
      "Epoch 12/20\n",
      "34/34 [==============================] - 54s 2s/step - loss: 0.3888 - categorical_accuracy: 0.8206 - val_loss: 0.8340 - val_categorical_accuracy: 0.7200\n",
      "\n",
      "Epoch 00012: saving model to model_init_conv3d_4_2021-02-0705_28_29.208978/model-00012-0.38881-0.82059-0.83397-0.72000.h5\n",
      "Epoch 13/20\n",
      "34/34 [==============================] - 53s 2s/step - loss: 0.2679 - categorical_accuracy: 0.8838 - val_loss: 0.8028 - val_categorical_accuracy: 0.7300\n",
      "\n",
      "Epoch 00013: saving model to model_init_conv3d_4_2021-02-0705_28_29.208978/model-00013-0.26788-0.88382-0.80283-0.73000.h5\n",
      "Epoch 14/20\n",
      "34/34 [==============================] - 52s 2s/step - loss: 0.2794 - categorical_accuracy: 0.8838 - val_loss: 0.7996 - val_categorical_accuracy: 0.7400\n",
      "\n",
      "Epoch 00014: saving model to model_init_conv3d_4_2021-02-0705_28_29.208978/model-00014-0.27941-0.88382-0.79956-0.74000.h5\n",
      "Epoch 15/20\n",
      "34/34 [==============================] - 52s 2s/step - loss: 0.2770 - categorical_accuracy: 0.8824 - val_loss: 0.8227 - val_categorical_accuracy: 0.7200\n",
      "\n",
      "Epoch 00015: saving model to model_init_conv3d_4_2021-02-0705_28_29.208978/model-00015-0.27702-0.88235-0.82273-0.72000.h5\n",
      "Epoch 16/20\n",
      "34/34 [==============================] - 52s 2s/step - loss: 0.2589 - categorical_accuracy: 0.8838 - val_loss: 0.8305 - val_categorical_accuracy: 0.7400\n",
      "\n",
      "Epoch 00016: saving model to model_init_conv3d_4_2021-02-0705_28_29.208978/model-00016-0.25887-0.88382-0.83051-0.74000.h5\n",
      "Epoch 17/20\n",
      "34/34 [==============================] - 53s 2s/step - loss: 0.2442 - categorical_accuracy: 0.9029 - val_loss: 0.7975 - val_categorical_accuracy: 0.7100\n",
      "\n",
      "Epoch 00017: saving model to model_init_conv3d_4_2021-02-0705_28_29.208978/model-00017-0.24421-0.90294-0.79752-0.71000.h5\n",
      "Epoch 00017: early stopping\n"
     ]
    }
   ],
   "source": [
    "history_model4 = mt.train()"
   ]
  },
  {
   "cell_type": "code",
   "execution_count": 11,
   "metadata": {},
   "outputs": [
    {
     "data": {
      "image/png": "[encoded data removed]",
      "text/plain": [
       "<Figure size 1080x288 with 2 Axes>"
      ]
     },
     "metadata": {},
     "output_type": "display_data"
    }
   ],
   "source": [
    "plot(history_model4)"
   ]
  },
  {
   "cell_type": "markdown",
   "metadata": {},
   "source": [
    "### Reducing resolution to 120x120 and changing learning rate"
   ]
  },
  {
   "cell_type": "code",
   "execution_count": 10,
   "metadata": {},
   "outputs": [],
   "source": [
    "\n",
    "# write your model here\n",
    "# Creting Conv3D\n",
    "\n",
    "num_images_to_use=20\n",
    "image_height=160\n",
    "image_width=160\n",
    "\n",
    "model5 = Sequential([\n",
    "    Conv3D(16, (2,2,2), padding='same', input_shape=(num_images_to_use, image_height, image_width, 3)),\n",
    "    Activation('relu'),\n",
    "    BatchNormalization(),\n",
    "    MaxPooling3D(pool_size=(2,2,2)),\n",
    "    \n",
    "    Conv3D(32, (2,2,2), padding='same'),\n",
    "    Activation('relu'),\n",
    "    BatchNormalization(),\n",
    "    MaxPooling3D(pool_size=(2,2,2), strides=(2,2,2)),\n",
    "    \n",
    "    Conv3D(64, (2,2,2), padding='same'),\n",
    "    Activation('relu'),\n",
    "    BatchNormalization(),\n",
    "    MaxPooling3D(pool_size=(2,2,2), strides=(2,2,2)),\n",
    "           \n",
    "    Conv3D(128, (2,2,2), strides=(1,1,1), padding='same'),\n",
    "    Activation('relu'),\n",
    "    BatchNormalization(),\n",
    "    MaxPooling3D(pool_size=(2,2,2), strides=(2,2,2)),\n",
    "           \n",
    "           \n",
    "    Flatten(),\n",
    "    Dense(256, activation='relu'),\n",
    "    BatchNormalization(),\n",
    "    Dropout(0.20),\n",
    "    \n",
    "    \n",
    "    Dense(256, activation='relu'),\n",
    "    BatchNormalization(),\n",
    "    Dropout(0.20),\n",
    "    \n",
    "    Dense(5, activation='softmax')\n",
    "])"
   ]
  },
  {
   "cell_type": "code",
   "execution_count": 11,
   "metadata": {},
   "outputs": [
    {
     "name": "stdout",
     "output_type": "stream",
     "text": [
      "# training sequences = 663\n",
      "# validation sequences = 100\n",
      "# epochs = 20\n",
      "_________________________________________________________________\n",
      "Layer (type)                 Output Shape              Param #   \n",
      "=================================================================\n",
      "conv3d_5 (Conv3D)            (None, 20, 160, 160, 16)  400       \n",
      "_________________________________________________________________\n",
      "activation_5 (Activation)    (None, 20, 160, 160, 16)  0         \n",
      "_________________________________________________________________\n",
      "batch_normalization_7 (Batch (None, 20, 160, 160, 16)  64        \n",
      "_________________________________________________________________\n",
      "max_pooling3d_5 (MaxPooling3 (None, 10, 80, 80, 16)    0         \n",
      "_________________________________________________________________\n",
      "conv3d_6 (Conv3D)            (None, 10, 80, 80, 32)    4128      \n",
      "_________________________________________________________________\n",
      "activation_6 (Activation)    (None, 10, 80, 80, 32)    0         \n",
      "_________________________________________________________________\n",
      "batch_normalization_8 (Batch (None, 10, 80, 80, 32)    128       \n",
      "_________________________________________________________________\n",
      "max_pooling3d_6 (MaxPooling3 (None, 5, 40, 40, 32)     0         \n",
      "_________________________________________________________________\n",
      "conv3d_7 (Conv3D)            (None, 5, 40, 40, 64)     16448     \n",
      "_________________________________________________________________\n",
      "activation_7 (Activation)    (None, 5, 40, 40, 64)     0         \n",
      "_________________________________________________________________\n",
      "batch_normalization_9 (Batch (None, 5, 40, 40, 64)     256       \n",
      "_________________________________________________________________\n",
      "max_pooling3d_7 (MaxPooling3 (None, 2, 20, 20, 64)     0         \n",
      "_________________________________________________________________\n",
      "conv3d_8 (Conv3D)            (None, 2, 20, 20, 128)    65664     \n",
      "_________________________________________________________________\n",
      "activation_8 (Activation)    (None, 2, 20, 20, 128)    0         \n",
      "_________________________________________________________________\n",
      "batch_normalization_10 (Batc (None, 2, 20, 20, 128)    512       \n",
      "_________________________________________________________________\n",
      "max_pooling3d_8 (MaxPooling3 (None, 1, 10, 10, 128)    0         \n",
      "_________________________________________________________________\n",
      "flatten_2 (Flatten)          (None, 12800)             0         \n",
      "_________________________________________________________________\n",
      "dense_4 (Dense)              (None, 256)               3277056   \n",
      "_________________________________________________________________\n",
      "batch_normalization_11 (Batc (None, 256)               1024      \n",
      "_________________________________________________________________\n",
      "dropout_3 (Dropout)          (None, 256)               0         \n",
      "_________________________________________________________________\n",
      "dense_5 (Dense)              (None, 256)               65792     \n",
      "_________________________________________________________________\n",
      "batch_normalization_12 (Batc (None, 256)               1024      \n",
      "_________________________________________________________________\n",
      "dropout_4 (Dropout)          (None, 256)               0         \n",
      "_________________________________________________________________\n",
      "dense_6 (Dense)              (None, 5)                 1285      \n",
      "=================================================================\n",
      "Total params: 3,433,781\n",
      "Trainable params: 3,432,277\n",
      "Non-trainable params: 1,504\n",
      "_________________________________________________________________\n",
      "None\n"
     ]
    }
   ],
   "source": [
    "batch=20\n",
    "epoch=20\n",
    "\n",
    "optimiser = optimizers.SGD(lr=0.001)\n",
    "LR = ReduceLROnPlateau(monitor='val_loss', factor=0.5, patience=2, verbose=1, mode='min', cooldown=0, min_lr=0.00001)\n",
    "\n",
    "mg = ModelGenerator(num_images_to_use=num_images_to_use, image_height=image_height, image_width=image_width, batch=batch)\n",
    "mt = ModelTrainer('conv3d_5', mg, model5, optimiser, batch=batch, epochs=epoch)\n",
    "mt.set_callbacks([LR])\n",
    "mt.compile_model()"
   ]
  },
  {
   "cell_type": "code",
   "execution_count": 51,
   "metadata": {
    "scrolled": false
   },
   "outputs": [
    {
     "name": "stdout",
     "output_type": "stream",
     "text": [
      "Source path =  /mnt/disks/user/project/PROJECT/Project_data/val ; batch size = 20\n",
      "Source path =  /mnt/disks/user/project/PROJECT/Project_data/train ; batch size = 20\n",
      "Epoch 1/20\n"
     ]
    },
    {
     "name": "stderr",
     "output_type": "stream",
     "text": [
      "/mnt/disks/user/anaconda3/lib/python3.6/site-packages/ipykernel_launcher.py:51: DeprecationWarning: `imread` is deprecated!\n",
      "`imread` is deprecated in SciPy 1.0.0, and will be removed in 1.2.0.\n",
      "Use ``imageio.imread`` instead.\n",
      "/mnt/disks/user/anaconda3/lib/python3.6/site-packages/ipykernel_launcher.py:19: DeprecationWarning: `imresize` is deprecated!\n",
      "`imresize` is deprecated in SciPy 1.0.0, and will be removed in 1.2.0.\n",
      "Use ``skimage.transform.resize`` instead.\n",
      "/mnt/disks/user/anaconda3/lib/python3.6/site-packages/ipykernel_launcher.py:21: DeprecationWarning: `imresize` is deprecated!\n",
      "`imresize` is deprecated in SciPy 1.0.0, and will be removed in 1.2.0.\n",
      "Use ``skimage.transform.resize`` instead.\n"
     ]
    },
    {
     "name": "stdout",
     "output_type": "stream",
     "text": [
      "32/34 [===========================>..] - ETA: 3s - loss: 1.9747 - categorical_accuracy: 0.2922"
     ]
    },
    {
     "name": "stderr",
     "output_type": "stream",
     "text": [
      "/mnt/disks/user/anaconda3/lib/python3.6/site-packages/ipykernel_launcher.py:76: DeprecationWarning: `imread` is deprecated!\n",
      "`imread` is deprecated in SciPy 1.0.0, and will be removed in 1.2.0.\n",
      "Use ``imageio.imread`` instead.\n"
     ]
    },
    {
     "name": "stdout",
     "output_type": "stream",
     "text": [
      "34/34 [==============================] - 56s 2s/step - loss: 1.9052 - categorical_accuracy: 0.2912 - val_loss: 1.7468 - val_categorical_accuracy: 0.3500\n",
      "\n",
      "Epoch 00001: saving model to model_init_conv3d_5_2021-02-0707_40_24.676446/model-00001-1.90516-0.29118-1.74685-0.35000.h5\n",
      "Epoch 2/20\n",
      "34/34 [==============================] - 45s 1s/step - loss: 1.2889 - categorical_accuracy: 0.4691 - val_loss: 1.3547 - val_categorical_accuracy: 0.4300\n",
      "\n",
      "Epoch 00002: saving model to model_init_conv3d_5_2021-02-0707_40_24.676446/model-00002-1.28889-0.46912-1.35469-0.43000.h5\n",
      "Epoch 3/20\n",
      "34/34 [==============================] - 50s 1s/step - loss: 0.9974 - categorical_accuracy: 0.6088 - val_loss: 1.2641 - val_categorical_accuracy: 0.5300\n",
      "\n",
      "Epoch 00003: saving model to model_init_conv3d_5_2021-02-0707_40_24.676446/model-00003-0.99744-0.60882-1.26408-0.53000.h5\n",
      "Epoch 4/20\n",
      "34/34 [==============================] - 50s 1s/step - loss: 0.7867 - categorical_accuracy: 0.6882 - val_loss: 1.2609 - val_categorical_accuracy: 0.4900\n",
      "\n",
      "Epoch 00004: saving model to model_init_conv3d_5_2021-02-0707_40_24.676446/model-00004-0.78673-0.68824-1.26094-0.49000.h5\n",
      "Epoch 5/20\n",
      "34/34 [==============================] - 50s 1s/step - loss: 0.5950 - categorical_accuracy: 0.7500 - val_loss: 1.1681 - val_categorical_accuracy: 0.4900\n",
      "\n",
      "Epoch 00005: saving model to model_init_conv3d_5_2021-02-0707_40_24.676446/model-00005-0.59499-0.75000-1.16806-0.49000.h5\n",
      "Epoch 6/20\n",
      "34/34 [==============================] - 51s 1s/step - loss: 0.5348 - categorical_accuracy: 0.7765 - val_loss: 1.1263 - val_categorical_accuracy: 0.5600\n",
      "\n",
      "Epoch 00006: saving model to model_init_conv3d_5_2021-02-0707_40_24.676446/model-00006-0.53485-0.77647-1.12629-0.56000.h5\n",
      "Epoch 7/20\n",
      "34/34 [==============================] - 51s 1s/step - loss: 0.4020 - categorical_accuracy: 0.8397 - val_loss: 1.1552 - val_categorical_accuracy: 0.5000\n",
      "\n",
      "Epoch 00007: saving model to model_init_conv3d_5_2021-02-0707_40_24.676446/model-00007-0.40196-0.83971-1.15520-0.50000.h5\n",
      "Epoch 8/20\n",
      "34/34 [==============================] - 51s 2s/step - loss: 0.3702 - categorical_accuracy: 0.8544 - val_loss: 1.0179 - val_categorical_accuracy: 0.6300\n",
      "\n",
      "Epoch 00008: saving model to model_init_conv3d_5_2021-02-0707_40_24.676446/model-00008-0.37022-0.85441-1.01786-0.63000.h5\n",
      "Epoch 9/20\n",
      "34/34 [==============================] - 53s 2s/step - loss: 0.3767 - categorical_accuracy: 0.8382 - val_loss: 1.0274 - val_categorical_accuracy: 0.6400\n",
      "\n",
      "Epoch 00009: saving model to model_init_conv3d_5_2021-02-0707_40_24.676446/model-00009-0.37666-0.83824-1.02741-0.64000.h5\n",
      "Epoch 10/20\n",
      "34/34 [==============================] - 51s 1s/step - loss: 0.2834 - categorical_accuracy: 0.8838 - val_loss: 0.9968 - val_categorical_accuracy: 0.6400\n",
      "\n",
      "Epoch 00010: saving model to model_init_conv3d_5_2021-02-0707_40_24.676446/model-00010-0.28345-0.88382-0.99684-0.64000.h5\n",
      "Epoch 11/20\n",
      "34/34 [==============================] - 51s 1s/step - loss: 0.2575 - categorical_accuracy: 0.9059 - val_loss: 1.0077 - val_categorical_accuracy: 0.6200\n",
      "\n",
      "Epoch 00011: saving model to model_init_conv3d_5_2021-02-0707_40_24.676446/model-00011-0.25746-0.90588-1.00773-0.62000.h5\n",
      "Epoch 12/20\n",
      "34/34 [==============================] - 50s 1s/step - loss: 0.1936 - categorical_accuracy: 0.9324 - val_loss: 1.0600 - val_categorical_accuracy: 0.6000\n",
      "\n",
      "Epoch 00012: ReduceLROnPlateau reducing learning rate to 0.0005000000237487257.\n",
      "\n",
      "Epoch 00012: saving model to model_init_conv3d_5_2021-02-0707_40_24.676446/model-00012-0.19358-0.93235-1.06001-0.60000.h5\n",
      "Epoch 00012: early stopping\n"
     ]
    }
   ],
   "source": [
    "history_model5 = mt.train()"
   ]
  },
  {
   "cell_type": "markdown",
   "metadata": {},
   "source": [
    "### CNN & LSTM"
   ]
  },
  {
   "cell_type": "code",
   "execution_count": 21,
   "metadata": {
    "scrolled": false
   },
   "outputs": [],
   "source": [
    "num_images_to_use=20\n",
    "image_height=160\n",
    "image_width=160\n",
    "\n",
    "model6 = Sequential([\n",
    "    TimeDistributed(Conv2D(16, (2,2), padding='same', activation='relu'), input_shape=(num_images_to_use, image_height, image_width, 3)),\n",
    "    TimeDistributed(BatchNormalization()),\n",
    "    TimeDistributed(MaxPooling2D(pool_size=(2,2))),\n",
    "    \n",
    "    TimeDistributed(Conv2D(32, (2,2), padding='same', activation='relu')),\n",
    "    TimeDistributed(BatchNormalization()),\n",
    "    TimeDistributed(MaxPooling2D(pool_size=(2,2))),\n",
    "    \n",
    "    TimeDistributed(Conv2D(64, (2,2), padding='same', activation='relu')),\n",
    "    TimeDistributed(BatchNormalization()),\n",
    "    TimeDistributed(MaxPooling2D(pool_size=(2,2))),\n",
    "           \n",
    "    TimeDistributed(Conv2D(128, (2,2), padding='same', activation='relu')),\n",
    "    TimeDistributed(BatchNormalization()),\n",
    "    TimeDistributed(MaxPooling2D(pool_size=(2,2))),\n",
    "           \n",
    "           \n",
    "    TimeDistributed(Flatten()),\n",
    "    \n",
    "    GRU(256, activation='relu'),\n",
    "    Dropout(0.20),\n",
    "    \n",
    "    \n",
    "    Dense(256, activation='relu'),\n",
    "    BatchNormalization(),\n",
    "    Dropout(0.20),\n",
    "    \n",
    "    Dense(5, activation='softmax')\n",
    "])"
   ]
  },
  {
   "cell_type": "code",
   "execution_count": 22,
   "metadata": {},
   "outputs": [
    {
     "name": "stdout",
     "output_type": "stream",
     "text": [
      "# training sequences = 663\n",
      "# validation sequences = 100\n",
      "# epochs = 20\n",
      "_________________________________________________________________\n",
      "Layer (type)                 Output Shape              Param #   \n",
      "=================================================================\n",
      "time_distributed_34 (TimeDis (None, 20, 160, 160, 16)  208       \n",
      "_________________________________________________________________\n",
      "time_distributed_35 (TimeDis (None, 20, 160, 160, 16)  64        \n",
      "_________________________________________________________________\n",
      "time_distributed_36 (TimeDis (None, 20, 80, 80, 16)    0         \n",
      "_________________________________________________________________\n",
      "time_distributed_37 (TimeDis (None, 20, 80, 80, 32)    2080      \n",
      "_________________________________________________________________\n",
      "time_distributed_38 (TimeDis (None, 20, 80, 80, 32)    128       \n",
      "_________________________________________________________________\n",
      "time_distributed_39 (TimeDis (None, 20, 40, 40, 32)    0         \n",
      "_________________________________________________________________\n",
      "time_distributed_40 (TimeDis (None, 20, 40, 40, 64)    8256      \n",
      "_________________________________________________________________\n",
      "time_distributed_41 (TimeDis (None, 20, 40, 40, 64)    256       \n",
      "_________________________________________________________________\n",
      "time_distributed_42 (TimeDis (None, 20, 20, 20, 64)    0         \n",
      "_________________________________________________________________\n",
      "time_distributed_43 (TimeDis (None, 20, 20, 20, 128)   32896     \n",
      "_________________________________________________________________\n",
      "time_distributed_44 (TimeDis (None, 20, 20, 20, 128)   512       \n",
      "_________________________________________________________________\n",
      "time_distributed_45 (TimeDis (None, 20, 10, 10, 128)   0         \n",
      "_________________________________________________________________\n",
      "time_distributed_46 (TimeDis (None, 20, 12800)         0         \n",
      "_________________________________________________________________\n",
      "gru_3 (GRU)                  (None, 256)               10027776  \n",
      "_________________________________________________________________\n",
      "dropout_11 (Dropout)         (None, 256)               0         \n",
      "_________________________________________________________________\n",
      "dense_14 (Dense)             (None, 256)               65792     \n",
      "_________________________________________________________________\n",
      "batch_normalization_29 (Batc (None, 256)               1024      \n",
      "_________________________________________________________________\n",
      "dropout_12 (Dropout)         (None, 256)               0         \n",
      "_________________________________________________________________\n",
      "dense_15 (Dense)             (None, 5)                 1285      \n",
      "=================================================================\n",
      "Total params: 10,140,277\n",
      "Trainable params: 10,139,285\n",
      "Non-trainable params: 992\n",
      "_________________________________________________________________\n",
      "None\n"
     ]
    }
   ],
   "source": [
    "batch=20\n",
    "epoch=20\n",
    "\n",
    "optimiser = optimizers.SGD(lr=0.001)\n",
    "# LR = ReduceLROnPlateau(monitor='val_loss', factor=0.5, patience=2, verbose=1, mode='min', cooldown=0, min_lr=0.00001)\n",
    "\n",
    "mg = ModelGenerator(num_images_to_use=num_images_to_use, image_height=image_height, image_width=image_width, batch=batch)\n",
    "mt = ModelTrainer('conv3d_6', mg, model6, optimiser, batch=batch, epochs=epoch)\n",
    "# mt.set_callbacks([LR])\n",
    "mt.compile_model()"
   ]
  },
  {
   "cell_type": "code",
   "execution_count": 23,
   "metadata": {},
   "outputs": [
    {
     "name": "stdout",
     "output_type": "stream",
     "text": [
      "Source path =  /mnt/disks/user/project/PROJECT/Project_data/val ; batch size = 20\n",
      "Source path =  /mnt/disks/user/project/PROJECT/Project_data/train ; batch size = Epoch 1/20\n",
      "20\n"
     ]
    },
    {
     "name": "stderr",
     "output_type": "stream",
     "text": [
      "/mnt/disks/user/anaconda3/lib/python3.6/site-packages/ipykernel_launcher.py:51: DeprecationWarning: `imread` is deprecated!\n",
      "`imread` is deprecated in SciPy 1.0.0, and will be removed in 1.2.0.\n",
      "Use ``imageio.imread`` instead.\n",
      "/mnt/disks/user/anaconda3/lib/python3.6/site-packages/ipykernel_launcher.py:19: DeprecationWarning: `imresize` is deprecated!\n",
      "`imresize` is deprecated in SciPy 1.0.0, and will be removed in 1.2.0.\n",
      "Use ``skimage.transform.resize`` instead.\n",
      "/mnt/disks/user/anaconda3/lib/python3.6/site-packages/ipykernel_launcher.py:21: DeprecationWarning: `imresize` is deprecated!\n",
      "`imresize` is deprecated in SciPy 1.0.0, and will be removed in 1.2.0.\n",
      "Use ``skimage.transform.resize`` instead.\n"
     ]
    },
    {
     "name": "stdout",
     "output_type": "stream",
     "text": [
      "32/34 [===========================>..] - ETA: 8s - loss: 1.9768 - categorical_accuracy: 0.2438 "
     ]
    },
    {
     "name": "stderr",
     "output_type": "stream",
     "text": [
      "/mnt/disks/user/anaconda3/lib/python3.6/site-packages/ipykernel_launcher.py:76: DeprecationWarning: `imread` is deprecated!\n",
      "`imread` is deprecated in SciPy 1.0.0, and will be removed in 1.2.0.\n",
      "Use ``imageio.imread`` instead.\n"
     ]
    },
    {
     "name": "stdout",
     "output_type": "stream",
     "text": [
      "34/34 [==============================] - 149s 4s/step - loss: 1.9175 - categorical_accuracy: 0.2485 - val_loss: 1.6240 - val_categorical_accuracy: 0.3400\n",
      "\n",
      "Epoch 00001: saving model to model_init_conv3d_6_2021-02-0805_13_33.258966/model-00001-1.91750-0.24853-1.62400-0.34000.h5\n",
      "Epoch 2/20\n",
      "34/34 [==============================] - 54s 2s/step - loss: 1.4501 - categorical_accuracy: 0.4176 - val_loss: 1.4886 - val_categorical_accuracy: 0.3800\n",
      "\n",
      "Epoch 00002: saving model to model_init_conv3d_6_2021-02-0805_13_33.258966/model-00002-1.45009-0.41765-1.48858-0.38000.h5\n",
      "Epoch 3/20\n",
      "34/34 [==============================] - 56s 2s/step - loss: 1.2724 - categorical_accuracy: 0.4750 - val_loss: 1.7583 - val_categorical_accuracy: 0.3300\n",
      "\n",
      "Epoch 00003: saving model to model_init_conv3d_6_2021-02-0805_13_33.258966/model-00003-1.27242-0.47500-1.75827-0.33000.h5\n",
      "Epoch 4/20\n",
      "34/34 [==============================] - 54s 2s/step - loss: 1.1304 - categorical_accuracy: 0.5132 - val_loss: 1.2238 - val_categorical_accuracy: 0.5100\n",
      "\n",
      "Epoch 00004: saving model to model_init_conv3d_6_2021-02-0805_13_33.258966/model-00004-1.13041-0.51324-1.22382-0.51000.h5\n",
      "Epoch 5/20\n",
      "34/34 [==============================] - 55s 2s/step - loss: 0.9319 - categorical_accuracy: 0.6103 - val_loss: 0.9916 - val_categorical_accuracy: 0.6000\n",
      "\n",
      "Epoch 00005: saving model to model_init_conv3d_6_2021-02-0805_13_33.258966/model-00005-0.93189-0.61029-0.99162-0.60000.h5\n",
      "Epoch 6/20\n",
      "34/34 [==============================] - 54s 2s/step - loss: 0.8192 - categorical_accuracy: 0.6618 - val_loss: 0.9683 - val_categorical_accuracy: 0.6400\n",
      "\n",
      "Epoch 00006: saving model to model_init_conv3d_6_2021-02-0805_13_33.258966/model-00006-0.81920-0.66176-0.96829-0.64000.h5\n",
      "Epoch 7/20\n",
      "34/34 [==============================] - 54s 2s/step - loss: 0.6824 - categorical_accuracy: 0.7132 - val_loss: 0.9814 - val_categorical_accuracy: 0.5800\n",
      "\n",
      "Epoch 00007: saving model to model_init_conv3d_6_2021-02-0805_13_33.258966/model-00007-0.68242-0.71324-0.98144-0.58000.h5\n",
      "Epoch 8/20\n",
      "34/34 [==============================] - 54s 2s/step - loss: 0.6255 - categorical_accuracy: 0.7544 - val_loss: 0.9730 - val_categorical_accuracy: 0.6200\n",
      "\n",
      "Epoch 00008: saving model to model_init_conv3d_6_2021-02-0805_13_33.258966/model-00008-0.62553-0.75441-0.97301-0.62000.h5\n",
      "Epoch 9/20\n",
      "34/34 [==============================] - 54s 2s/step - loss: 0.5760 - categorical_accuracy: 0.7529 - val_loss: 0.9861 - val_categorical_accuracy: 0.6300\n",
      "\n",
      "Epoch 00009: saving model to model_init_conv3d_6_2021-02-0805_13_33.258966/model-00009-0.57602-0.75294-0.98612-0.63000.h5\n",
      "Epoch 00009: early stopping\n"
     ]
    }
   ],
   "source": [
    "history_model6 = mt.train()"
   ]
  },
  {
   "cell_type": "code",
   "execution_count": 25,
   "metadata": {},
   "outputs": [
    {
     "data": {
      "image/png": "[encoded data removed]",
      "text/plain": [
       "<Figure size 1080x288 with 2 Axes>"
      ]
     },
     "metadata": {},
     "output_type": "display_data"
    }
   ],
   "source": [
    "plot(history_model6)"
   ]
  },
  {
   "cell_type": "markdown",
   "metadata": {},
   "source": [
    "### Transfer learning with GRU"
   ]
  },
  {
   "cell_type": "code",
   "execution_count": 9,
   "metadata": {},
   "outputs": [
    {
     "name": "stderr",
     "output_type": "stream",
     "text": [
      "/mnt/disks/user/anaconda3/lib/python3.6/site-packages/keras_applications/mobilenet.py:206: UserWarning: MobileNet shape is undefined. Weights for input shape (224, 224) will be loaded.\n",
      "  warnings.warn('MobileNet shape is undefined.'\n"
     ]
    },
    {
     "name": "stdout",
     "output_type": "stream",
     "text": [
      "Downloading data from https://github.com/fchollet/deep-learning-models/releases/download/v0.6/mobilenet_1_0_224_tf_no_top.h5\n",
      "17227776/17225924 [==============================] - 1s 0us/step\n"
     ]
    }
   ],
   "source": [
    "from keras.applications import mobilenet\n",
    "\n",
    "num_images_to_use=20\n",
    "image_height=160\n",
    "image_width=160\n",
    "\n",
    "mobilenet_transfer = mobilenet.MobileNet(weights='imagenet', include_top=False)\n",
    "\n",
    "model7 = Sequential([\n",
    "    TimeDistributed(mobilenet_transfer, input_shape=(num_images_to_use, image_height, image_width, 3)),\n",
    "    \n",
    "    TimeDistributed(BatchNormalization()),\n",
    "    TimeDistributed(MaxPooling2D(pool_size=(2,2))),\n",
    "           \n",
    "           \n",
    "    TimeDistributed(Flatten()),\n",
    "    \n",
    "    GRU(256, activation='relu'),\n",
    "    Dropout(0.10),\n",
    "    \n",
    "    Dense(256, activation='relu'),\n",
    "    BatchNormalization(),\n",
    "    Dropout(0.10),\n",
    "    \n",
    "    Dense(5, activation='softmax')\n",
    "])"
   ]
  },
  {
   "cell_type": "code",
   "execution_count": 10,
   "metadata": {},
   "outputs": [
    {
     "name": "stdout",
     "output_type": "stream",
     "text": [
      "# training sequences = 663\n",
      "# validation sequences = 100\n",
      "# epochs = 20\n",
      "_________________________________________________________________\n",
      "Layer (type)                 Output Shape              Param #   \n",
      "=================================================================\n",
      "time_distributed_1 (TimeDist (None, 20, 5, 5, 1024)    3228864   \n",
      "_________________________________________________________________\n",
      "time_distributed_2 (TimeDist (None, 20, 5, 5, 1024)    4096      \n",
      "_________________________________________________________________\n",
      "time_distributed_3 (TimeDist (None, 20, 2, 2, 1024)    0         \n",
      "_________________________________________________________________\n",
      "time_distributed_4 (TimeDist (None, 20, 4096)          0         \n",
      "_________________________________________________________________\n",
      "gru_1 (GRU)                  (None, 256)               3343104   \n",
      "_________________________________________________________________\n",
      "dropout_3 (Dropout)          (None, 256)               0         \n",
      "_________________________________________________________________\n",
      "dense_4 (Dense)              (None, 256)               65792     \n",
      "_________________________________________________________________\n",
      "batch_normalization_8 (Batch (None, 256)               1024      \n",
      "_________________________________________________________________\n",
      "dropout_4 (Dropout)          (None, 256)               0         \n",
      "_________________________________________________________________\n",
      "dense_5 (Dense)              (None, 5)                 1285      \n",
      "=================================================================\n",
      "Total params: 6,644,165\n",
      "Trainable params: 6,619,717\n",
      "Non-trainable params: 24,448\n",
      "_________________________________________________________________\n",
      "None\n"
     ]
    }
   ],
   "source": [
    "batch=5\n",
    "epoch=20\n",
    "\n",
    "optimiser = optimizers.SGD(lr=0.001)\n",
    "# LR = ReduceLROnPlateau(monitor='val_loss', factor=0.5, patience=2, verbose=1, mode='min', cooldown=0, min_lr=0.00001)\n",
    "\n",
    "mg = ModelGenerator(num_images_to_use=num_images_to_use, image_height=image_height, image_width=image_width, batch=batch)\n",
    "mt = ModelTrainer('conv3d_7', mg, model7, optimiser, batch=batch, epochs=epoch)\n",
    "# mt.set_callbacks([LR])\n",
    "mt.compile_model()"
   ]
  },
  {
   "cell_type": "code",
   "execution_count": 11,
   "metadata": {
    "scrolled": false
   },
   "outputs": [
    {
     "name": "stdout",
     "output_type": "stream",
     "text": [
      "Source path =  /mnt/disks/user/project/PROJECT/Project_data/val ; batch size =Source path =  /mnt/disks/user/project/PROJECT/Project_data/train ; batch size = 5\n",
      " 5\n",
      "Epoch 1/20\n"
     ]
    },
    {
     "name": "stderr",
     "output_type": "stream",
     "text": [
      "/mnt/disks/user/anaconda3/lib/python3.6/site-packages/ipykernel_launcher.py:51: DeprecationWarning: `imread` is deprecated!\n",
      "`imread` is deprecated in SciPy 1.0.0, and will be removed in 1.2.0.\n",
      "Use ``imageio.imread`` instead.\n",
      "/mnt/disks/user/anaconda3/lib/python3.6/site-packages/ipykernel_launcher.py:19: DeprecationWarning: `imresize` is deprecated!\n",
      "`imresize` is deprecated in SciPy 1.0.0, and will be removed in 1.2.0.\n",
      "Use ``skimage.transform.resize`` instead.\n",
      "/mnt/disks/user/anaconda3/lib/python3.6/site-packages/ipykernel_launcher.py:21: DeprecationWarning: `imresize` is deprecated!\n",
      "`imresize` is deprecated in SciPy 1.0.0, and will be removed in 1.2.0.\n",
      "Use ``skimage.transform.resize`` instead.\n"
     ]
    },
    {
     "name": "stdout",
     "output_type": "stream",
     "text": [
      "131/133 [============================>.] - ETA: 2s - loss: 1.7843 - categorical_accuracy: 0.2840"
     ]
    },
    {
     "name": "stderr",
     "output_type": "stream",
     "text": [
      "/mnt/disks/user/anaconda3/lib/python3.6/site-packages/ipykernel_launcher.py:76: DeprecationWarning: `imread` is deprecated!\n",
      "`imread` is deprecated in SciPy 1.0.0, and will be removed in 1.2.0.\n",
      "Use ``imageio.imread`` instead.\n"
     ]
    },
    {
     "name": "stdout",
     "output_type": "stream",
     "text": [
      "133/133 [==============================] - 203s 2s/step - loss: 1.7667 - categorical_accuracy: 0.2842 - val_loss: 1.7261 - val_categorical_accuracy: 0.3900\n",
      "\n",
      "Epoch 00001: saving model to model_init_conv3d_7_2021-02-0816_51_08.597712/model-00001-1.76673-0.28421-1.72606-0.39000.h5\n",
      "Epoch 2/20\n",
      "133/133 [==============================] - 105s 786ms/step - loss: 1.2455 - categorical_accuracy: 0.4617 - val_loss: 0.9918 - val_categorical_accuracy: 0.6000\n",
      "\n",
      "Epoch 00002: saving model to model_init_conv3d_7_2021-02-0816_51_08.597712/model-00002-1.24546-0.46165-0.99183-0.60000.h5\n",
      "Epoch 3/20\n",
      "133/133 [==============================] - 100s 750ms/step - loss: 0.9875 - categorical_accuracy: 0.5880 - val_loss: 0.8619 - val_categorical_accuracy: 0.5700\n",
      "\n",
      "Epoch 00003: saving model to model_init_conv3d_7_2021-02-0816_51_08.597712/model-00003-0.98748-0.58797-0.86188-0.57000.h5\n",
      "Epoch 4/20\n",
      "133/133 [==============================] - 99s 742ms/step - loss: 0.6745 - categorical_accuracy: 0.7263 - val_loss: 0.5831 - val_categorical_accuracy: 0.7600\n",
      "\n",
      "Epoch 00004: saving model to model_init_conv3d_7_2021-02-0816_51_08.597712/model-00004-0.67445-0.72632-0.58308-0.76000.h5\n",
      "Epoch 5/20\n",
      "133/133 [==============================] - 99s 744ms/step - loss: 0.6405 - categorical_accuracy: 0.7654 - val_loss: 0.5108 - val_categorical_accuracy: 0.8000\n",
      "\n",
      "Epoch 00005: saving model to model_init_conv3d_7_2021-02-0816_51_08.597712/model-00005-0.64054-0.76541-0.51083-0.80000.h5\n",
      "Epoch 6/20\n",
      "133/133 [==============================] - 98s 735ms/step - loss: 0.5096 - categorical_accuracy: 0.8045 - val_loss: 0.5337 - val_categorical_accuracy: 0.7800\n",
      "\n",
      "Epoch 00006: saving model to model_init_conv3d_7_2021-02-0816_51_08.597712/model-00006-0.50964-0.80451-0.53366-0.78000.h5\n",
      "Epoch 7/20\n",
      "133/133 [==============================] - 98s 738ms/step - loss: 0.4525 - categorical_accuracy: 0.8150 - val_loss: 0.5083 - val_categorical_accuracy: 0.7900\n",
      "\n",
      "Epoch 00007: saving model to model_init_conv3d_7_2021-02-0816_51_08.597712/model-00007-0.45249-0.81504-0.50834-0.79000.h5\n",
      "Epoch 8/20\n",
      "133/133 [==============================] - 98s 736ms/step - loss: 0.4796 - categorical_accuracy: 0.8165 - val_loss: 0.4162 - val_categorical_accuracy: 0.8400\n",
      "\n",
      "Epoch 00008: saving model to model_init_conv3d_7_2021-02-0816_51_08.597712/model-00008-0.47964-0.81654-0.41621-0.84000.h5\n",
      "Epoch 9/20\n",
      "133/133 [==============================] - 98s 735ms/step - loss: 0.3095 - categorical_accuracy: 0.8857 - val_loss: 0.4642 - val_categorical_accuracy: 0.7900\n",
      "\n",
      "Epoch 00009: saving model to model_init_conv3d_7_2021-02-0816_51_08.597712/model-00009-0.30946-0.88571-0.46419-0.79000.h5\n",
      "Epoch 10/20\n",
      "133/133 [==============================] - 97s 732ms/step - loss: 0.3272 - categorical_accuracy: 0.8947 - val_loss: 0.3846 - val_categorical_accuracy: 0.8300\n",
      "\n",
      "Epoch 00010: saving model to model_init_conv3d_7_2021-02-0816_51_08.597712/model-00010-0.32721-0.89474-0.38464-0.83000.h5\n",
      "Epoch 11/20\n",
      "133/133 [==============================] - 98s 734ms/step - loss: 0.2546 - categorical_accuracy: 0.9113 - val_loss: 0.2962 - val_categorical_accuracy: 0.8800\n",
      "\n",
      "Epoch 00011: saving model to model_init_conv3d_7_2021-02-0816_51_08.597712/model-00011-0.25464-0.91128-0.29620-0.88000.h5\n",
      "Epoch 12/20\n",
      "133/133 [==============================] - 98s 735ms/step - loss: 0.2795 - categorical_accuracy: 0.9023 - val_loss: 0.3032 - val_categorical_accuracy: 0.9000\n",
      "\n",
      "Epoch 00012: saving model to model_init_conv3d_7_2021-02-0816_51_08.597712/model-00012-0.27953-0.90226-0.30318-0.90000.h5\n",
      "Epoch 13/20\n",
      "133/133 [==============================] - 97s 732ms/step - loss: 0.2274 - categorical_accuracy: 0.9143 - val_loss: 0.3386 - val_categorical_accuracy: 0.8600\n",
      "\n",
      "Epoch 00013: saving model to model_init_conv3d_7_2021-02-0816_51_08.597712/model-00013-0.22736-0.91429-0.33865-0.86000.h5\n",
      "Epoch 14/20\n",
      "133/133 [==============================] - 98s 735ms/step - loss: 0.2201 - categorical_accuracy: 0.9173 - val_loss: 0.3055 - val_categorical_accuracy: 0.8700\n",
      "\n",
      "Epoch 00014: saving model to model_init_conv3d_7_2021-02-0816_51_08.597712/model-00014-0.22011-0.91729-0.30548-0.87000.h5\n",
      "Epoch 15/20\n",
      "133/133 [==============================] - 97s 730ms/step - loss: 0.2247 - categorical_accuracy: 0.9158 - val_loss: 0.3340 - val_categorical_accuracy: 0.8600\n",
      "\n",
      "Epoch 00015: saving model to model_init_conv3d_7_2021-02-0816_51_08.597712/model-00015-0.22466-0.91579-0.33404-0.86000.h5\n",
      "Epoch 00015: early stopping\n"
     ]
    }
   ],
   "source": [
    "history_model7 = mt.train()"
   ]
  },
  {
   "cell_type": "code",
   "execution_count": 40,
   "metadata": {},
   "outputs": [
    {
     "data": {
      "image/png": "[encoded data removed]",
      "text/plain": [
       "<Figure size 1080x288 with 2 Axes>"
      ]
     },
     "metadata": {},
     "output_type": "display_data"
    }
   ],
   "source": [
    "plot(history_model7)"
   ]
  },
  {
   "cell_type": "code",
   "execution_count": 22,
   "metadata": {},
   "outputs": [],
   "source": [
    "import time\n",
    "from keras.models import load_model\n",
    "model = load_model('model-00013-0.21743-0.91579-0.27847-0.89000.h5')"
   ]
  },
  {
   "cell_type": "code",
   "execution_count": 23,
   "metadata": {},
   "outputs": [],
   "source": [
    "mg = ModelGenerator(num_images_to_use=num_images_to_use, image_height=image_height, image_width=image_width, batch=batch)"
   ]
  },
  {
   "cell_type": "code",
   "execution_count": 24,
   "metadata": {},
   "outputs": [],
   "source": [
    "train_gen, val_gen = mg.generate()"
   ]
  },
  {
   "cell_type": "code",
   "execution_count": 28,
   "metadata": {},
   "outputs": [
    {
     "name": "stderr",
     "output_type": "stream",
     "text": [
      "/mnt/disks/user/anaconda3/lib/python3.6/site-packages/ipykernel_launcher.py:51: DeprecationWarning: `imread` is deprecated!\n",
      "`imread` is deprecated in SciPy 1.0.0, and will be removed in 1.2.0.\n",
      "Use ``imageio.imread`` instead.\n",
      "/mnt/disks/user/anaconda3/lib/python3.6/site-packages/ipykernel_launcher.py:21: DeprecationWarning: `imresize` is deprecated!\n",
      "`imresize` is deprecated in SciPy 1.0.0, and will be removed in 1.2.0.\n",
      "Use ``skimage.transform.resize`` instead.\n",
      "/mnt/disks/user/anaconda3/lib/python3.6/site-packages/ipykernel_launcher.py:19: DeprecationWarning: `imresize` is deprecated!\n",
      "`imresize` is deprecated in SciPy 1.0.0, and will be removed in 1.2.0.\n",
      "Use ``skimage.transform.resize`` instead.\n"
     ]
    }
   ],
   "source": [
    "data, label = next(train_gen)"
   ]
  },
  {
   "cell_type": "code",
   "execution_count": 29,
   "metadata": {},
   "outputs": [
    {
     "data": {
      "text/plain": [
       "array([[0., 0., 0., 1., 0.],\n",
       "       [0., 0., 1., 0., 0.],\n",
       "       [0., 1., 0., 0., 0.],\n",
       "       [0., 0., 0., 1., 0.],\n",
       "       [0., 0., 1., 0., 0.]])"
      ]
     },
     "execution_count": 29,
     "metadata": {},
     "output_type": "execute_result"
    }
   ],
   "source": [
    "label"
   ]
  },
  {
   "cell_type": "code",
   "execution_count": 30,
   "metadata": {},
   "outputs": [
    {
     "name": "stdout",
     "output_type": "stream",
     "text": [
      "[3 2 1 3 2]\n"
     ]
    }
   ],
   "source": [
    "print(np.argmax(model.predict(data[:,:,:,:,:]),axis=1))"
   ]
  },
  {
   "cell_type": "code",
   "execution_count": null,
   "metadata": {},
   "outputs": [],
   "source": []
  }
 ],
 "metadata": {
  "kernelspec": {
   "display_name": "Python 3",
   "language": "python",
   "name": "python3"
  },
  "language_info": {
   "codemirror_mode": {
    "name": "ipython",
    "version": 3
   },
   "file_extension": ".py",
   "mimetype": "text/x-python",
   "name": "python",
   "nbconvert_exporter": "python",
   "pygments_lexer": "ipython3",
   "version": "3.6.8"
  }
 },
 "nbformat": 4,
 "nbformat_minor": 4
}
