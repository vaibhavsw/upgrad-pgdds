{
 "cells": [
  {
   "cell_type": "code",
   "execution_count": 1,
   "metadata": {},
   "outputs": [],
   "source": [
    "input_list = [5,6,4,8,9]\n",
    "cube = list(map(lambda x: x**3, input_list))"
   ]
  },
  {
   "cell_type": "code",
   "execution_count": 2,
   "metadata": {},
   "outputs": [
    {
     "name": "stdout",
     "output_type": "stream",
     "text": [
      "[125, 216, 64, 512, 729]\n"
     ]
    }
   ],
   "source": [
    "print(cube)"
   ]
  },
  {
   "cell_type": "code",
   "execution_count": 7,
   "metadata": {},
   "outputs": [],
   "source": [
    "input_str_list = ['San Jose', 'San Francisco', 'Santa Fe', 'Houston']\n",
    "string_with_s = sum(map(lambda s: s[0].lower() == 's', input_str_list))"
   ]
  },
  {
   "cell_type": "code",
   "execution_count": 8,
   "metadata": {},
   "outputs": [
    {
     "name": "stdout",
     "output_type": "stream",
     "text": [
      "3\n"
     ]
    }
   ],
   "source": [
    "print(string_with_s)"
   ]
  },
  {
   "cell_type": "code",
   "execution_count": 9,
   "metadata": {},
   "outputs": [],
   "source": [
    "input_names = [ ['Ankur', 'Avik', 'Kiran', 'Nitin'], ['Narang', 'Sarkar', 'R', 'Sareen']]\n",
    "\n",
    "name = list(map(lambda x, y : x + \" \" + y, input_names[0], input_names[1]))"
   ]
  },
  {
   "cell_type": "code",
   "execution_count": 10,
   "metadata": {},
   "outputs": [
    {
     "name": "stdout",
     "output_type": "stream",
     "text": [
      "['Ankur Narang', 'Avik Sarkar', 'Kiran R', 'Nitin Sareen']\n"
     ]
    }
   ],
   "source": [
    "print(name)"
   ]
  },
  {
   "cell_type": "code",
   "execution_count": 13,
   "metadata": {},
   "outputs": [
    {
     "name": "stdout",
     "output_type": "stream",
     "text": [
      "[5, 10]\n"
     ]
    }
   ],
   "source": [
    "list_answer = list(filter(lambda x: x % 5 == 0, [1, 2, 3, 4, 5, 6, 7, 8, 9, 10]))\n",
    "\n",
    "print(list_answer)"
   ]
  },
  {
   "cell_type": "code",
   "execution_count": 14,
   "metadata": {},
   "outputs": [
    {
     "data": {
      "text/plain": [
       "['soap', 'sharp', 'ship', 'sheep']"
      ]
     },
     "execution_count": 14,
     "metadata": {},
     "output_type": "execute_result"
    }
   ],
   "source": [
    "input_list = ['soap','sharp','shy','silent','ship','summer','sheep']\n",
    "answer = list(filter(lambda x: x[0].lower() == 's' and x[-1].lower() == 'p', input_list))\n",
    "\n",
    "answer"
   ]
  },
  {
   "cell_type": "code",
   "execution_count": 17,
   "metadata": {},
   "outputs": [
    {
     "data": {
      "text/plain": [
       "'All you have to fear is fear itself'"
      ]
     },
     "execution_count": 17,
     "metadata": {},
     "output_type": "execute_result"
    }
   ],
   "source": [
    "from functools import reduce\n",
    "\n",
    "input_list = ['All','you','have','to','fear','is','fear','itself']\n",
    "ans = reduce(lambda x, y: x + ' ' + y, input_list)\n",
    "\n",
    "ans"
   ]
  },
  {
   "cell_type": "code",
   "execution_count": 24,
   "metadata": {},
   "outputs": [
    {
     "data": {
      "text/plain": [
       "89"
      ]
     },
     "execution_count": 24,
     "metadata": {},
     "output_type": "execute_result"
    }
   ],
   "source": [
    "input_list = [31, 63, 76, 89]\n",
    "answer = reduce(lambda x, y: x if x > y else y, input_list)\n",
    "\n",
    "answer"
   ]
  },
  {
   "cell_type": "code",
   "execution_count": 25,
   "metadata": {},
   "outputs": [
    {
     "name": "stdout",
     "output_type": "stream",
     "text": [
      "[14, 24, 36, 30]\n"
     ]
    }
   ],
   "source": [
    "list_1 = [2,3,4,5]\n",
    "list_2 = [7,8,9,6]\n",
    "\n",
    "import numpy as np\n",
    "\n",
    "array_1 = np.array(list_1)\n",
    "array_2 = np.array(list_2)\n",
    "array_3 = array_1 * array_2\n",
    "\n",
    "print(list(array_3))"
   ]
  },
  {
   "cell_type": "code",
   "execution_count": 27,
   "metadata": {},
   "outputs": [
    {
     "name": "stdout",
     "output_type": "stream",
     "text": [
      "[ 5 10 15 20 25 30 35 40 45 50]\n"
     ]
    }
   ],
   "source": [
    "array_multipleof5 = np.arange(5, 55, 5, dtype=int)\n",
    "\n",
    "print(array_multipleof5)"
   ]
  },
  {
   "cell_type": "code",
   "execution_count": 31,
   "metadata": {},
   "outputs": [
    {
     "name": "stdout",
     "output_type": "stream",
     "text": [
      "Enter number2\n",
      "[0 1 0 1]\n"
     ]
    }
   ],
   "source": [
    "n = int(input(\"Enter number\"))\n",
    "print(np.tile([0, 1], n))"
   ]
  },
  {
   "cell_type": "code",
   "execution_count": 33,
   "metadata": {},
   "outputs": [
    {
     "name": "stdout",
     "output_type": "stream",
     "text": [
      "[1, 2, 3]\n"
     ]
    }
   ],
   "source": [
    "array_1 = [1, 2, 3, 5, 4, 6, 7, 8, 5, 3, 2]\n",
    "print(array_1[:3])"
   ]
  },
  {
   "cell_type": "code",
   "execution_count": 39,
   "metadata": {},
   "outputs": [
    {
     "name": "stdout",
     "output_type": "stream",
     "text": [
      "[6 6 8]\n"
     ]
    }
   ],
   "source": [
    "array = np.array([[5,6,7],[7,6,5],[0,8,7]])\n",
    "print(array[:, 1])"
   ]
  },
  {
   "cell_type": "code",
   "execution_count": 42,
   "metadata": {},
   "outputs": [
    {
     "name": "stdout",
     "output_type": "stream",
     "text": [
      "[11 21 31]\n",
      "[11 12 13 14]\n",
      "[14 24 34]\n",
      "[31 32 33 34]\n"
     ]
    }
   ],
   "source": [
    "array = [[11, 12, 13, 14],\n",
    " [21, 22, 23, 24],\n",
    " [31, 32, 33, 34]]\n",
    "\n",
    "array = np.array(array)\n",
    "\n",
    "col_first = array[:, 0] \n",
    "row_first = array[0, :]\n",
    "col_last = array[:, -1]\n",
    "row_last = array[-1, :]\n",
    "\n",
    "print(col_first)\n",
    "print(row_first)\n",
    "print(col_last)\n",
    "print(row_last)"
   ]
  },
  {
   "cell_type": "code",
   "execution_count": null,
   "metadata": {},
   "outputs": [],
   "source": []
  }
 ],
 "metadata": {
  "kernelspec": {
   "display_name": "Python 3",
   "language": "python",
   "name": "python3"
  },
  "language_info": {
   "codemirror_mode": {
    "name": "ipython",
    "version": 3
   },
   "file_extension": ".py",
   "mimetype": "text/x-python",
   "name": "python",
   "nbconvert_exporter": "python",
   "pygments_lexer": "ipython3",
   "version": "3.7.4"
  }
 },
 "nbformat": 4,
 "nbformat_minor": 2
}
