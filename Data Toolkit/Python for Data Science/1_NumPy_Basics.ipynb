{
 "cells": [
  {
   "cell_type": "markdown",
   "metadata": {},
   "source": [
    "# Introduction to NumPy\n",
    "\n",
    "\n",
    "The learning objectives of this section are:\n",
    "\n",
    "* Understand advantages of vectorised code using NumPy (over standard python ways)\n",
    "* Create NumPy arrays\n",
    "    * Convert lists and tuples to NumPy arrays \n",
    "    * Create (initialise) arrays\n",
    "* Inspect the structure and content of arrays\n",
    "* Subset, slice, index and iterate through arrays\n",
    "* Compare computation times in NumPy and standard Python lists"
   ]
  },
  {
   "cell_type": "markdown",
   "metadata": {},
   "source": [
    "### NumPy Basics\n",
    "\n",
    "NumPy is a library written for scientific computing and data analysis. It stands for numerical python.\n",
    "\n",
    "The most basic object in NumPy is the ```ndarray```, or simply an ```array```, which is an **n-dimensional, homogenous** array. By homogenous, we mean that all the elements in a NumPy array have to be of the **same data type**, which is commonly numeric (float or integer). \n",
    "\n",
    "Let's see some examples of arrays."
   ]
  },
  {
   "cell_type": "code",
   "execution_count": 4,
   "metadata": {},
   "outputs": [],
   "source": [
    "# Import the numpy library\n",
    "# np is simply an alias, you may use any other alias, though np is quite standard\n",
    "import numpy as np"
   ]
  },
  {
   "cell_type": "code",
   "execution_count": 5,
   "metadata": {},
   "outputs": [
    {
     "name": "stdout",
     "output_type": "stream",
     "text": [
      "[2 4 5 6 7 9]\n",
      "<class 'numpy.ndarray'>\n"
     ]
    }
   ],
   "source": [
    "# Creating a 1-D array using a list\n",
    "# np.array() takes in a list or a tuple as argument, and converts into an array\n",
    "array_1d = np.array([2, 4, 5, 6, 7, 9])\n",
    "print(array_1d)\n",
    "print(type(array_1d))"
   ]
  },
  {
   "cell_type": "code",
   "execution_count": 6,
   "metadata": {},
   "outputs": [
    {
     "name": "stdout",
     "output_type": "stream",
     "text": [
      "[[2 3 4]\n",
      " [5 8 7]]\n"
     ]
    }
   ],
   "source": [
    "# Creating a 2-D array using two lists\n",
    "array_2d = np.array([[2, 3, 4], [5, 8, 7]])\n",
    "print(array_2d)"
   ]
  },
  {
   "cell_type": "markdown",
   "metadata": {},
   "source": [
    "In NumPy, dimensions are called **axes**. In the 2-d array above, there are two axes, having two and three elements respectively. \n",
    "\n",
    "In NumPy terminology, for 2-D arrays:\n",
    "* ```axis = 0``` refers to the rows\n",
    "* ```axis = 1``` refers to the columns\n",
    "\n",
    "<img src=\"numpy_axes.jpg\" style=\"width: 600px; height: 400px\">"
   ]
  },
  {
   "cell_type": "markdown",
   "metadata": {},
   "source": [
    "### Advantages of NumPy \n",
    "\n",
    "What is the use of arrays over lists, specifically for data analysis? Putting crudely, it is **convenience and speed **:<br>\n",
    "1. You can write **vectorised** code on numpy arrays, not on lists, which is **convenient to read and write, and concise**. \n",
    "2. Numpy is **much faster** than the standard python ways to do computations.\n",
    "\n",
    "Vectorised code typically does not contain explicit looping and indexing etc. (all of this happens behind the scenes, in precompiled C-code), and thus it is much more concise.\n",
    "\n",
    "Let's see an example of convenience, we'll see one later for speed. "
   ]
  },
  {
   "cell_type": "markdown",
   "metadata": {},
   "source": [
    "Say you have two lists of numbers, and want to calculate the element-wise product. The standard python list way would need you to map a lambda function (or worse - write a ```for``` loop), whereas with NumPy, you simply multiply the arrays."
   ]
  },
  {
   "cell_type": "code",
   "execution_count": 7,
   "metadata": {},
   "outputs": [
    {
     "name": "stdout",
     "output_type": "stream",
     "text": [
      "[12, 30, 7, 35]\n"
     ]
    }
   ],
   "source": [
    "list_1 = [3, 6, 7, 5]\n",
    "list_2 = [4, 5, 1, 7]\n",
    "\n",
    "# the list way to do it: map a function to the two lists\n",
    "product_list = list(map(lambda x, y: x*y, list_1, list_2))\n",
    "print(product_list)\n"
   ]
  },
  {
   "cell_type": "code",
   "execution_count": 8,
   "metadata": {},
   "outputs": [
    {
     "name": "stdout",
     "output_type": "stream",
     "text": [
      "[12 30  7 35]\n",
      "<class 'numpy.ndarray'>\n"
     ]
    }
   ],
   "source": [
    "# The numpy array way to do it: simply multiply the two arrays\n",
    "array_1 = np.array(list_1)\n",
    "array_2 = np.array(list_2)\n",
    "\n",
    "array_3 = array_1*array_2\n",
    "print(array_3)\n",
    "print(type(array_3))"
   ]
  },
  {
   "cell_type": "markdown",
   "metadata": {},
   "source": [
    "As you can see, the NumPy way is clearly more concise.\n",
    "\n",
    "Even simple mathematical operations on lists require for loops, unlike with arrays. For example, to calculate the square of every number in a list:"
   ]
  },
  {
   "cell_type": "code",
   "execution_count": 9,
   "metadata": {},
   "outputs": [
    {
     "name": "stdout",
     "output_type": "stream",
     "text": [
      "[9, 36, 49, 25]\n",
      "[ 9 36 49 25]\n"
     ]
    }
   ],
   "source": [
    "# Square a list\n",
    "list_squared = [i**2 for i in list_1]\n",
    "\n",
    "# Square a numpy array\n",
    "array_squared = array_1**2\n",
    "\n",
    "print(list_squared)\n",
    "print(array_squared)"
   ]
  },
  {
   "cell_type": "markdown",
   "metadata": {},
   "source": [
    "This was with 1-D arrays. You'll often work with 2-D arrays (matrices), where the difference would be even greater. With lists, you'll have to store matrices as lists of lists and loop through them. With NumPy, you simply multiply the matrices."
   ]
  },
  {
   "cell_type": "markdown",
   "metadata": {},
   "source": [
    "### Creating NumPy Arrays \n",
    "\n",
    "There are multiple ways to create numpy arrays, the most commmon ones being:\n",
    "* Convert lists or tuples to arrays using ```np.array()```, as done above\n",
    "* Initialise arrays of fixed size (when the size is known) \n"
   ]
  },
  {
   "cell_type": "code",
   "execution_count": 10,
   "metadata": {},
   "outputs": [
    {
     "name": "stdout",
     "output_type": "stream",
     "text": [
      "[2 5 6 7]\n",
      "[4 5 8 9]\n"
     ]
    }
   ],
   "source": [
    "# Convert lists or tuples to arrays using np.array()\n",
    "# Note that np.array(2, 5, 6, 7) will throw an error - you need to pass a list or a tuple\n",
    "array_from_list = np.array([2, 5, 6, 7]) \n",
    "array_from_tuple = np.array((4, 5, 8, 9))\n",
    "\n",
    "print(array_from_list)\n",
    "print(array_from_tuple)"
   ]
  },
  {
   "cell_type": "markdown",
   "metadata": {},
   "source": [
    "The other common way is to initialise arrays. You do this when you know the size of the array beforehand.\n",
    "\n",
    "The following ways are commonly used:\n",
    "* ```np.ones()```: Create array of 1s\n",
    "* ```np.zeros()```: Create array of 0s\n",
    "* ```np.random.random()```: Create array of random numbers\n",
    "* ```np.arange()```: Create array with increments of a fixed step size\n",
    "* ```np.linspace()```: Create array of fixed length"
   ]
  },
  {
   "cell_type": "code",
   "execution_count": 11,
   "metadata": {},
   "outputs": [
    {
     "name": "stdout",
     "output_type": "stream",
     "text": [
      "Help on function ones in module numpy:\n",
      "\n",
      "ones(shape, dtype=None, order='C')\n",
      "    Return a new array of given shape and type, filled with ones.\n",
      "    \n",
      "    Parameters\n",
      "    ----------\n",
      "    shape : int or sequence of ints\n",
      "        Shape of the new array, e.g., ``(2, 3)`` or ``2``.\n",
      "    dtype : data-type, optional\n",
      "        The desired data-type for the array, e.g., `numpy.int8`.  Default is\n",
      "        `numpy.float64`.\n",
      "    order : {'C', 'F'}, optional, default: C\n",
      "        Whether to store multi-dimensional data in row-major\n",
      "        (C-style) or column-major (Fortran-style) order in\n",
      "        memory.\n",
      "    \n",
      "    Returns\n",
      "    -------\n",
      "    out : ndarray\n",
      "        Array of ones with the given shape, dtype, and order.\n",
      "    \n",
      "    See Also\n",
      "    --------\n",
      "    ones_like : Return an array of ones with shape and type of input.\n",
      "    empty : Return a new uninitialized array.\n",
      "    zeros : Return a new array setting values to zero.\n",
      "    full : Return a new array of given shape filled with value.\n",
      "    \n",
      "    \n",
      "    Examples\n",
      "    --------\n",
      "    >>> np.ones(5)\n",
      "    array([1., 1., 1., 1., 1.])\n",
      "    \n",
      "    >>> np.ones((5,), dtype=int)\n",
      "    array([1, 1, 1, 1, 1])\n",
      "    \n",
      "    >>> np.ones((2, 1))\n",
      "    array([[1.],\n",
      "           [1.]])\n",
      "    \n",
      "    >>> s = (2,2)\n",
      "    >>> np.ones(s)\n",
      "    array([[1.,  1.],\n",
      "           [1.,  1.]])\n",
      "\n"
     ]
    }
   ],
   "source": [
    "# Tip: Use help to see the syntax when required\n",
    "help(np.ones)"
   ]
  },
  {
   "cell_type": "code",
   "execution_count": 12,
   "metadata": {},
   "outputs": [
    {
     "data": {
      "text/plain": [
       "array([[1., 1., 1.],\n",
       "       [1., 1., 1.],\n",
       "       [1., 1., 1.],\n",
       "       [1., 1., 1.],\n",
       "       [1., 1., 1.]])"
      ]
     },
     "execution_count": 12,
     "metadata": {},
     "output_type": "execute_result"
    }
   ],
   "source": [
    "# Creating a 5 x 3 array of ones\n",
    "np.ones((5, 3))"
   ]
  },
  {
   "cell_type": "code",
   "execution_count": 13,
   "metadata": {},
   "outputs": [
    {
     "data": {
      "text/plain": [
       "array([[1, 1, 1],\n",
       "       [1, 1, 1],\n",
       "       [1, 1, 1],\n",
       "       [1, 1, 1],\n",
       "       [1, 1, 1]])"
      ]
     },
     "execution_count": 13,
     "metadata": {},
     "output_type": "execute_result"
    }
   ],
   "source": [
    "# Notice that, by default, numpy creates data type = float64\n",
    "# Can provide dtype explicitly using dtype\n",
    "np.ones((5, 3), dtype = np.int)"
   ]
  },
  {
   "cell_type": "code",
   "execution_count": 14,
   "metadata": {},
   "outputs": [
    {
     "data": {
      "text/plain": [
       "array([0, 0, 0, 0])"
      ]
     },
     "execution_count": 14,
     "metadata": {},
     "output_type": "execute_result"
    }
   ],
   "source": [
    "# Creating array of zeros\n",
    "np.zeros(4, dtype = np.int)"
   ]
  },
  {
   "cell_type": "code",
   "execution_count": 15,
   "metadata": {},
   "outputs": [
    {
     "data": {
      "text/plain": [
       "array([[0.99678683, 0.98377456, 0.72483921, 0.48661585],\n",
       "       [0.75079828, 0.7748102 , 0.5032499 , 0.66673345],\n",
       "       [0.08122273, 0.89479062, 0.98941011, 0.00910618]])"
      ]
     },
     "execution_count": 15,
     "metadata": {},
     "output_type": "execute_result"
    }
   ],
   "source": [
    "# Array of random numbers\n",
    "np.random.random([3, 4])"
   ]
  },
  {
   "cell_type": "code",
   "execution_count": 16,
   "metadata": {},
   "outputs": [
    {
     "name": "stdout",
     "output_type": "stream",
     "text": [
      "[10 15 20 25 30 35 40 45 50 55 60 65 70 75 80 85 90 95]\n"
     ]
    }
   ],
   "source": [
    "# np.arange()\n",
    "# np.arange() is the numpy equivalent of range()\n",
    "# Notice that 10 is included, 100 is not, as in standard python lists\n",
    "\n",
    "# From 10 to 100 with a step of 5\n",
    "numbers = np.arange(10, 100, 5)\n",
    "print(numbers)"
   ]
  },
  {
   "cell_type": "code",
   "execution_count": 17,
   "metadata": {},
   "outputs": [
    {
     "data": {
      "text/plain": [
       "array([15.   , 15.125, 15.25 , 15.375, 15.5  , 15.625, 15.75 , 15.875,\n",
       "       16.   , 16.125, 16.25 , 16.375, 16.5  , 16.625, 16.75 , 16.875,\n",
       "       17.   , 17.125, 17.25 , 17.375, 17.5  , 17.625, 17.75 , 17.875,\n",
       "       18.   ])"
      ]
     },
     "execution_count": 17,
     "metadata": {},
     "output_type": "execute_result"
    }
   ],
   "source": [
    "# np.linspace()\n",
    "# Sometimes, you know the length of the array, not the step size\n",
    "\n",
    "# Array of length 25 between 15 and 18\n",
    "np.linspace(15, 18, 25)"
   ]
  },
  {
   "cell_type": "markdown",
   "metadata": {},
   "source": [
    "Apart from the methods mentioned above, there are a few more NumPy functions that you can use to create special NumPy arrays:\n",
    "\n",
    "-  `np.full()`: Create a constant array of any number ‘n’\n",
    "-  `np.tile()`: Create a new array by repeating an existing array for a particular number of times\n",
    "-  `np.eye()`: Create an identity matrix of any dimension\n",
    "-  `np.random.randint()`: Create a random array of integers within a particular range"
   ]
  },
  {
   "cell_type": "code",
   "execution_count": 18,
   "metadata": {},
   "outputs": [
    {
     "data": {
      "text/plain": [
       "array([[7, 7, 7],\n",
       "       [7, 7, 7],\n",
       "       [7, 7, 7],\n",
       "       [7, 7, 7]])"
      ]
     },
     "execution_count": 18,
     "metadata": {},
     "output_type": "execute_result"
    }
   ],
   "source": [
    "# Creating a 4 x 3 array of 7s using np.full()\n",
    "# The default data type here is int only\n",
    "np.full((4,3), 7)"
   ]
  },
  {
   "cell_type": "code",
   "execution_count": 19,
   "metadata": {},
   "outputs": [
    {
     "data": {
      "text/plain": [
       "array([0, 1, 2, 0, 1, 2, 0, 1, 2])"
      ]
     },
     "execution_count": 19,
     "metadata": {},
     "output_type": "execute_result"
    }
   ],
   "source": [
    "# Given an array, np.tile() creates a new array by repeating the given array for any number of times that you want\n",
    "# The default data type her is int only\n",
    "arr = ([0, 1, 2])\n",
    "np.tile(arr, 3)"
   ]
  },
  {
   "cell_type": "code",
   "execution_count": 20,
   "metadata": {},
   "outputs": [
    {
     "data": {
      "text/plain": [
       "array([[0, 1, 2, 0, 1, 2],\n",
       "       [0, 1, 2, 0, 1, 2],\n",
       "       [0, 1, 2, 0, 1, 2]])"
      ]
     },
     "execution_count": 20,
     "metadata": {},
     "output_type": "execute_result"
    }
   ],
   "source": [
    "# You can also create multidimensional arrays using np.tile()\n",
    "np.tile(arr, (3,2))"
   ]
  },
  {
   "cell_type": "code",
   "execution_count": 21,
   "metadata": {},
   "outputs": [
    {
     "data": {
      "text/plain": [
       "array([[1, 0, 0],\n",
       "       [0, 1, 0],\n",
       "       [0, 0, 1]])"
      ]
     },
     "execution_count": 21,
     "metadata": {},
     "output_type": "execute_result"
    }
   ],
   "source": [
    "# Create a 3 x 3 identity matrix using np.eye()\n",
    "# The default data type here is float. So if we want integer values, we need to specify the dtype to be int\n",
    "np.eye(3, dtype = int)"
   ]
  },
  {
   "cell_type": "code",
   "execution_count": 22,
   "metadata": {
    "scrolled": true
   },
   "outputs": [
    {
     "data": {
      "text/plain": [
       "array([[3, 2, 0, 0],\n",
       "       [5, 8, 9, 8],\n",
       "       [7, 9, 4, 8],\n",
       "       [6, 8, 5, 3]])"
      ]
     },
     "execution_count": 22,
     "metadata": {},
     "output_type": "execute_result"
    }
   ],
   "source": [
    "# Create a 4 x 4 random array of integers ranging from 0 to 9\n",
    "np.random.randint(0, 10, (4,4))"
   ]
  },
  {
   "cell_type": "markdown",
   "metadata": {},
   "source": [
    "### Inspect the Structure and Content of Arrays\n",
    "\n",
    "It is helpful to inspect the structure of numpy arrays, especially while working with large arrays. Some attributes of numpy arrays are:\n",
    "* ```shape```: Shape of array (n x m)\n",
    "* ```dtype```: data type (int, float etc.)\n",
    "* ```ndim```: Number of dimensions (or axes)\n",
    "* ```itemsize```: Memory used by each array elememnt in bytes\n",
    "\n",
    "\n",
    "Let's say you are working with a moderately large array of size 1000 x 300. First, you would want to wrap your head around the basic shape and size of the array. "
   ]
  },
  {
   "cell_type": "code",
   "execution_count": 25,
   "metadata": {},
   "outputs": [
    {
     "name": "stdout",
     "output_type": "stream",
     "text": [
      "[0.01613534 0.09769069 0.62897593 0.50575541 0.42359421 0.1050058\n",
      " 0.68167208 0.1023945  0.85728707 0.5134762  0.87337484 0.53209969\n",
      " 0.69585353 0.66601942 0.11818285 0.71134755 0.94704288 0.2441348\n",
      " 0.76513405 0.82483729 0.85741449 0.43783196 0.66508853 0.54659895\n",
      " 0.15039319 0.04326573 0.1204243  0.27456683 0.93228403 0.00669545\n",
      " 0.83362652 0.1438406  0.96930595 0.01053301 0.44010977 0.72971717\n",
      " 0.03233715 0.80048587 0.3333229  0.03989008 0.69302945 0.55348093\n",
      " 0.29478291 0.84691365 0.236121   0.99102495 0.44885429 0.77513056\n",
      " 0.4209991  0.06303783 0.14109556 0.08265303 0.98914296 0.58270785\n",
      " 0.02864484 0.78273566 0.15910606 0.34003104 0.27956041 0.15431259\n",
      " 0.66884851 0.75677253 0.65532706 0.35175915 0.1500676  0.41985949\n",
      " 0.13887785 0.42370622 0.66707784 0.58316851 0.23495977 0.63918852\n",
      " 0.63148823 0.00374963 0.37942391 0.44418416 0.46567965 0.87368658\n",
      " 0.54315377 0.2511407  0.91803445 0.64727518 0.96902498 0.01491739\n",
      " 0.04826566 0.4998106  0.34482419 0.75573602 0.37058401 0.73613305\n",
      " 0.07881658 0.75825885 0.47253223 0.16583104 0.47013061 0.88641807\n",
      " 0.49113934 0.84972967 0.55497917 0.89857308 0.36591751 0.90926555\n",
      " 0.22303392 0.79858757 0.0964229  0.20478457 0.87235979 0.18920646\n",
      " 0.74445873 0.34169288 0.53692546 0.32668205 0.6103557  0.54401548\n",
      " 0.07103618 0.47822374 0.73108856 0.20268714 0.64989261 0.07175651\n",
      " 0.51431577 0.82929806 0.06365388 0.1764179  0.44731683 0.49568017\n",
      " 0.49001135 0.01753157 0.51710325 0.3363747  0.31547951 0.21284567\n",
      " 0.45971262 0.22128332 0.99746203 0.74064987 0.6474133  0.79620932\n",
      " 0.6594188  0.13939204 0.87549059 0.67416879 0.33219439 0.97010708\n",
      " 0.71472424 0.70935257 0.20550586 0.88105236 0.81337288 0.5765697\n",
      " 0.11529544 0.6413121  0.17640962 0.87807373 0.63439656 0.29218441\n",
      " 0.43821507 0.92083023 0.20487727 0.69166249 0.58888486 0.91205932\n",
      " 0.60619469 0.63296703 0.23846433 0.78547881 0.42358094 0.01189342\n",
      " 0.01256026 0.77903009 0.23096006 0.98246801 0.37460319 0.9545462\n",
      " 0.73788928 0.5728439  0.4782698  0.25716092 0.18181769 0.82768333\n",
      " 0.42842279 0.950948   0.85504206 0.63593379 0.02415843 0.11918736\n",
      " 0.50184142 0.86788107 0.20485064 0.84060997 0.79922625 0.43606777\n",
      " 0.31759847 0.68495677 0.60396222 0.36398133 0.04293393 0.41597666\n",
      " 0.07864532 0.26573456 0.95117413 0.0755151  0.24042871 0.91554865\n",
      " 0.40262569 0.28176516 0.38056962 0.29965955 0.06439989 0.65971694\n",
      " 0.10725986 0.48616333 0.11915839 0.59568274 0.55714362 0.73307366\n",
      " 0.86993698 0.6342247  0.14276591 0.16126749 0.1770617  0.84929509\n",
      " 0.64491229 0.53734645 0.5504163  0.2956055  0.66418389 0.85213547\n",
      " 0.87526439 0.59800837 0.42442373 0.1967353  0.63494198 0.92065176\n",
      " 0.50153889 0.29513536 0.60036176 0.22829284 0.89106499 0.88568509\n",
      " 0.19680848 0.9556926  0.47509935 0.46046526 0.90474159 0.87186996\n",
      " 0.51707145 0.37669234 0.21387017 0.04866366 0.05426449 0.83473617\n",
      " 0.96351425 0.72376525 0.49445626 0.30317224 0.44217072 0.90249242\n",
      " 0.02921454 0.41234221 0.1470401  0.02184559 0.45079385 0.69987406\n",
      " 0.41910216 0.38962571 0.20732913 0.24832278 0.48808237 0.3003594\n",
      " 0.65435434 0.75575905 0.30266113 0.24564034 0.09766551 0.15019664\n",
      " 0.49888978 0.33894125 0.60632604 0.38665684 0.44850497 0.36771531\n",
      " 0.45716857 0.24307534 0.78912359 0.22047045 0.14578806 0.68666352\n",
      " 0.13225916 0.75075748 0.98290992 0.25855367 0.57360626 0.38722436\n",
      " 0.87368105 0.51832003 0.57319309 0.94023076 0.31389467 0.41493315]\n"
     ]
    }
   ],
   "source": [
    "# Initialising a random 1000 x 300 array\n",
    "rand_array = np.random.random((1000, 300))\n",
    "\n",
    "# Print the second row\n",
    "print(rand_array[1, ])"
   ]
  },
  {
   "cell_type": "code",
   "execution_count": 26,
   "metadata": {},
   "outputs": [
    {
     "name": "stdout",
     "output_type": "stream",
     "text": [
      "Shape: (1000, 300)\n",
      "dtype: float64\n",
      "Dimensions: 2\n",
      "Item size: 8\n"
     ]
    }
   ],
   "source": [
    "# Inspecting shape, dtype, ndim and itemsize\n",
    "print(\"Shape: {}\".format(rand_array.shape))\n",
    "print(\"dtype: {}\".format(rand_array.dtype))\n",
    "print(\"Dimensions: {}\".format(rand_array.ndim))\n",
    "print(\"Item size: {}\".format(rand_array.itemsize))"
   ]
  },
  {
   "cell_type": "markdown",
   "metadata": {},
   "source": [
    "Reading 3-D arrays is not very obvious, because we can only print maximum two dimensions on paper, and thus they are printed according to a specific convention. Printing higher dimensional arrays follows the following conventions:\n",
    "* The last axis is printed from left to right\n",
    "* The second-to-last axis is printed from top to bottom\n",
    "* The other axes are also printed top-to-bottom, with each slice separated by another using an empty line \n",
    "\n",
    "Let's see some examples."
   ]
  },
  {
   "cell_type": "code",
   "execution_count": 27,
   "metadata": {},
   "outputs": [
    {
     "name": "stdout",
     "output_type": "stream",
     "text": [
      "[[[ 0  1  2  3]\n",
      "  [ 4  5  6  7]\n",
      "  [ 8  9 10 11]]\n",
      "\n",
      " [[12 13 14 15]\n",
      "  [16 17 18 19]\n",
      "  [20 21 22 23]]]\n"
     ]
    }
   ],
   "source": [
    "# Creating a 3-D array\n",
    "# reshape() simply reshapes a 1-D array \n",
    "array_3d = np.arange(24).reshape(2, 3, 4)\n",
    "print(array_3d)"
   ]
  },
  {
   "cell_type": "markdown",
   "metadata": {},
   "source": [
    "* The last axis has 4 elements, and is printed from left to right.\n",
    "* The second last has 3, and is printed top to bottom\n",
    "* The other axis has 2, and is printed in the two separated blocks"
   ]
  },
  {
   "cell_type": "markdown",
   "metadata": {},
   "source": [
    "### Subset, Slice, Index and Iterate through Arrays\n",
    "\n",
    "For **one-dimensional arrays**, indexing, slicing etc. is **similar to python lists** - indexing starts at 0."
   ]
  },
  {
   "cell_type": "code",
   "execution_count": 28,
   "metadata": {},
   "outputs": [
    {
     "name": "stdout",
     "output_type": "stream",
     "text": [
      "[0 1 2 3 4 5 6 7 8 9]\n"
     ]
    }
   ],
   "source": [
    "# Indexing and slicing one dimensional arrays\n",
    "array_1d = np.arange(10)\n",
    "print(array_1d)"
   ]
  },
  {
   "cell_type": "code",
   "execution_count": 29,
   "metadata": {},
   "outputs": [
    {
     "name": "stdout",
     "output_type": "stream",
     "text": [
      "2\n",
      "[2 5 6]\n",
      "[2 3 4 5 6 7 8 9]\n",
      "[0 1 2]\n",
      "[2 3 4 5 6]\n",
      "[0 2 4 6 8]\n"
     ]
    }
   ],
   "source": [
    "# Third element\n",
    "print(array_1d[2])\n",
    "\n",
    "# Specific elements\n",
    "# Notice that array[2, 5, 6] will throw an error, you need to provide the indices as a list\n",
    "print(array_1d[[2, 5, 6]])\n",
    "\n",
    "# Slice third element onwards\n",
    "print(array_1d[2:])\n",
    "\n",
    "# Slice first three elements\n",
    "print(array_1d[:3])\n",
    "\n",
    "# Slice third to seventh elements\n",
    "print(array_1d[2:7])\n",
    "\n",
    "# Subset starting 0 at increment of 2 \n",
    "print(array_1d[0::2])"
   ]
  },
  {
   "cell_type": "code",
   "execution_count": 30,
   "metadata": {},
   "outputs": [
    {
     "name": "stdout",
     "output_type": "stream",
     "text": [
      "0\n",
      "1\n",
      "4\n",
      "9\n",
      "16\n",
      "25\n",
      "36\n",
      "49\n",
      "64\n",
      "81\n"
     ]
    }
   ],
   "source": [
    "# Iterations are also similar to lists\n",
    "for i in array_1d:\n",
    "    print(i**2)"
   ]
  },
  {
   "cell_type": "markdown",
   "metadata": {},
   "source": [
    "**Multidimensional arrays** are indexed using as many indices as the number of dimensions or axes. For instance, to index a 2-D array, you need two indices - ```array[x, y]```. \n",
    "\n",
    "Each axes has an index starting at 0. The following figure shows the axes and their indices for a 2-D array.\n",
    "\n",
    "<img src=\"2_d_array.png\" style=\"width: 350px; height: 300px\">\n"
   ]
  },
  {
   "cell_type": "code",
   "execution_count": 31,
   "metadata": {},
   "outputs": [
    {
     "name": "stdout",
     "output_type": "stream",
     "text": [
      "[[ 2  5  7  5]\n",
      " [ 4  6  8 10]\n",
      " [10 12 15 19]]\n"
     ]
    }
   ],
   "source": [
    "# Creating a 2-D array\n",
    "array_2d = np.array([[2, 5, 7, 5], [4, 6, 8, 10], [10, 12, 15, 19]])\n",
    "print(array_2d)"
   ]
  },
  {
   "cell_type": "code",
   "execution_count": 33,
   "metadata": {},
   "outputs": [
    {
     "name": "stdout",
     "output_type": "stream",
     "text": [
      "12\n",
      "12\n"
     ]
    }
   ],
   "source": [
    "# Third row second column\n",
    "print(array_2d[2, 1])\n",
    "print(array_2d[2][1])"
   ]
  },
  {
   "cell_type": "code",
   "execution_count": 34,
   "metadata": {},
   "outputs": [
    {
     "name": "stdout",
     "output_type": "stream",
     "text": [
      "[ 4  6  8 10]\n",
      "<class 'numpy.ndarray'>\n"
     ]
    }
   ],
   "source": [
    "# Slicing the second row, and all columns\n",
    "# Notice that the resultant is itself a 1-D array\n",
    "print(array_2d[1, :])\n",
    "print(type(array_2d[1, :]))"
   ]
  },
  {
   "cell_type": "code",
   "execution_count": 35,
   "metadata": {},
   "outputs": [
    {
     "name": "stdout",
     "output_type": "stream",
     "text": [
      "[ 7  8 15]\n"
     ]
    }
   ],
   "source": [
    "# Slicing all rows and the third column\n",
    "print(array_2d[:, 2])"
   ]
  },
  {
   "cell_type": "code",
   "execution_count": 30,
   "metadata": {},
   "outputs": [
    {
     "name": "stdout",
     "output_type": "stream",
     "text": [
      "[[ 2  5  7]\n",
      " [ 4  6  8]\n",
      " [10 12 15]]\n"
     ]
    }
   ],
   "source": [
    "# Slicing all rows and the first three columns\n",
    "print(array_2d[:, :3])"
   ]
  },
  {
   "cell_type": "markdown",
   "metadata": {},
   "source": [
    "**Iterating on 2-D arrays** is done with respect to the first axis (which is row, the second axis is column). "
   ]
  },
  {
   "cell_type": "code",
   "execution_count": 31,
   "metadata": {},
   "outputs": [
    {
     "name": "stdout",
     "output_type": "stream",
     "text": [
      "[2 5 7 5]\n",
      "[ 4  6  8 10]\n",
      "[10 12 15 19]\n"
     ]
    }
   ],
   "source": [
    "# Iterating over 2-D arrays\n",
    "for row in array_2d:\n",
    "    print(row)"
   ]
  },
  {
   "cell_type": "code",
   "execution_count": 32,
   "metadata": {},
   "outputs": [
    {
     "name": "stdout",
     "output_type": "stream",
     "text": [
      "[[[ 0  1  2  3]\n",
      "  [ 4  5  6  7]\n",
      "  [ 8  9 10 11]]\n",
      "\n",
      " [[12 13 14 15]\n",
      "  [16 17 18 19]\n",
      "  [20 21 22 23]]]\n"
     ]
    }
   ],
   "source": [
    "# Iterating over 3-D arrays: Done with respect to the first axis\n",
    "array_3d = np.arange(24).reshape(2, 3, 4)\n",
    "print(array_3d)"
   ]
  },
  {
   "cell_type": "code",
   "execution_count": 33,
   "metadata": {},
   "outputs": [
    {
     "name": "stdout",
     "output_type": "stream",
     "text": [
      "[[ 0  1  2  3]\n",
      " [ 4  5  6  7]\n",
      " [ 8  9 10 11]]\n",
      "[[12 13 14 15]\n",
      " [16 17 18 19]\n",
      " [20 21 22 23]]\n"
     ]
    }
   ],
   "source": [
    "# Prints the two blocks\n",
    "for row in array_3d:\n",
    "    print(row)"
   ]
  },
  {
   "cell_type": "markdown",
   "metadata": {},
   "source": [
    "### Compare Computation Times in NumPy and Standard Python Lists\n",
    "\n",
    "We mentioned that the key advantages of numpy are convenience and speed of computation. \n",
    "\n",
    "You'll often work with extremely large datasets, and thus it is important point for you to understand how much computation time (and memory) you can save using numpy, compared to standard python lists.   \n",
    "\n",
    "Let's compare the computation times of arrays and lists for a simple task of calculating the element-wise product of numbers. "
   ]
  },
  {
   "cell_type": "code",
   "execution_count": 34,
   "metadata": {},
   "outputs": [
    {
     "name": "stdout",
     "output_type": "stream",
     "text": [
      "0.13862943649291992\n",
      "0.00394892692565918\n",
      "The ratio of time taken is 35.10559681217171\n"
     ]
    }
   ],
   "source": [
    "## Comparing time taken for computation\n",
    "list_1 = [i for i in range(1000000)]\n",
    "list_2 = [j**2 for j in range(1000000)]\n",
    "\n",
    "# list multiplication\n",
    "import time\n",
    "\n",
    "# store start time, time after computation, and take the difference\n",
    "t0 = time.time()\n",
    "product_list = list(map(lambda x, y: x*y, list_1, list_2))\n",
    "t1 = time.time()\n",
    "list_time = t1 - t0 \n",
    "print(t1-t0)\n",
    "\n",
    "\n",
    "# numpy array \n",
    "array_1 = np.array(list_1)\n",
    "array_2 = np.array(list_2)\n",
    "\n",
    "t0 = time.time()\n",
    "array_3 = array_1*array_2\n",
    "t1 = time.time()\n",
    "numpy_time = t1 - t0\n",
    "\n",
    "print(t1-t0)\n",
    "\n",
    "print(\"The ratio of time taken is {}\".format(list_time/numpy_time))"
   ]
  },
  {
   "cell_type": "markdown",
   "metadata": {},
   "source": [
    "In this case, numpy is **an order of magnitude faster** than lists. This is with arrays of size in millions, but you may work on much larger arrays of sizes in order of billions. Then, the difference is even larger.\n",
    "\n",
    "Some reasons for such difference in speed are:\n",
    "* NumPy is written in C, which is basically being executed behind the scenes\n",
    "* NumPy arrays are more compact than lists, i.e. they take much lesser storage space than lists\n",
    "\n",
    "\n",
    "The following discussions demonstrate the differences in speeds of NumPy and standard python:\n",
    "1. https://stackoverflow.com/questions/8385602/why-are-numpy-arrays-so-fast\n",
    "2. https://stackoverflow.com/questions/993984/why-numpy-instead-of-python-lists\n"
   ]
  }
 ],
 "metadata": {
  "kernelspec": {
   "display_name": "Python 3",
   "language": "python",
   "name": "python3"
  },
  "language_info": {
   "codemirror_mode": {
    "name": "ipython",
    "version": 3
   },
   "file_extension": ".py",
   "mimetype": "text/x-python",
   "name": "python",
   "nbconvert_exporter": "python",
   "pygments_lexer": "ipython3",
   "version": "3.7.4"
  }
 },
 "nbformat": 4,
 "nbformat_minor": 2
}
