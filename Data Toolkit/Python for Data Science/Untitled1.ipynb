{
 "cells": [
  {
   "cell_type": "code",
   "execution_count": 2,
   "metadata": {},
   "outputs": [
    {
     "name": "stdout",
     "output_type": "stream",
     "text": [
      "     Ord_id  Prod_id   Ship_id    Cust_id    Sales  Discount  Order_Quantity  \\\n",
      "0  Ord_5446  Prod_16  SHP_7609  Cust_1818   136.81      0.01            23.0   \n",
      "1  Ord_5406  Prod_13  SHP_7549  Cust_1818    42.27      0.01            13.0   \n",
      "2  Ord_5446   Prod_4  SHP_7610  Cust_1818  4701.69      0.00            26.0   \n",
      "3  Ord_5456   Prod_6  SHP_7625  Cust_1818  2337.89      0.09            43.0   \n",
      "4  Ord_5485  Prod_17  SHP_7664  Cust_1818  4233.15      0.08            35.0   \n",
      "\n",
      "    Profit  Shipping_Cost  Product_Base_Margin  \n",
      "0   -30.51           3.60                 0.56  \n",
      "1     4.56           0.93                 0.54  \n",
      "2  1148.90           2.50                 0.59  \n",
      "3   729.34          14.30                 0.37  \n",
      "4  1219.87          26.30                 0.38  \n"
     ]
    }
   ],
   "source": [
    "import pandas as pd\n",
    "\n",
    "df = pd.read_csv('https://query.data.world/s/Hfu_PsEuD1Z_yJHmGaxWTxvkz7W_b0')\n",
    "print(df.head())"
   ]
  },
  {
   "cell_type": "code",
   "execution_count": 5,
   "metadata": {},
   "outputs": [
    {
     "data": {
      "text/plain": [
       "Ord_id                   0\n",
       "Prod_id                  0\n",
       "Ship_id                  0\n",
       "Cust_id                  0\n",
       "Sales                   20\n",
       "Discount                55\n",
       "Order_Quantity          55\n",
       "Profit                  55\n",
       "Shipping_Cost           55\n",
       "Product_Base_Margin    109\n",
       "dtype: int64"
      ]
     },
     "execution_count": 5,
     "metadata": {},
     "output_type": "execute_result"
    }
   ],
   "source": [
    "df.isnull().sum(axis=0)"
   ]
  },
  {
   "cell_type": "code",
   "execution_count": 15,
   "metadata": {},
   "outputs": [
    {
     "data": {
      "text/plain": [
       "Ord_id                 0.00\n",
       "Prod_id                0.00\n",
       "Ship_id                0.00\n",
       "Cust_id                0.00\n",
       "Sales                  0.24\n",
       "Discount               0.65\n",
       "Order_Quantity         0.65\n",
       "Profit                 0.65\n",
       "Shipping_Cost          0.65\n",
       "Product_Base_Margin    1.30\n",
       "dtype: float64"
      ]
     },
     "execution_count": 15,
     "metadata": {},
     "output_type": "execute_result"
    }
   ],
   "source": [
    "df = pd.read_csv('https://query.data.world/s/Hfu_PsEuD1Z_yJHmGaxWTxvkz7W_b0')\n",
    "round(100 * (df.isnull().sum(axis=0) / len(df.index)), 2)\n"
   ]
  },
  {
   "cell_type": "code",
   "execution_count": 20,
   "metadata": {},
   "outputs": [
    {
     "data": {
      "text/html": [
       "<div>\n",
       "<style scoped>\n",
       "    .dataframe tbody tr th:only-of-type {\n",
       "        vertical-align: middle;\n",
       "    }\n",
       "\n",
       "    .dataframe tbody tr th {\n",
       "        vertical-align: top;\n",
       "    }\n",
       "\n",
       "    .dataframe thead th {\n",
       "        text-align: right;\n",
       "    }\n",
       "</style>\n",
       "<table border=\"1\" class=\"dataframe\">\n",
       "  <thead>\n",
       "    <tr style=\"text-align: right;\">\n",
       "      <th></th>\n",
       "      <th>Sales</th>\n",
       "      <th>Discount</th>\n",
       "      <th>Order_Quantity</th>\n",
       "      <th>Profit</th>\n",
       "      <th>Shipping_Cost</th>\n",
       "      <th>Product_Base_Margin</th>\n",
       "    </tr>\n",
       "  </thead>\n",
       "  <tbody>\n",
       "    <tr>\n",
       "      <td>count</td>\n",
       "      <td>8379.000000</td>\n",
       "      <td>8344.000000</td>\n",
       "      <td>8344.000000</td>\n",
       "      <td>8344.000000</td>\n",
       "      <td>8344.000000</td>\n",
       "      <td>8290.000000</td>\n",
       "    </tr>\n",
       "    <tr>\n",
       "      <td>mean</td>\n",
       "      <td>1776.446422</td>\n",
       "      <td>0.049682</td>\n",
       "      <td>25.593960</td>\n",
       "      <td>180.447297</td>\n",
       "      <td>12.834402</td>\n",
       "      <td>0.512481</td>\n",
       "    </tr>\n",
       "    <tr>\n",
       "      <td>std</td>\n",
       "      <td>3587.529945</td>\n",
       "      <td>0.031825</td>\n",
       "      <td>14.481482</td>\n",
       "      <td>1194.694347</td>\n",
       "      <td>17.273677</td>\n",
       "      <td>0.135560</td>\n",
       "    </tr>\n",
       "    <tr>\n",
       "      <td>min</td>\n",
       "      <td>2.240000</td>\n",
       "      <td>0.000000</td>\n",
       "      <td>1.000000</td>\n",
       "      <td>-14140.700000</td>\n",
       "      <td>0.490000</td>\n",
       "      <td>0.350000</td>\n",
       "    </tr>\n",
       "    <tr>\n",
       "      <td>25%</td>\n",
       "      <td>143.195000</td>\n",
       "      <td>0.020000</td>\n",
       "      <td>13.000000</td>\n",
       "      <td>-83.352500</td>\n",
       "      <td>3.300000</td>\n",
       "      <td>0.380000</td>\n",
       "    </tr>\n",
       "    <tr>\n",
       "      <td>50%</td>\n",
       "      <td>449.170000</td>\n",
       "      <td>0.050000</td>\n",
       "      <td>26.000000</td>\n",
       "      <td>-1.540000</td>\n",
       "      <td>6.070000</td>\n",
       "      <td>0.520000</td>\n",
       "    </tr>\n",
       "    <tr>\n",
       "      <td>75%</td>\n",
       "      <td>1706.285000</td>\n",
       "      <td>0.080000</td>\n",
       "      <td>38.000000</td>\n",
       "      <td>163.472500</td>\n",
       "      <td>13.990000</td>\n",
       "      <td>0.590000</td>\n",
       "    </tr>\n",
       "    <tr>\n",
       "      <td>max</td>\n",
       "      <td>89061.050000</td>\n",
       "      <td>0.250000</td>\n",
       "      <td>50.000000</td>\n",
       "      <td>27220.690000</td>\n",
       "      <td>164.730000</td>\n",
       "      <td>0.850000</td>\n",
       "    </tr>\n",
       "  </tbody>\n",
       "</table>\n",
       "</div>"
      ],
      "text/plain": [
       "              Sales     Discount  Order_Quantity        Profit  Shipping_Cost  \\\n",
       "count   8379.000000  8344.000000     8344.000000   8344.000000    8344.000000   \n",
       "mean    1776.446422     0.049682       25.593960    180.447297      12.834402   \n",
       "std     3587.529945     0.031825       14.481482   1194.694347      17.273677   \n",
       "min        2.240000     0.000000        1.000000 -14140.700000       0.490000   \n",
       "25%      143.195000     0.020000       13.000000    -83.352500       3.300000   \n",
       "50%      449.170000     0.050000       26.000000     -1.540000       6.070000   \n",
       "75%     1706.285000     0.080000       38.000000    163.472500      13.990000   \n",
       "max    89061.050000     0.250000       50.000000  27220.690000     164.730000   \n",
       "\n",
       "       Product_Base_Margin  \n",
       "count          8290.000000  \n",
       "mean              0.512481  \n",
       "std               0.135560  \n",
       "min               0.350000  \n",
       "25%               0.380000  \n",
       "50%               0.520000  \n",
       "75%               0.590000  \n",
       "max               0.850000  "
      ]
     },
     "execution_count": 20,
     "metadata": {},
     "output_type": "execute_result"
    }
   ],
   "source": [
    "df.describe()\n"
   ]
  },
  {
   "cell_type": "code",
   "execution_count": 22,
   "metadata": {},
   "outputs": [
    {
     "data": {
      "text/plain": [
       "20"
      ]
     },
     "execution_count": 22,
     "metadata": {},
     "output_type": "execute_result"
    }
   ],
   "source": [
    "len(df[df.isnull().sum(axis = 1) > 5].index)"
   ]
  },
  {
   "cell_type": "code",
   "execution_count": 24,
   "metadata": {},
   "outputs": [
    {
     "data": {
      "text/html": [
       "<div>\n",
       "<style scoped>\n",
       "    .dataframe tbody tr th:only-of-type {\n",
       "        vertical-align: middle;\n",
       "    }\n",
       "\n",
       "    .dataframe tbody tr th {\n",
       "        vertical-align: top;\n",
       "    }\n",
       "\n",
       "    .dataframe thead th {\n",
       "        text-align: right;\n",
       "    }\n",
       "</style>\n",
       "<table border=\"1\" class=\"dataframe\">\n",
       "  <thead>\n",
       "    <tr style=\"text-align: right;\">\n",
       "      <th></th>\n",
       "      <th>Sales</th>\n",
       "      <th>Discount</th>\n",
       "      <th>Order_Quantity</th>\n",
       "      <th>Profit</th>\n",
       "      <th>Shipping_Cost</th>\n",
       "      <th>Product_Base_Margin</th>\n",
       "    </tr>\n",
       "  </thead>\n",
       "  <tbody>\n",
       "    <tr>\n",
       "      <td>count</td>\n",
       "      <td>8379.000000</td>\n",
       "      <td>8344.000000</td>\n",
       "      <td>8344.000000</td>\n",
       "      <td>8344.000000</td>\n",
       "      <td>8344.000000</td>\n",
       "      <td>8290.000000</td>\n",
       "    </tr>\n",
       "    <tr>\n",
       "      <td>mean</td>\n",
       "      <td>1776.446422</td>\n",
       "      <td>0.049682</td>\n",
       "      <td>25.593960</td>\n",
       "      <td>180.447297</td>\n",
       "      <td>12.834402</td>\n",
       "      <td>0.512481</td>\n",
       "    </tr>\n",
       "    <tr>\n",
       "      <td>std</td>\n",
       "      <td>3587.529945</td>\n",
       "      <td>0.031825</td>\n",
       "      <td>14.481482</td>\n",
       "      <td>1194.694347</td>\n",
       "      <td>17.273677</td>\n",
       "      <td>0.135560</td>\n",
       "    </tr>\n",
       "    <tr>\n",
       "      <td>min</td>\n",
       "      <td>2.240000</td>\n",
       "      <td>0.000000</td>\n",
       "      <td>1.000000</td>\n",
       "      <td>-14140.700000</td>\n",
       "      <td>0.490000</td>\n",
       "      <td>0.350000</td>\n",
       "    </tr>\n",
       "    <tr>\n",
       "      <td>25%</td>\n",
       "      <td>143.195000</td>\n",
       "      <td>0.020000</td>\n",
       "      <td>13.000000</td>\n",
       "      <td>-83.352500</td>\n",
       "      <td>3.300000</td>\n",
       "      <td>0.380000</td>\n",
       "    </tr>\n",
       "    <tr>\n",
       "      <td>50%</td>\n",
       "      <td>449.170000</td>\n",
       "      <td>0.050000</td>\n",
       "      <td>26.000000</td>\n",
       "      <td>-1.540000</td>\n",
       "      <td>6.070000</td>\n",
       "      <td>0.520000</td>\n",
       "    </tr>\n",
       "    <tr>\n",
       "      <td>75%</td>\n",
       "      <td>1706.285000</td>\n",
       "      <td>0.080000</td>\n",
       "      <td>38.000000</td>\n",
       "      <td>163.472500</td>\n",
       "      <td>13.990000</td>\n",
       "      <td>0.590000</td>\n",
       "    </tr>\n",
       "    <tr>\n",
       "      <td>max</td>\n",
       "      <td>89061.050000</td>\n",
       "      <td>0.250000</td>\n",
       "      <td>50.000000</td>\n",
       "      <td>27220.690000</td>\n",
       "      <td>164.730000</td>\n",
       "      <td>0.850000</td>\n",
       "    </tr>\n",
       "  </tbody>\n",
       "</table>\n",
       "</div>"
      ],
      "text/plain": [
       "              Sales     Discount  Order_Quantity        Profit  Shipping_Cost  \\\n",
       "count   8379.000000  8344.000000     8344.000000   8344.000000    8344.000000   \n",
       "mean    1776.446422     0.049682       25.593960    180.447297      12.834402   \n",
       "std     3587.529945     0.031825       14.481482   1194.694347      17.273677   \n",
       "min        2.240000     0.000000        1.000000 -14140.700000       0.490000   \n",
       "25%      143.195000     0.020000       13.000000    -83.352500       3.300000   \n",
       "50%      449.170000     0.050000       26.000000     -1.540000       6.070000   \n",
       "75%     1706.285000     0.080000       38.000000    163.472500      13.990000   \n",
       "max    89061.050000     0.250000       50.000000  27220.690000     164.730000   \n",
       "\n",
       "       Product_Base_Margin  \n",
       "count          8290.000000  \n",
       "mean              0.512481  \n",
       "std               0.135560  \n",
       "min               0.350000  \n",
       "25%               0.380000  \n",
       "50%               0.520000  \n",
       "75%               0.590000  \n",
       "max               0.850000  "
      ]
     },
     "execution_count": 24,
     "metadata": {},
     "output_type": "execute_result"
    }
   ],
   "source": [
    "df = df[df.isnull().sum(axis = 1) <= 5]\n",
    "\n",
    "df.describe()"
   ]
  },
  {
   "cell_type": "code",
   "execution_count": 25,
   "metadata": {},
   "outputs": [],
   "source": [
    "df = pd.read_csv('https://query.data.world/s/Hfu_PsEuD1Z_yJHmGaxWTxvkz7W_b0')"
   ]
  },
  {
   "cell_type": "code",
   "execution_count": 27,
   "metadata": {},
   "outputs": [
    {
     "name": "stdout",
     "output_type": "stream",
     "text": [
      "<class 'pandas.core.frame.DataFrame'>\n",
      "RangeIndex: 8399 entries, 0 to 8398\n",
      "Data columns (total 10 columns):\n",
      "Ord_id                 8399 non-null object\n",
      "Prod_id                8399 non-null object\n",
      "Ship_id                8399 non-null object\n",
      "Cust_id                8399 non-null object\n",
      "Sales                  8379 non-null float64\n",
      "Discount               8344 non-null float64\n",
      "Order_Quantity         8344 non-null float64\n",
      "Profit                 8344 non-null float64\n",
      "Shipping_Cost          8344 non-null float64\n",
      "Product_Base_Margin    8290 non-null float64\n",
      "dtypes: float64(6), object(4)\n",
      "memory usage: 656.3+ KB\n"
     ]
    }
   ],
   "source": [
    "df.info()"
   ]
  },
  {
   "cell_type": "code",
   "execution_count": 28,
   "metadata": {},
   "outputs": [
    {
     "name": "stdout",
     "output_type": "stream",
     "text": [
      "109\n"
     ]
    }
   ],
   "source": [
    "print(df['Product_Base_Margin'].isnull().sum())"
   ]
  },
  {
   "cell_type": "code",
   "execution_count": 31,
   "metadata": {},
   "outputs": [
    {
     "name": "stdout",
     "output_type": "stream",
     "text": [
      "<class 'pandas.core.frame.DataFrame'>\n",
      "RangeIndex: 8399 entries, 0 to 8398\n",
      "Data columns (total 10 columns):\n",
      "Ord_id                 8399 non-null object\n",
      "Prod_id                8399 non-null object\n",
      "Ship_id                8399 non-null object\n",
      "Cust_id                8399 non-null object\n",
      "Sales                  8379 non-null float64\n",
      "Discount               8344 non-null float64\n",
      "Order_Quantity         8344 non-null float64\n",
      "Profit                 8344 non-null float64\n",
      "Shipping_Cost          8344 non-null float64\n",
      "Product_Base_Margin    8399 non-null float64\n",
      "dtypes: float64(6), object(4)\n",
      "memory usage: 656.3+ KB\n"
     ]
    }
   ],
   "source": [
    "import numpy as np\n",
    "\n",
    "df.loc[np.isnan(df['Product_Base_Margin']), 'Product_Base_Margin'] = df['Product_Base_Margin'].mean()\n",
    "\n",
    "\n",
    "df.info()"
   ]
  },
  {
   "cell_type": "code",
   "execution_count": 36,
   "metadata": {},
   "outputs": [
    {
     "name": "stdout",
     "output_type": "stream",
     "text": [
      "Ord_id                 0.00\n",
      "Prod_id                0.00\n",
      "Ship_id                0.00\n",
      "Cust_id                0.00\n",
      "Sales                  0.00\n",
      "Discount               0.01\n",
      "Order_Quantity         0.01\n",
      "Profit                 0.01\n",
      "Shipping_Cost          0.01\n",
      "Product_Base_Margin    0.00\n",
      "dtype: float64\n"
     ]
    }
   ],
   "source": [
    "# print(round(df.isnull().sum(axis=1) / len(df.index), 2))#Round off to 2 decimal places.\n",
    "\n",
    "print(round(df.isnull().sum(axis=0) / len(df.index), 2))#Round off to 2 decimal places."
   ]
  },
  {
   "cell_type": "code",
   "execution_count": null,
   "metadata": {},
   "outputs": [],
   "source": []
  }
 ],
 "metadata": {
  "kernelspec": {
   "display_name": "Python 3",
   "language": "python",
   "name": "python3"
  },
  "language_info": {
   "codemirror_mode": {
    "name": "ipython",
    "version": 3
   },
   "file_extension": ".py",
   "mimetype": "text/x-python",
   "name": "python",
   "nbconvert_exporter": "python",
   "pygments_lexer": "ipython3",
   "version": "3.7.4"
  }
 },
 "nbformat": 4,
 "nbformat_minor": 2
}
