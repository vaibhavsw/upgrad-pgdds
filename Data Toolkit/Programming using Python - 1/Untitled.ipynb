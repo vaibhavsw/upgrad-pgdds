{
 "cells": [
  {
   "cell_type": "code",
   "execution_count": 1,
   "metadata": {},
   "outputs": [
    {
     "data": {
      "text/plain": [
       "64"
      ]
     },
     "execution_count": 1,
     "metadata": {},
     "output_type": "execute_result"
    }
   ],
   "source": [
    "4**3"
   ]
  },
  {
   "cell_type": "code",
   "execution_count": 2,
   "metadata": {},
   "outputs": [
    {
     "data": {
      "text/plain": [
       "1"
      ]
     },
     "execution_count": 2,
     "metadata": {},
     "output_type": "execute_result"
    }
   ],
   "source": [
    "21 % 4"
   ]
  },
  {
   "cell_type": "code",
   "execution_count": 3,
   "metadata": {},
   "outputs": [
    {
     "data": {
      "text/plain": [
       "4.6"
      ]
     },
     "execution_count": 3,
     "metadata": {},
     "output_type": "execute_result"
    }
   ],
   "source": [
    "23/5"
   ]
  },
  {
   "cell_type": "code",
   "execution_count": 4,
   "metadata": {},
   "outputs": [
    {
     "data": {
      "text/plain": [
       "4"
      ]
     },
     "execution_count": 4,
     "metadata": {},
     "output_type": "execute_result"
    }
   ],
   "source": [
    "23//5"
   ]
  },
  {
   "cell_type": "code",
   "execution_count": 5,
   "metadata": {},
   "outputs": [
    {
     "name": "stdout",
     "output_type": "stream",
     "text": [
      "0\n",
      "1\n",
      "2\n"
     ]
    }
   ],
   "source": [
    "for i in range(3):\n",
    "    print(i)"
   ]
  },
  {
   "cell_type": "code",
   "execution_count": 6,
   "metadata": {},
   "outputs": [
    {
     "name": "stdout",
     "output_type": "stream",
     "text": [
      "11 12 13\n",
      "14\n"
     ]
    }
   ],
   "source": [
    "a = 11\n",
    "b = 12\n",
    "c = 13\n",
    "d = 14\n",
    "\n",
    "print(a,b,c)\n",
    "print(d)"
   ]
  },
  {
   "cell_type": "code",
   "execution_count": 7,
   "metadata": {},
   "outputs": [
    {
     "name": "stdout",
     "output_type": "stream",
     "text": [
      "11 12 13\n",
      "14\n"
     ]
    }
   ],
   "source": [
    "print('11 12 13\\n14')"
   ]
  },
  {
   "cell_type": "code",
   "execution_count": 8,
   "metadata": {},
   "outputs": [
    {
     "name": "stdout",
     "output_type": "stream",
     "text": [
      "11 12 13\n",
      "14\n"
     ]
    }
   ],
   "source": [
    "print('{0} {1} {2}'.format(a,b,c))\n",
    "print(d)"
   ]
  },
  {
   "cell_type": "code",
   "execution_count": 9,
   "metadata": {},
   "outputs": [
    {
     "name": "stdout",
     "output_type": "stream",
     "text": [
      "11 12 13\n",
      "14\n"
     ]
    }
   ],
   "source": [
    "print('%d %d %d' % (a,b,c))\n",
    "print(d)"
   ]
  },
  {
   "cell_type": "code",
   "execution_count": 10,
   "metadata": {},
   "outputs": [
    {
     "name": "stdout",
     "output_type": "stream",
     "text": [
      "111213\n",
      "14\n"
     ]
    }
   ],
   "source": [
    "print(f'{a}{b}{c}')\n",
    "print(d)"
   ]
  },
  {
   "cell_type": "code",
   "execution_count": 3,
   "metadata": {},
   "outputs": [
    {
     "name": "stdout",
     "output_type": "stream",
     "text": [
      "aaaa"
     ]
    }
   ],
   "source": [
    "n = 4\n",
    "while n > 0:\n",
    "    print('a',end='')\n",
    "    n -= 1"
   ]
  },
  {
   "cell_type": "code",
   "execution_count": 114,
   "metadata": {},
   "outputs": [
    {
     "name": "stdout",
     "output_type": "stream",
     "text": [
      "         *\n",
      "        *-*\n",
      "       *-*-*\n",
      "      *-*-*-*\n",
      "     *-*-*-*-*\n",
      "    *-*-*-*-*-*\n",
      "   *-*-*-*-*-*-*\n",
      "  *-*-*-*-*-*-*-*\n",
      " *-*-*-*-*-*-*-*-*\n",
      "*-*-*-*-*-*-*-*-*-*\n"
     ]
    }
   ],
   "source": [
    "n = 10\n",
    "\n",
    "for i in range(1, n+1):\n",
    "    for j in range(n-i):\n",
    "        print(' ', end='')\n",
    "    for k in range(i-1):\n",
    "        print('*-',end='')\n",
    "    \n",
    "    print('*')\n",
    "            \n",
    "        "
   ]
  },
  {
   "cell_type": "code",
   "execution_count": null,
   "metadata": {},
   "outputs": [],
   "source": [
    "import string\n",
    "n = 3\n",
    "alpha = string.ascii_lowercase\n",
    "strings = []\n",
    "for i in range(n):\n",
    "    s = alpha[i]\n",
    "    for j in range(i+1,n):\n",
    "        s += '-' + alpha[j]\n",
    "        \n",
    "    strings.append(s[::-1]+s[1:])\n",
    "\n",
    "padd_width = len(strings[0])\n",
    "for i in range(n-1, 0, -1):\n",
    "    print(strings[i].center(padd_width, \"-\"))\n",
    "    \n",
    "for i in range(n):\n",
    "    print(strings[i].center(padd_width, \"-\"))"
   ]
  },
  {
   "cell_type": "code",
   "execution_count": null,
   "metadata": {},
   "outputs": [],
   "source": [
    "print(153 == (((1**2)*1) + (5**2)*5) + (3**2)*3)"
   ]
  },
  {
   "cell_type": "code",
   "execution_count": 1,
   "metadata": {},
   "outputs": [
    {
     "name": "stdout",
     "output_type": "stream",
     "text": [
      "153\n"
     ]
    }
   ],
   "source": [
    "n = 153\n",
    "operand = n\n",
    "armstrong_nu = 0\n",
    "\n",
    "while operand > 0:\n",
    "    armstrong_nu += (operand % 10) ** 3\n",
    "    operand = operand // 10\n",
    "\n",
    "print(armstrong_nu)"
   ]
  },
  {
   "cell_type": "code",
   "execution_count": 32,
   "metadata": {},
   "outputs": [
    {
     "name": "stdout",
     "output_type": "stream",
     "text": [
      "0\n"
     ]
    }
   ],
   "source": [
    "n = 1\n",
    "numbers = [0]\n",
    "for i in range(0, n-1):\n",
    "    if i == 0:\n",
    "        print(numbers)\n",
    "        numbers.append(1)\n",
    "        continue\n",
    "    numbers.append(numbers[i-1] + numbers[i])\n",
    "    \n",
    "# print(*numbers,sep='\\n')\n",
    "print('\\n'.join(map(str, numbers)))\n",
    "    "
   ]
  },
  {
   "cell_type": "code",
   "execution_count": 58,
   "metadata": {},
   "outputs": [
    {
     "name": "stdout",
     "output_type": "stream",
     "text": [
      "[2, 5, 5, 7, 7]\n"
     ]
    },
    {
     "data": {
      "text/plain": [
       "26"
      ]
     },
     "execution_count": 58,
     "metadata": {},
     "output_type": "execute_result"
    }
   ],
   "source": [
    "from functools import reduce\n",
    "import math\n",
    "n = 10\n",
    "primes = [2]\n",
    "for n in range(3, n):\n",
    "    \n",
    "    if n % 2 == 0:\n",
    "        continue\n",
    "    \n",
    "#     max_divisor = math.floor(math.sqrt(n))\n",
    "    for i in (3, n):\n",
    "        if n % i == 0:\n",
    "            break\n",
    "    \n",
    "        primes.append(n)\n",
    "\n",
    "print(primes)\n",
    "reduce(lambda x, y: x+y, primes)"
   ]
  },
  {
   "cell_type": "code",
   "execution_count": null,
   "metadata": {},
   "outputs": [],
   "source": [
    "m = 15\n",
    "c = 2\n",
    "w = 3\n",
    "k = 1\n",
    "\n",
    "\n",
    "choclates = m // c\n",
    "wrappers = choclates\n",
    "print(wrappers)\n",
    "while wrappers % w > 0:\n",
    "    choclates += wrappers // w\n",
    "    wrappers = choclates - (m//c)\n",
    "    \n",
    "print(choclates)"
   ]
  },
  {
   "cell_type": "code",
   "execution_count": null,
   "metadata": {},
   "outputs": [],
   "source": []
  },
  {
   "cell_type": "code",
   "execution_count": null,
   "metadata": {},
   "outputs": [],
   "source": []
  }
 ],
 "metadata": {
  "kernelspec": {
   "display_name": "Python 3",
   "language": "python",
   "name": "python3"
  },
  "language_info": {
   "codemirror_mode": {
    "name": "ipython",
    "version": 3
   },
   "file_extension": ".py",
   "mimetype": "text/x-python",
   "name": "python",
   "nbconvert_exporter": "python",
   "pygments_lexer": "ipython3",
   "version": "3.7.4"
  }
 },
 "nbformat": 4,
 "nbformat_minor": 2
}
