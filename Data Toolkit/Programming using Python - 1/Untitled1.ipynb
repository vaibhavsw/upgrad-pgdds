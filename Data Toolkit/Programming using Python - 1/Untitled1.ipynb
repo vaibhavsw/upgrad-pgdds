{
 "cells": [
  {
   "cell_type": "code",
   "execution_count": 31,
   "metadata": {},
   "outputs": [
    {
     "name": "stdout",
     "output_type": "stream",
     "text": [
      "[1, 2, 3, 4]\n"
     ]
    }
   ],
   "source": [
    "L = [1,2,3,4]\n",
    "print(L)"
   ]
  },
  {
   "cell_type": "code",
   "execution_count": 32,
   "metadata": {},
   "outputs": [
    {
     "name": "stdout",
     "output_type": "stream",
     "text": [
      "[1, 2, 3, 4]\n"
     ]
    }
   ],
   "source": [
    "L = [i for i in range(1, 5)]\n",
    "print(L)"
   ]
  },
  {
   "cell_type": "code",
   "execution_count": 33,
   "metadata": {},
   "outputs": [
    {
     "ename": "SyntaxError",
     "evalue": "invalid syntax (<ipython-input-33-d7235fecd2b1>, line 1)",
     "output_type": "error",
     "traceback": [
      "\u001b[0;36m  File \u001b[0;32m\"<ipython-input-33-d7235fecd2b1>\"\u001b[0;36m, line \u001b[0;32m1\u001b[0m\n\u001b[0;31m    L = [for i in range(1,5) i]\u001b[0m\n\u001b[0m           ^\u001b[0m\n\u001b[0;31mSyntaxError\u001b[0m\u001b[0;31m:\u001b[0m invalid syntax\n"
     ]
    }
   ],
   "source": [
    "L = [for i in range(1,5) i]\n",
    "print(L)"
   ]
  },
  {
   "cell_type": "code",
   "execution_count": null,
   "metadata": {},
   "outputs": [],
   "source": [
    "L=[2, 1, 2, 4, 5, 3, 6]\n",
    "\n",
    "# print(L.index(3))\n",
    "print(4 in L)"
   ]
  },
  {
   "cell_type": "code",
   "execution_count": null,
   "metadata": {},
   "outputs": [],
   "source": [
    "L=[10,20,30,40,50,60,70,80,90,100]\n",
    "\n",
    "print(L[1:8:2])"
   ]
  },
  {
   "cell_type": "code",
   "execution_count": null,
   "metadata": {},
   "outputs": [],
   "source": [
    "L[2:-1:2]"
   ]
  },
  {
   "cell_type": "code",
   "execution_count": null,
   "metadata": {},
   "outputs": [],
   "source": [
    "[L[i] for i in range(1,9,2)]"
   ]
  },
  {
   "cell_type": "code",
   "execution_count": 35,
   "metadata": {},
   "outputs": [
    {
     "data": {
      "text/plain": [
       "[None, None, None]"
      ]
     },
     "execution_count": 35,
     "metadata": {},
     "output_type": "execute_result"
    }
   ],
   "source": [
    "A = [10, 20, 30]\n",
    "B = [45, 35, 25]\n",
    "[A.append(i) for i in B]"
   ]
  },
  {
   "cell_type": "code",
   "execution_count": 36,
   "metadata": {},
   "outputs": [
    {
     "data": {
      "text/plain": [
       "[[10, 20, 30, 45, 35, 25], [45, 35, 25]]"
      ]
     },
     "execution_count": 36,
     "metadata": {},
     "output_type": "execute_result"
    }
   ],
   "source": [
    "[A,B]"
   ]
  },
  {
   "cell_type": "code",
   "execution_count": 34,
   "metadata": {},
   "outputs": [
    {
     "data": {
      "text/plain": [
       "[10,\n",
       " 20,\n",
       " 30,\n",
       " <generator object <genexpr> at 0x103be30d0>,\n",
       " <generator object <genexpr> at 0x103b7add0>,\n",
       " 45,\n",
       " 35,\n",
       " 25,\n",
       " [...],\n",
       " 45,\n",
       " 35,\n",
       " 25,\n",
       " [...]]"
      ]
     },
     "execution_count": 34,
     "metadata": {},
     "output_type": "execute_result"
    }
   ],
   "source": [
    "\n",
    "\n",
    "\n",
    "A"
   ]
  },
  {
   "cell_type": "code",
   "execution_count": 45,
   "metadata": {},
   "outputs": [
    {
     "name": "stdout",
     "output_type": "stream",
     "text": [
      "1\n"
     ]
    }
   ],
   "source": [
    "input_list = [1,2,3,4,5,6,7,8,9]\n",
    "\n",
    "if len(input_list) == 0:\n",
    "    print('No minumim')\n",
    "else:\n",
    "    m = input_list[0];\n",
    "    for i in input_list:\n",
    "        if i < m:\n",
    "            m = i\n",
    "    print(m)"
   ]
  },
  {
   "cell_type": "code",
   "execution_count": 49,
   "metadata": {},
   "outputs": [
    {
     "name": "stdout",
     "output_type": "stream",
     "text": [
      "True\n"
     ]
    }
   ],
   "source": [
    "from functools import reduce\n",
    "\n",
    "data = [2,4,6,8,-10]\n",
    "check = 4\n",
    "s = reduce(lambda x, y:  x + y, data)\n",
    "\n",
    "print(check > s / len(data))"
   ]
  },
  {
   "cell_type": "code",
   "execution_count": 50,
   "metadata": {},
   "outputs": [
    {
     "data": {
      "text/plain": [
       "10"
      ]
     },
     "execution_count": 50,
     "metadata": {},
     "output_type": "execute_result"
    }
   ],
   "source": [
    "sum(data)"
   ]
  },
  {
   "cell_type": "code",
   "execution_count": 55,
   "metadata": {},
   "outputs": [
    {
     "name": "stdout",
     "output_type": "stream",
     "text": [
      "[10, 20, 30, 40, 50, 60, 80]\n"
     ]
    }
   ],
   "source": [
    "my_team_score = [10,20,30,40,50]\n",
    "drive_score = [30,60,80,40]\n",
    "\n",
    "#write your code here\n",
    "my_team_avg_score = sum(my_team_score) / len(my_team_score)\n",
    "\n",
    "for ds in drive_score:\n",
    "    if ds > my_team_avg_score:\n",
    "        if ds not in my_team_score:\n",
    "            my_team_score.append(ds)\n",
    "        \n",
    "print(my_team_score)"
   ]
  },
  {
   "cell_type": "code",
   "execution_count": 73,
   "metadata": {},
   "outputs": [
    {
     "name": "stdout",
     "output_type": "stream",
     "text": [
      "Comparing for 29 - 31 with 24\n",
      "False\n",
      "Comparing for 23 - 26 with 24\n",
      "True\n",
      "Comparing for 24 - 25 with 24\n",
      "True\n",
      "2\n"
     ]
    }
   ],
   "source": [
    "events = [[29,31], [23,26], [24,25]]\n",
    "event_date = 24\n",
    "\n",
    "overlapping_events = 0\n",
    "        \n",
    "for event in events:\n",
    "    start = event[0]\n",
    "    end = event[1]\n",
    "    \n",
    "    print(\"Comparing for {} - {} with {}\".format(start, end, event_date))\n",
    "    print(event_date >= start and event_date <= end)\n",
    "    if wedding >= start and wedding <= end:\n",
    "        overlapping_events += 1\n",
    "    \n",
    "print(overlapping_events)"
   ]
  },
  {
   "cell_type": "code",
   "execution_count": 243,
   "metadata": {},
   "outputs": [
    {
     "name": "stdout",
     "output_type": "stream",
     "text": [
      "[1, 1, 1]\n",
      "[1, 0, 1]\n",
      "[1, 1, 1]\n"
     ]
    }
   ],
   "source": [
    "m = 3\n",
    "n = 3\n",
    "\n",
    "matrix = []\n",
    "\n",
    "for row in range(0, m):\n",
    "    a_row = []\n",
    "    for column in range(0, n):\n",
    "        \n",
    "        if (row == 0) | (row == m -1):\n",
    "            a_row.append(1)\n",
    "        elif column == 0:\n",
    "            a_row.append(1)\n",
    "        elif column == n-1:\n",
    "            a_row.append(1)\n",
    "        else:\n",
    "            a_row.append(0)\n",
    "    matrix.append(a_row)\n",
    "    \n",
    "for m in matrix:\n",
    "    print(m)"
   ]
  },
  {
   "cell_type": "code",
   "execution_count": 244,
   "metadata": {},
   "outputs": [
    {
     "name": "stdout",
     "output_type": "stream",
     "text": [
      "Impossible\n"
     ]
    }
   ],
   "source": [
    "sides = [1, 2]\n",
    "\n",
    "keep_looking = True\n",
    "\n",
    "l_i = 0\n",
    "r_i = len(sides) - 1\n",
    "\n",
    "possible = len(sides) > 2\n",
    "\n",
    "if possible:\n",
    "    while keep_looking:\n",
    "\n",
    "        if r_i - l_i == 1:\n",
    "            keep_looking = False\n",
    "\n",
    "        b_1 = sides[l_i]\n",
    "        b_2 = sides[r_i]\n",
    "\n",
    "        if (b_1 < b_2):\n",
    "            keep_looking = False\n",
    "            possible = False\n",
    "\n",
    "        l_i += 1\n",
    "        r_i -= 1\n",
    "    \n",
    "    \n",
    "if possible:\n",
    "    print('Possible')\n",
    "else:\n",
    "    print(\"Impossible\")\n",
    "    "
   ]
  },
  {
   "cell_type": "code",
   "execution_count": 245,
   "metadata": {},
   "outputs": [
    {
     "name": "stdout",
     "output_type": "stream",
     "text": [
      "[1]\n"
     ]
    }
   ],
   "source": [
    "n = 1\n",
    "\n",
    "lists = []\n",
    "\n",
    "for i in range(0, n):\n",
    "    row = []\n",
    "    for j in range(0, i + 1):\n",
    "    \n",
    "        if (j == 0) | (j == i):\n",
    "            row.append(1)\n",
    "        else:\n",
    "            list_1 = lists[i-1]\n",
    "            row.append(list_1[j-1] + list_1[j] )\n",
    "            \n",
    "    lists.append(row)\n",
    "\n",
    "print(lists[n-1])\n",
    "    "
   ]
  },
  {
   "cell_type": "code",
   "execution_count": 246,
   "metadata": {},
   "outputs": [
    {
     "name": "stdout",
     "output_type": "stream",
     "text": [
      "Appending  [1, 2, 3]\n",
      "Appending  [4, 5, 6]\n",
      "Appending  [7, 8, 9]\n",
      "Appending  []\n",
      "[1, 2, 3]\n",
      "[4, 5, 6]\n",
      "[7, 8, 9]\n",
      "[]\n"
     ]
    }
   ],
   "source": [
    "lis = [1,2,3,4,5,6,7,8,9]\n",
    "k = 3\n",
    "\n",
    "list_1 = []\n",
    "index = 0\n",
    "while len(list_1) <= k:\n",
    "    list_2 = []\n",
    "    \n",
    "    \n",
    "    rang = 3\n",
    "    if len(lis) - index < 3:\n",
    "        rang = len(lis) - index\n",
    "    \n",
    "    for i in range(0, rang):\n",
    "        list_2.append(lis[index])\n",
    "        index += 1\n",
    "    \n",
    "    print(\"Appending \", list_2)\n",
    "#     if len(list_2) > 0:\n",
    "    list_1.append(list_2)\n",
    "    \n",
    "for l in list_1:\n",
    "    print(l)"
   ]
  },
  {
   "cell_type": "code",
   "execution_count": 248,
   "metadata": {},
   "outputs": [
    {
     "name": "stdout",
     "output_type": "stream",
     "text": [
      "4\n"
     ]
    }
   ],
   "source": [
    "input_list = [3, 1, 4, 4, 5, 5, 5, 0, 2, 2]\n",
    "\n",
    "input_list = list(set(input_list))\n",
    "all_same = True\n",
    "for i in range(0, len(input_list)):\n",
    "    for j in range(i+1, len(input_list)):\n",
    "        i_n= input_list[i]\n",
    "        j_n = input_list[j]\n",
    "        if j_n > i_n:\n",
    "            input_list[i] = j_n\n",
    "            input_list[j] = i_n\n",
    "            all_same = False\n",
    "        elif j_n == i_n:\n",
    "            all_same = True\n",
    "\n",
    "\n",
    "if not all_same:\n",
    "    print(input_list[1])\n",
    "else:\n",
    "    print(\"not present\")"
   ]
  },
  {
   "cell_type": "code",
   "execution_count": 249,
   "metadata": {},
   "outputs": [
    {
     "name": "stdout",
     "output_type": "stream",
     "text": [
      "Apppending  [4, 4, 4, 4, 4, 4, 4]\n",
      "\n",
      "Apppending  [4, 3, 3, 3, 3, 3, 4]\n",
      "\n",
      "Apppending  [4, 3, 2, 2, 2, 3, 4]\n",
      "\n",
      "Apppending  [4, 3, 2, 1, 2, 3, 4]\n",
      "\n"
     ]
    }
   ],
   "source": [
    "n = 4\n",
    "a = [4]*(2*n - 1)\n",
    "outs = []\n",
    "outs.append(a)\n",
    "for i in range(0, n):\n",
    "    s = outs[i-1]\n",
    "    for j in range(i, (2*n - 1) -i):\n",
    "        s[j] = n - i;\n",
    "    print(\"Apppending \", s)\n",
    "    outs.append(s)\n",
    "    print()\n",
    "\n",
    "# print(outs, sep=\"\\n\")"
   ]
  },
  {
   "cell_type": "code",
   "execution_count": 253,
   "metadata": {},
   "outputs": [
    {
     "name": "stdout",
     "output_type": "stream",
     "text": [
      "555555555\n",
      "544444445\n",
      "543333345\n",
      "543222345\n",
      "543212345\n",
      "543222345\n",
      "543333345\n",
      "544444445\n",
      "555555555\n"
     ]
    }
   ],
   "source": [
    "n = 5\n",
    "outs = []\n",
    "for i in range(0, n):\n",
    "    if len(outs) == 0:\n",
    "        s = [n]*(2*n - 1)\n",
    "    else:\n",
    "        s = list(outs[i-1])\n",
    "        \n",
    "    for j in range(i, (2*n - 1) -i):\n",
    "        s[j] = n - i;\n",
    "    outs.append(s)\n",
    "    \n",
    "for o in outs:\n",
    "    print(''.join(str(x) for x in o))\n",
    "\n",
    "for i in range(n-2, -1, -1):\n",
    "    print(''.join(str(x) for x in outs[i]))"
   ]
  },
  {
   "cell_type": "code",
   "execution_count": 254,
   "metadata": {},
   "outputs": [
    {
     "name": "stdout",
     "output_type": "stream",
     "text": [
      "3\n"
     ]
    }
   ],
   "source": [
    "print(chr(51))"
   ]
  },
  {
   "cell_type": "code",
   "execution_count": 255,
   "metadata": {},
   "outputs": [
    {
     "data": {
      "text/plain": [
       "'{'"
      ]
     },
     "execution_count": 255,
     "metadata": {},
     "output_type": "execute_result"
    }
   ],
   "source": [
    "chr(123)"
   ]
  },
  {
   "cell_type": "code",
   "execution_count": 256,
   "metadata": {},
   "outputs": [
    {
     "data": {
      "text/plain": [
       "'upGrad'"
      ]
     },
     "execution_count": 256,
     "metadata": {},
     "output_type": "execute_result"
    }
   ],
   "source": [
    "'G'.join(['up','rad'])"
   ]
  },
  {
   "cell_type": "code",
   "execution_count": 257,
   "metadata": {},
   "outputs": [
    {
     "data": {
      "text/plain": [
       "'upGrad'"
      ]
     },
     "execution_count": 257,
     "metadata": {},
     "output_type": "execute_result"
    }
   ],
   "source": [
    "'aabupGradaab'.strip('a').strip('b').strip('a')"
   ]
  },
  {
   "cell_type": "code",
   "execution_count": 258,
   "metadata": {},
   "outputs": [
    {
     "data": {
      "text/plain": [
       "'vahbiav'"
      ]
     },
     "execution_count": 258,
     "metadata": {},
     "output_type": "execute_result"
    }
   ],
   "source": [
    "name = 'Vaibhav'\n",
    "\n",
    "name = name.lower()\n",
    "\n",
    "name_1 = ''.join(name[::-1])\n",
    "name_1\n"
   ]
  },
  {
   "cell_type": "code",
   "execution_count": 259,
   "metadata": {},
   "outputs": [
    {
     "data": {
      "text/plain": [
       "'python in coding love I'"
      ]
     },
     "execution_count": 259,
     "metadata": {},
     "output_type": "execute_result"
    }
   ],
   "source": [
    "s = 'I love coding in python'\n",
    "\n",
    "' '.join(s.split(' ')[::-1])"
   ]
  },
  {
   "cell_type": "code",
   "execution_count": 260,
   "metadata": {},
   "outputs": [
    {
     "data": {
      "text/plain": [
       "'python in coding love I'"
      ]
     },
     "execution_count": 260,
     "metadata": {},
     "output_type": "execute_result"
    }
   ],
   "source": [
    "s = 'I love coding in python'.split(' ')\n",
    "s.reverse()\n",
    "' '.join(s)"
   ]
  },
  {
   "cell_type": "code",
   "execution_count": 261,
   "metadata": {},
   "outputs": [
    {
     "name": "stdout",
     "output_type": "stream",
     "text": [
      "Calorie_Consumed\n"
     ]
    }
   ],
   "source": [
    "s = 'caloRie consuMed'\n",
    "s = s.lower().title().split(' ')\n",
    "\n",
    "print('_'.join(s))"
   ]
  },
  {
   "cell_type": "code",
   "execution_count": 262,
   "metadata": {},
   "outputs": [
    {
     "name": "stdout",
     "output_type": "stream",
     "text": [
      "oaiprgrmmng\n"
     ]
    }
   ],
   "source": [
    "s = 'programming'\n",
    "\n",
    "vowels = ['a', 'e', 'i', 'o', 'u', 'A', 'E', 'I', 'O', 'U']\n",
    "v = ''\n",
    "o = ''\n",
    "\n",
    "\n",
    "for c in s:\n",
    "    if c in vowels:\n",
    "        v += c\n",
    "    else:\n",
    "        o += c\n",
    "\n",
    "print(v+o)"
   ]
  },
  {
   "cell_type": "code",
   "execution_count": 263,
   "metadata": {},
   "outputs": [
    {
     "name": "stdout",
     "output_type": "stream",
     "text": [
      "pro\n"
     ]
    }
   ],
   "source": [
    "s1 = 'Progress'\n",
    "s2 = 'Protest'\n",
    "\n",
    "s1 = s1.lower()\n",
    "s2 = s2.lower()\n",
    "\n",
    "range_idx = len(s1) if len(s1) <= len(s2) else len(s2)\n",
    "\n",
    "# prefix = ''\n",
    "indx = 0\n",
    "for i in range(0, range_idx):\n",
    "    if s1[i] == s2[i]:\n",
    "        indx = i\n",
    "    else:\n",
    "        break\n",
    "        \n",
    "\n",
    "if indx == 0:\n",
    "    print(-1)\n",
    "else:\n",
    "    print(s2[:indx+1])"
   ]
  },
  {
   "cell_type": "code",
   "execution_count": 265,
   "metadata": {},
   "outputs": [
    {
     "name": "stdout",
     "output_type": "stream",
     "text": [
      "-1\n"
     ]
    }
   ],
   "source": [
    "str_list = ['upgradData', 'upGradScience', 'upGradML', 'p']\n",
    "\n",
    "prefix = ''\n",
    "\n",
    "def find_prefix(s1, s2):\n",
    "    s1 = s1.lower()\n",
    "    s2 = s2.lower()\n",
    "\n",
    "    range_idx = len(s1) if len(s1) <= len(s2) else len(s2)\n",
    "\n",
    "    prefix = ''\n",
    "    for i in range(0, range_idx):\n",
    "        if s1[i] == s2[i]:\n",
    "            prefix += s1[i]\n",
    "        else:\n",
    "            break\n",
    "\n",
    "\n",
    "    if len(prefix) == 0:\n",
    "        return -1\n",
    "    else:\n",
    "        return prefix\n",
    "\n",
    "prefix = str_list[0]\n",
    "for i in range(0, len(str_list)):\n",
    "    if prefix == -1:\n",
    "        break\n",
    "    i_s = str_list[i]\n",
    "    for j in range(i+1, len(str_list)):\n",
    "        j_s = str_list[j]\n",
    "        prefix = find_prefix(j_s, prefix)\n",
    "        \n",
    "        \n",
    "print(prefix)"
   ]
  },
  {
   "cell_type": "code",
   "execution_count": 266,
   "metadata": {},
   "outputs": [
    {
     "name": "stdout",
     "output_type": "stream",
     "text": [
      "ra\n"
     ]
    }
   ],
   "source": [
    "str_list = ['race', 'raceCar', 'racecar', 'rat']\n",
    "\n",
    "prefix = ''\n",
    "\n",
    "def find_prefix(s1, s2):\n",
    "    s1 = s1.lower()\n",
    "    s2 = s2.lower()\n",
    "\n",
    "    range_idx = len(s1) if len(s1) <= len(s2) else len(s2)\n",
    "\n",
    "    prefix = ''\n",
    "    for i in range(0, range_idx):\n",
    "        if s1[i] == s2[i]:\n",
    "            prefix += s1[i]\n",
    "        else:\n",
    "            break\n",
    "\n",
    "\n",
    "    if len(prefix) == 0:\n",
    "        return -1\n",
    "    else:\n",
    "        return prefix\n",
    "\n",
    "prefix = str_list[0]\n",
    "for i in range(0, len(str_list)):\n",
    "    prefix = find_prefix(prefix, str_list[i])\n",
    "    if prefix == -1:\n",
    "        break\n",
    "        \n",
    "        \n",
    "print(prefix)"
   ]
  },
  {
   "cell_type": "code",
   "execution_count": 39,
   "metadata": {},
   "outputs": [
    {
     "name": "stdout",
     "output_type": "stream",
     "text": [
      "False\n"
     ]
    }
   ],
   "source": [
    "s1 = 'upgrad'\n",
    "s2 = 'found'\n",
    "\n",
    "if len(s1) != len(s2):\n",
    "    print(False)\n",
    "else:\n",
    "    anagrams = True\n",
    "    for i in range(0, len(s1)):\n",
    "        if s1[i] not in s2:\n",
    "            anagrams = False\n",
    "            break\n",
    "            \n",
    "    if anagrams:\n",
    "        print(True)\n",
    "    else:\n",
    "        print(False)"
   ]
  },
  {
   "cell_type": "code",
   "execution_count": 63,
   "metadata": {},
   "outputs": [
    {
     "name": "stdout",
     "output_type": "stream",
     "text": [
      "['e']\n"
     ]
    }
   ],
   "source": [
    "s1 = 'abcd'\n",
    "s2 = 'abcde'\n",
    "\n",
    "s_range = max(len(s1), len(s2))\n",
    "\n",
    "compare_to = s1 if len(s1) > len(s2) else s2\n",
    "compare_with = s1 if len(s1) < len(s2) else s2\n",
    "\n",
    "\n",
    "extras = []\n",
    "for i in range(s_range):\n",
    "    if compare_to[i] not in compare_with:\n",
    "        extras.append(compare_to[i])\n",
    "        \n",
    "print(extras)"
   ]
  },
  {
   "cell_type": "code",
   "execution_count": 86,
   "metadata": {},
   "outputs": [
    {
     "data": {
      "text/plain": [
       "False"
      ]
     },
     "execution_count": 86,
     "metadata": {},
     "output_type": "execute_result"
    }
   ],
   "source": [
    "in_str = '-10'.strip()\n",
    "in_str.isdigit()"
   ]
  },
  {
   "cell_type": "code",
   "execution_count": 90,
   "metadata": {},
   "outputs": [
    {
     "name": "stdout",
     "output_type": "stream",
     "text": [
      "3213\n"
     ]
    }
   ],
   "source": [
    "print(int('         3,213'.strip().replace(',','')))"
   ]
  },
  {
   "cell_type": "code",
   "execution_count": 117,
   "metadata": {},
   "outputs": [
    {
     "name": "stdout",
     "output_type": "stream",
     "text": [
      "vnfewfeawefvnxevn\n"
     ]
    }
   ],
   "source": [
    "import string \n",
    "\n",
    "alphabets_sm = string.ascii_lowercase\n",
    "alphabets_lm = string.ascii_uppercase\n",
    "\n",
    "input_ar = ['askjbkjfbjkascjas', 5]\n",
    "password = input_ar[0]\n",
    "step = input_ar[1]\n",
    "\n",
    "def get_original_char(s, alphabets):\n",
    "    s_idx = alphabets.index(s)\n",
    "    if  s_idx >= step:\n",
    "        return alphabets[s_idx - step]\n",
    "    else:\n",
    "        return alphabets[26 - (step - s_idx)]\n",
    "\n",
    "\n",
    "orig_pass = ''\n",
    "for s in password:\n",
    "    if s.isupper():\n",
    "        orig_c = get_original_char(s, alphabets_lm)\n",
    "    else:\n",
    "        orig_c = get_original_char(s, alphabets_sm)\n",
    "    orig_pass += orig_c\n",
    "    \n",
    "print(orig_pass)"
   ]
  },
  {
   "cell_type": "code",
   "execution_count": 173,
   "metadata": {},
   "outputs": [
    {
     "name": "stdout",
     "output_type": "stream",
     "text": [
      "24\n"
     ]
    }
   ],
   "source": [
    "n = 2\n",
    "\n",
    "int_list = []\n",
    "\n",
    "for i in range(1, n+1):\n",
    "    int_list.append(int(str(n)*i))\n",
    "    \n",
    "print(sum(int_list))"
   ]
  },
  {
   "cell_type": "code",
   "execution_count": 170,
   "metadata": {},
   "outputs": [
    {
     "name": "stdout",
     "output_type": "stream",
     "text": [
      "['Mobile_Redmi', 'Mobile_Samsung', 'Mobile_Realme', 'Laptop_Dell', 'Laptop_HP', 'TV_Videocon', 'TV_Sony']\n"
     ]
    }
   ],
   "source": [
    "input_dict = {'Mobile': ['Redmi', 'Samsung', 'Realme'], 'Laptop': ['Dell', 'HP'], 'TV':['Videocon', 'Sony'] }\n",
    "\n",
    "items = [] \n",
    "\n",
    "for key in input_dict:\n",
    "    dict_list = input_dict[key]\n",
    "    \n",
    "    items.extend([key + \"_\" + s for s in dict_list])\n",
    "    \n",
    "print(items)"
   ]
  },
  {
   "cell_type": "code",
   "execution_count": 180,
   "metadata": {},
   "outputs": [
    {
     "name": "stdout",
     "output_type": "stream",
     "text": [
      "True\n"
     ]
    }
   ],
   "source": [
    "s = '$yrr$ssrsr'\n",
    "\n",
    "s_dict = {}\n",
    "\n",
    "for i in s:\n",
    "    if i not in s_dict:\n",
    "        s_dict[i] = 1\n",
    "    else:\n",
    "        s_dict[i] = s_dict[i] + 1\n",
    "\n",
    "vals = s_dict.values()\n",
    "\n",
    "is_upgrad_string = True\n",
    "for i in range(1, len(s_dict) + 1):\n",
    "    if i not in vals:\n",
    "        is_upgrad_string = False\n",
    "        break\n",
    "        \n",
    "print(is_upgrad_string)"
   ]
  },
  {
   "cell_type": "code",
   "execution_count": 198,
   "metadata": {},
   "outputs": [
    {
     "name": "stdout",
     "output_type": "stream",
     "text": [
      "Yes\n"
     ]
    }
   ],
   "source": [
    "inp = '[](){[]()(){}}'\n",
    "\n",
    "brances = 0\n",
    "curly = 0\n",
    "square = 0\n",
    "\n",
    "for s in inp:\n",
    "    if s == '(':\n",
    "        brances += 1\n",
    "    elif s == ')':\n",
    "        brances -= 1\n",
    "    elif s == '[':\n",
    "        square += 1\n",
    "    elif s == ']':\n",
    "        square -= 1\n",
    "    elif s == '{':\n",
    "        curly += 1\n",
    "    elif s == '}':\n",
    "        curly -= 1\n",
    "        \n",
    "\n",
    "print('Yes' if brances == 0 and curly == 0 and square == 0 else 'No')"
   ]
  },
  {
   "cell_type": "code",
   "execution_count": 212,
   "metadata": {},
   "outputs": [
    {
     "name": "stdout",
     "output_type": "stream",
     "text": [
      "mobile4:9000\n"
     ]
    }
   ],
   "source": [
    "items = {'mobile1':10000, 'mobile2':11000, 'mobile3':13000, 'mobile4':9000, 'mobile5':15000, 'mobile6':16000, 'mobile7':17000, 'mobile8':18000, 'mobile9':19000}\n",
    "\n",
    "price = list(items.values())[0]\n",
    "item_name = list(items.keys())[0]\n",
    "\n",
    "for item in items:\n",
    "    \n",
    "    if items[item] < price:\n",
    "        price = items[item]\n",
    "        item_name = item\n",
    "\n",
    "        \n",
    "print(item_name + ':' + str(price))"
   ]
  },
  {
   "cell_type": "code",
   "execution_count": 242,
   "metadata": {},
   "outputs": [
    {
     "name": "stdout",
     "output_type": "stream",
     "text": [
      "10\n"
     ]
    }
   ],
   "source": [
    "input_list = [3, 2, 1, 8, 1, 4, 5, 8, 6, 7, 4, 2]\n",
    "\n",
    "max_distances = {}\n",
    "\n",
    "def last_index(item):\n",
    "    return len(input_list) - 1 - input_list[::-1].index(item)\n",
    "\n",
    "max_distance = 0\n",
    "\n",
    "for i in input_list:\n",
    "    lindex = input_list.index(i)\n",
    "    rindex = last_index(i)\n",
    "    \n",
    "    if (rindex - lindex) > max_distance:\n",
    "        max_distance = rindex - lindex\n",
    "        \n",
    "print(max_distance)"
   ]
  },
  {
   "cell_type": "code",
   "execution_count": 277,
   "metadata": {},
   "outputs": [
    {
     "name": "stdout",
     "output_type": "stream",
     "text": [
      "NOTA\n"
     ]
    }
   ],
   "source": [
    "votes = [\"pasta\",\"pasta\",\"pasta\",\"paratha\",\"paratha\",\"paratha\"]\n",
    "\n",
    "votes_count = {}\n",
    "\n",
    "for v in votes:\n",
    "    if v not in votes_count:\n",
    "        votes_count[v] = 1\n",
    "    else:\n",
    "        votes_count[v] = votes_count[v] + 1\n",
    "\n",
    "votes_counts = sorted(votes_count, reverse=True)\n",
    "\n",
    "if votes_count[votes_counts[0]] == votes_count[votes_counts[1]]:\n",
    "    print('NOTA')\n",
    "else:\n",
    "    print(votes_counts[0])"
   ]
  },
  {
   "cell_type": "code",
   "execution_count": 285,
   "metadata": {},
   "outputs": [
    {
     "name": "stdout",
     "output_type": "stream",
     "text": [
      "['Fruit', 'Spices', 'Vegetable_Cabbage', 'Vegetable_Cauliflower']\n",
      "[1, 2, 3, 4]\n"
     ]
    }
   ],
   "source": [
    "input_dict = {'Fruit': 1, 'Vegetable': {'Cabbage': 2, 'Cauliflower': 3}, 'Spices': 4}\n",
    "\n",
    "def flatten_dict(dd, separator='_', prefix=''):\n",
    "    new_dd = {}\n",
    "    \n",
    "    for k in dd:\n",
    "        if isinstance(dd[k], dict):\n",
    "            for k1 in dd[k]:\n",
    "                new_dd[k + separator + k1] = dd[k][k1]\n",
    "        else:\n",
    "            new_dd[k] = dd[k]\n",
    "    \n",
    "    return new_dd\n",
    "    \n",
    "\n",
    "    \n",
    "out1=list(flatten_dict(input_dict).keys())\n",
    "out2=list(flatten_dict(input_dict).values())\n",
    "out1.sort()\n",
    "out2.sort()\n",
    "print(out1)\n",
    "print(out2)"
   ]
  },
  {
   "cell_type": "code",
   "execution_count": 297,
   "metadata": {},
   "outputs": [
    {
     "name": "stdout",
     "output_type": "stream",
     "text": [
      "0.00019399999999869522\n"
     ]
    }
   ],
   "source": [
    "import time \n",
    "mylist=[range(0, 100000)] #fill up the list with some integer values, as many as you want\n",
    "k= 1000\n",
    "start = time.process_time() \n",
    "for i in range(len(mylist)):\n",
    "\tif mylist[i]==k:\n",
    "\t\tprint(i)\n",
    "print(time.process_time() - start)"
   ]
  },
  {
   "cell_type": "code",
   "execution_count": 36,
   "metadata": {},
   "outputs": [
    {
     "name": "stdout",
     "output_type": "stream",
     "text": [
      "2\n"
     ]
    }
   ],
   "source": [
    "def binary_search(data, value):\n",
    "    n = len(data)\n",
    "    left = 0\n",
    "    right = n - 1\n",
    "    while left <= right:\n",
    "        middle = (left + right) // 3\n",
    "        \n",
    "        if value < data[middle]:\n",
    "            right = middle - 1\n",
    "        elif value > data[middle]:\n",
    "            left = middle + 1\n",
    "        else:\n",
    "            return middle\n",
    "    return -1\n",
    "\n",
    "data = [15, 16, 17, 18, 11, 12, 13, 14]\n",
    "print(binary_search(data, 17))"
   ]
  },
  {
   "cell_type": "code",
   "execution_count": 2,
   "metadata": {},
   "outputs": [
    {
     "name": "stdout",
     "output_type": "stream",
     "text": [
      "Apple\n"
     ]
    }
   ],
   "source": [
    "data = {'Jack Dorsey': 'Twitter', 'Tim Cook': 'Apple','Jeff Bezos': 'Amazon','Mukesh Ambani': 'RJIO'}\n",
    "print(data['Tim Cook'])\n"
   ]
  },
  {
   "cell_type": "code",
   "execution_count": null,
   "metadata": {},
   "outputs": [],
   "source": [
    "def find_root(n, root=2, dec_points='.4f'):\n",
    "    n = round(n**(1/root), 4)\n",
    "    return format(n, dec_points)\n",
    "\n",
    "print(find_root(64,root=3))"
   ]
  },
  {
   "cell_type": "code",
   "execution_count": null,
   "metadata": {},
   "outputs": [],
   "source": [
    "data = [3, 5, 7, 9, 11, 13, 15, 17, 19, 21, 23, 25, 27]\n",
    "n = 17\n",
    "\n",
    "left = 0\n",
    "right = len(data) - 1\n",
    "\n",
    "while left <= right:\n",
    "    \n",
    "    mid1 = (left + right) // 3\n",
    "    mid2 = mid1 + (right - left) // 3\n",
    "    \n",
    "    print(mid1, mid2)"
   ]
  },
  {
   "cell_type": "code",
   "execution_count": null,
   "metadata": {},
   "outputs": [],
   "source": []
  }
 ],
 "metadata": {
  "kernelspec": {
   "display_name": "Python 3",
   "language": "python",
   "name": "python3"
  },
  "language_info": {
   "codemirror_mode": {
    "name": "ipython",
    "version": 3
   },
   "file_extension": ".py",
   "mimetype": "text/x-python",
   "name": "python",
   "nbconvert_exporter": "python",
   "pygments_lexer": "ipython3",
   "version": "3.7.4"
  }
 },
 "nbformat": 4,
 "nbformat_minor": 2
}
