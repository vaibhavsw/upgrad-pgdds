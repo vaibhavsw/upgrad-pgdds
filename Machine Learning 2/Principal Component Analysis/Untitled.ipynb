{
 "cells": [
  {
   "cell_type": "code",
   "execution_count": 65,
   "metadata": {},
   "outputs": [],
   "source": [
    "import numpy as np\n",
    "from math import pi"
   ]
  },
  {
   "cell_type": "code",
   "execution_count": 66,
   "metadata": {},
   "outputs": [
    {
     "name": "stdout",
     "output_type": "stream",
     "text": [
      "Angle b/w 1 & 4: 39.23\n"
     ]
    }
   ],
   "source": [
    "a = [2, 1, 0, 0]\n",
    "b = [1, 1, 1, 0]\n",
    "\n",
    "a_dot_b = np.dot(a, b)\n",
    "a_mag = np.linalg.norm(a)\n",
    "b_mag = np.linalg.norm(b)\n",
    "\n",
    "print('Angle b/w 1 & 4:', round(np.arccos(a_dot_b/(a_mag * b_mag)) * (180/pi), 2))"
   ]
  },
  {
   "cell_type": "code",
   "execution_count": 67,
   "metadata": {},
   "outputs": [
    {
     "name": "stdout",
     "output_type": "stream",
     "text": [
      "Angle b/w 3 & 4: 35.26\n"
     ]
    }
   ],
   "source": [
    "a = [1, 1, 0, 0]\n",
    "b = [1, 1, 1, 0]\n",
    "\n",
    "\n",
    "a_dot_b = np.dot(a, b)\n",
    "a_mag = np.linalg.norm(a)\n",
    "b_mag = np.linalg.norm(b)\n",
    "\n",
    "print('Angle b/w 3 & 4:', round(np.arccos(a_dot_b/(a_mag * b_mag)) * (180/pi), 2))"
   ]
  },
  {
   "cell_type": "code",
   "execution_count": 68,
   "metadata": {},
   "outputs": [
    {
     "name": "stdout",
     "output_type": "stream",
     "text": [
      "Angle b/w 1 & 3: 18.43\n"
     ]
    }
   ],
   "source": [
    "a = [2, 1, 0, 0]\n",
    "b = [1, 1, 0, 0]\n",
    "\n",
    "a_dot_b = np.dot(a, b)\n",
    "a_mag = np.linalg.norm(a)\n",
    "b_mag = np.linalg.norm(b)\n",
    "\n",
    "print('Angle b/w 1 & 3:', round(np.arccos(a_dot_b/(a_mag * b_mag)) * (180/pi), 2))"
   ]
  },
  {
   "cell_type": "code",
   "execution_count": 69,
   "metadata": {},
   "outputs": [
    {
     "name": "stdout",
     "output_type": "stream",
     "text": [
      "Angle b/w 1 & 4: 39.23\n"
     ]
    }
   ],
   "source": [
    "a = [2, 1, 0, 0]\n",
    "b = [1, 1, 1, 0]\n",
    "\n",
    "a_dot_b = np.dot(a, b)\n",
    "a_mag = np.linalg.norm(a)\n",
    "b_mag = np.linalg.norm(b)\n",
    "\n",
    "print('Angle b/w 1 & 4:', round(np.arccos(a_dot_b/(a_mag * b_mag)) * (180/pi), 2))"
   ]
  },
  {
   "cell_type": "code",
   "execution_count": 70,
   "metadata": {},
   "outputs": [],
   "source": [
    "a = np.array([[2, 7, 1], [-2, 1, 8], [3, 4, -2]])\n",
    "b = np.array([[8, 1, 3], [3, 5, 8], [7, -2, -4]])\n",
    "\n",
    "inverse = np.array([[1, 0, 0], [0, 1, 0], [0, 0, 1]])"
   ]
  },
  {
   "cell_type": "code",
   "execution_count": 71,
   "metadata": {},
   "outputs": [
    {
     "data": {
      "text/plain": [
       "array([[ 2,  7,  1],\n",
       "       [-2,  1,  8],\n",
       "       [ 3,  4, -2]])"
      ]
     },
     "execution_count": 71,
     "metadata": {},
     "output_type": "execute_result"
    }
   ],
   "source": [
    "a"
   ]
  },
  {
   "cell_type": "code",
   "execution_count": 72,
   "metadata": {},
   "outputs": [
    {
     "data": {
      "text/plain": [
       "array([[ 8,  1,  3],\n",
       "       [ 3,  5,  8],\n",
       "       [ 7, -2, -4]])"
      ]
     },
     "execution_count": 72,
     "metadata": {},
     "output_type": "execute_result"
    }
   ],
   "source": [
    "b"
   ]
  },
  {
   "cell_type": "code",
   "execution_count": 73,
   "metadata": {},
   "outputs": [
    {
     "data": {
      "text/plain": [
       "array([[ 44,  35,  58],\n",
       "       [ 43, -13, -30],\n",
       "       [ 22,  27,  49]])"
      ]
     },
     "execution_count": 73,
     "metadata": {},
     "output_type": "execute_result"
    }
   ],
   "source": [
    "np.matmul(a, b)"
   ]
  },
  {
   "cell_type": "code",
   "execution_count": 74,
   "metadata": {},
   "outputs": [
    {
     "data": {
      "text/plain": [
       "array([[-0.55737705,  0.29508197,  0.90163934],\n",
       "       [ 0.32786885, -0.1147541 , -0.29508197],\n",
       "       [-0.18032787,  0.21311475,  0.26229508]])"
      ]
     },
     "execution_count": 74,
     "metadata": {},
     "output_type": "execute_result"
    }
   ],
   "source": [
    "c = np.linalg.inv(a)\n",
    "\n",
    "c"
   ]
  },
  {
   "cell_type": "code",
   "execution_count": 75,
   "metadata": {},
   "outputs": [
    {
     "data": {
      "text/plain": [
       "array([[ 2.,  7.,  1.],\n",
       "       [-2.,  1.,  8.],\n",
       "       [ 3.,  4., -2.]])"
      ]
     },
     "execution_count": 75,
     "metadata": {},
     "output_type": "execute_result"
    }
   ],
   "source": [
    "d = np.linalg.inv(c)\n",
    "\n",
    "d"
   ]
  },
  {
   "cell_type": "code",
   "execution_count": 76,
   "metadata": {},
   "outputs": [
    {
     "data": {
      "text/plain": [
       "array([[ 3., -1., -1.],\n",
       "       [-4.,  2.,  1.],\n",
       "       [-1.,  0.,  1.]])"
      ]
     },
     "execution_count": 76,
     "metadata": {},
     "output_type": "execute_result"
    }
   ],
   "source": [
    "m = np.array([[2, 1, 1], [3, 2, 1], [2, 1, 2]])\n",
    "\n",
    "m_inv = np.linalg.inv(m)\n",
    "\n",
    "m_inv"
   ]
  },
  {
   "cell_type": "code",
   "execution_count": null,
   "metadata": {},
   "outputs": [],
   "source": []
  }
 ],
 "metadata": {
  "kernelspec": {
   "display_name": "Python 3",
   "language": "python",
   "name": "python3"
  },
  "language_info": {
   "codemirror_mode": {
    "name": "ipython",
    "version": 3
   },
   "file_extension": ".py",
   "mimetype": "text/x-python",
   "name": "python",
   "nbconvert_exporter": "python",
   "pygments_lexer": "ipython3",
   "version": "3.7.4"
  }
 },
 "nbformat": 4,
 "nbformat_minor": 4
}
